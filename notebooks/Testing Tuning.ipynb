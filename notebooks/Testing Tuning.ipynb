{
 "cells": [
  {
   "cell_type": "code",
   "execution_count": 27,
   "metadata": {},
   "outputs": [],
   "source": [
    "import logging\n",
    "import os\n",
    "\n",
    "import pandas as pd\n",
    "import numpy as np\n",
    "from btb.tuning import Tunable\n",
    "from mlblocks import MLPipeline\n",
    "from sklearn.model_selection import KFold, StratifiedKFold\n",
    "\n",
    "from orion import MLBLOCKS_PIPELINES\n",
    "from orion.evaluation import CONTEXTUAL_METRICS as METRICS"
   ]
  },
  {
   "cell_type": "code",
   "execution_count": 2,
   "metadata": {},
   "outputs": [],
   "source": [
    "from orion.data import load_signal, load_anomalies\n",
    "\n",
    "signal = 'S-1'\n",
    "\n",
    "data = load_signal(signal)\n",
    "anomalies = load_anomalies(signal)"
   ]
  },
  {
   "cell_type": "code",
   "execution_count": 12,
   "metadata": {},
   "outputs": [
    {
     "data": {
      "text/plain": [
       "(10149, 2)"
      ]
     },
     "execution_count": 12,
     "metadata": {},
     "output_type": "execute_result"
    }
   ],
   "source": [
    "data.shape"
   ]
  },
  {
   "cell_type": "code",
   "execution_count": 22,
   "metadata": {},
   "outputs": [
    {
     "name": "stdout",
     "output_type": "stream",
     "text": [
      "TRAIN: [ 5075  5076  5077 ... 10146 10147 10148] TEST: [   0    1    2 ... 5072 5073 5074]\n",
      "TRAIN: [   0    1    2 ... 5072 5073 5074] TEST: [ 5075  5076  5077 ... 10146 10147 10148]\n"
     ]
    }
   ],
   "source": [
    "def _expand(data, anomalies):\n",
    "    time_column = 'timestamp'\n",
    "    X = data.copy()\n",
    "\n",
    "    X = X.set_index(time_column)\n",
    "    X['label'] = [0] * len(X)\n",
    "    for i, anom in anomalies.iterrows():\n",
    "        X.loc[anom[0]: anom[1], 'label'] = 1\n",
    "\n",
    "    return X.reset_index()\n",
    "\n",
    "def _compress(data):\n",
    "    time_column = 'timestamp'\n",
    "    X = data.copy()\n",
    "    \n",
    "    X = X.set_index(time_column)\n",
    "    y = list()\n",
    "    \n",
    "    return anomalies\n",
    "\n",
    "def _get_split(data, index):\n",
    "    X = data.iloc[index]\n",
    "    y = _compress(X)\n",
    "    return X, y\n",
    "\n",
    "n_splits = 2\n",
    "cv = KFold(n_splits=n_splits, shuffle=False, random_state=None)\n",
    "\n",
    "X = _expand(data, anomalies)\n",
    "for train_index, test_index in cv.split(X):\n",
    "    print(\"TRAIN:\", train_index, \"TEST:\", test_index)\n",
    "    X_train = _get_split(data, train)\n",
    "    X_test = _get_split(data, test)"
   ]
  },
  {
   "cell_type": "code",
   "execution_count": 18,
   "metadata": {},
   "outputs": [],
   "source": [
    "X = _expand(data, anomalies)"
   ]
  },
  {
   "cell_type": "code",
   "execution_count": 24,
   "metadata": {},
   "outputs": [],
   "source": [
    "X = pd.DataFrame({\n",
    "    \"timestamp\": list(range(10)),\n",
    "    \"value\": [-9] * 10,\n",
    "    \"label\": [0, 0, 1, 1, 0, 0, 0, 1, 1, 1]\n",
    "})"
   ]
  },
  {
   "cell_type": "code",
   "execution_count": 25,
   "metadata": {},
   "outputs": [
    {
     "name": "stdout",
     "output_type": "stream",
     "text": [
      "   timestamp  value  label\n",
      "0          0     -9      0\n",
      "1          1     -9      0\n",
      "4          4     -9      0\n",
      "5          5     -9      0\n",
      "6          6     -9      0\n",
      "\n",
      "   timestamp  value  label\n",
      "2          2     -9      1\n",
      "3          3     -9      1\n",
      "7          7     -9      1\n",
      "8          8     -9      1\n",
      "9          9     -9      1\n"
     ]
    }
   ],
   "source": [
    "list_of_df = [d for _, d in X.groupby('label')]\n",
    "print(*list_of_df, sep=\"\\n\\n\")"
   ]
  },
  {
   "cell_type": "code",
   "execution_count": 29,
   "metadata": {},
   "outputs": [
    {
     "name": "stdout",
     "output_type": "stream",
     "text": [
      "   timestamp  value  label\n",
      "0          0     -9      0\n",
      "1          1     -9      0\n",
      "\n",
      "   timestamp  value  label\n",
      "2          2     -9      1\n",
      "3          3     -9      1\n",
      "\n",
      "   timestamp  value  label\n",
      "4          4     -9      0\n",
      "5          5     -9      0\n",
      "6          6     -9      0\n",
      "\n",
      "   timestamp  value  label\n",
      "7          7     -9      1\n",
      "8          8     -9      1\n",
      "9          9     -9      1\n"
     ]
    }
   ],
   "source": [
    "list_of_df = np.split(X, np.flatnonzero(np.diff(X.label) != 0) + 1)\n",
    "print(*list_of_df, sep=\"\\n\\n\")"
   ]
  }
 ],
 "metadata": {
  "kernelspec": {
   "display_name": "orion",
   "language": "python",
   "name": "orion"
  },
  "language_info": {
   "codemirror_mode": {
    "name": "ipython",
    "version": 3
   },
   "file_extension": ".py",
   "mimetype": "text/x-python",
   "name": "python",
   "nbconvert_exporter": "python",
   "pygments_lexer": "ipython3",
   "version": "3.6.10"
  }
 },
 "nbformat": 4,
 "nbformat_minor": 4
}
