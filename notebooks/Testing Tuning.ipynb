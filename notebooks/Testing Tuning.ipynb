{
 "cells": [
  {
   "cell_type": "code",
   "execution_count": 1,
   "id": "0d832442",
   "metadata": {},
   "outputs": [],
   "source": [
    "import logging\n",
    "\n",
    "from orion.data import load_signal, load_anomalies\n",
    "from orion.tune import OrionTuner"
   ]
  },
  {
   "cell_type": "code",
   "execution_count": 2,
   "id": "42437fe7",
   "metadata": {},
   "outputs": [
    {
     "name": "stderr",
     "output_type": "stream",
     "text": [
      "DEBUG:root:test\n"
     ]
    }
   ],
   "source": [
    "logger = logging.getLogger()\n",
    "logger.setLevel(logging.DEBUG)\n",
    "logging.debug(\"test\")"
   ]
  },
  {
   "cell_type": "code",
   "execution_count": 3,
   "id": "57697c60",
   "metadata": {},
   "outputs": [],
   "source": [
    "signal = 'E-1'\n",
    "\n",
    "data = load_signal(signal)\n",
    "train = load_signal(signal + '-train')\n",
    "anomalies = load_anomalies(signal)"
   ]
  },
  {
   "cell_type": "code",
   "execution_count": 4,
   "id": "06b1224c",
   "metadata": {},
   "outputs": [
    {
     "name": "stderr",
     "output_type": "stream",
     "text": [
      "DEBUG:mlblocks.discovery:Loading lstm_dynamic_threshold from /home/smish/miniconda/envs/orion-tuning/lib/python3.7/site-packages/orion/pipelines/verified/lstm_dynamic_threshold/lstm_dynamic_threshold.json\n",
      "DEBUG:mlblocks.discovery:Loading mlprimitives.custom.timeseries_preprocessing.time_segments_aggregate from /home/smish/miniconda/envs/orion-tuning/lib/python3.7/site-packages/mlprimitives/primitives/mlprimitives.custom.timeseries_preprocessing.time_segments_aggregate.json\n",
      "DEBUG:mlblocks.discovery:Loading sklearn.impute.SimpleImputer from /home/smish/miniconda/envs/orion-tuning/lib/python3.7/site-packages/mlprimitives/primitives/sklearn.impute.SimpleImputer.json\n",
      "DEBUG:mlblocks.mlblock:Creating a new primitive instance for sklearn.impute.SimpleImputer\n",
      "DEBUG:mlblocks.discovery:Loading sklearn.preprocessing.MinMaxScaler from /home/smish/miniconda/envs/orion-tuning/lib/python3.7/site-packages/mlprimitives/primitives/sklearn.preprocessing.MinMaxScaler.json\n",
      "DEBUG:mlblocks.mlblock:Creating a new primitive instance for sklearn.preprocessing.MinMaxScaler\n",
      "DEBUG:mlblocks.discovery:Loading mlprimitives.custom.timeseries_preprocessing.rolling_window_sequences from /home/smish/miniconda/envs/orion-tuning/lib/python3.7/site-packages/mlprimitives/primitives/mlprimitives.custom.timeseries_preprocessing.rolling_window_sequences.json\n",
      "DEBUG:mlblocks.discovery:Loading keras.Sequential.LSTMTimeSeriesRegressor from /home/smish/miniconda/envs/orion-tuning/lib/python3.7/site-packages/mlprimitives/primitives/keras.Sequential.LSTMTimeSeriesRegressor.json\n",
      "Using TensorFlow backend.\n",
      "DEBUG:mlblocks.mlblock:Creating a new primitive instance for keras.Sequential.LSTMTimeSeriesRegressor\n",
      "DEBUG:mlblocks.discovery:Loading orion.primitives.timeseries_errors.regression_errors from /home/smish/miniconda/envs/orion-tuning/lib/python3.7/site-packages/orion/primitives/jsons/orion.primitives.timeseries_errors.regression_errors.json\n",
      "DEBUG:mlblocks.discovery:Loading orion.primitives.timeseries_anomalies.find_anomalies from /home/smish/miniconda/envs/orion-tuning/lib/python3.7/site-packages/orion/primitives/jsons/orion.primitives.timeseries_anomalies.find_anomalies.json\n",
      "DEBUG:mlblocks.mlblock:Creating a new primitive instance for keras.Sequential.LSTMTimeSeriesRegressor\n"
     ]
    }
   ],
   "source": [
    "hyperparameters = {\n",
    "    \"keras.Sequential.LSTMTimeSeriesRegressor#1\": {\n",
    "        'epochs': 35,\n",
    "        'verbose': True\n",
    "    },\n",
    "    \"orion.primitives.timeseries_anomalies.find_anomalies#1\": {\n",
    "        \"fixed_threshold\": False\n",
    "    }\n",
    "}\n",
    "\n",
    "ort = OrionTuner(\n",
    "    pipeline=\"lstm_dynamic_threshold\",\n",
    "    hyperparameters=hyperparameters\n",
    ")"
   ]
  },
  {
   "cell_type": "code",
   "execution_count": 5,
   "id": "7eb06857",
   "metadata": {},
   "outputs": [
    {
     "name": "stderr",
     "output_type": "stream",
     "text": [
      "DEBUG:mlblocks.mlblock:Creating a new primitive instance for sklearn.impute.SimpleImputer\n",
      "DEBUG:mlblocks.mlblock:Creating a new primitive instance for sklearn.preprocessing.MinMaxScaler\n",
      "DEBUG:mlblocks.mlblock:Creating a new primitive instance for keras.Sequential.LSTMTimeSeriesRegressor\n",
      "DEBUG:mlblocks.mlblock:Creating a new primitive instance for keras.Sequential.LSTMTimeSeriesRegressor\n",
      "DEBUG:mlblocks.mlblock:Creating a new primitive instance for sklearn.impute.SimpleImputer\n",
      "DEBUG:mlblocks.mlblock:Creating a new primitive instance for sklearn.preprocessing.MinMaxScaler\n",
      "DEBUG:mlblocks.mlblock:Creating a new primitive instance for keras.Sequential.LSTMTimeSeriesRegressor\n",
      "DEBUG:mlblocks.mlblock:Creating a new primitive instance for sklearn.impute.SimpleImputer\n",
      "DEBUG:mlblocks.mlblock:Creating a new primitive instance for sklearn.preprocessing.MinMaxScaler\n",
      "DEBUG:mlblocks.mlblock:Creating a new primitive instance for keras.Sequential.LSTMTimeSeriesRegressor\n",
      "DEBUG:orion.tune:Training the base pipeline ['mlprimitives.custom.timeseries_preprocessing.time_segments_aggregate', 'sklearn.impute.SimpleImputer', 'sklearn.preprocessing.MinMaxScaler', 'mlprimitives.custom.timeseries_preprocessing.rolling_window_sequences', 'keras.Sequential.LSTMTimeSeriesRegressor']\n",
      "DEBUG:mlblocks.mlpipeline:Fitting block mlprimitives.custom.timeseries_preprocessing.time_segments_aggregate#1\n",
      "DEBUG:mlblocks.mlpipeline:Producing block mlprimitives.custom.timeseries_preprocessing.time_segments_aggregate#1\n",
      "DEBUG:mlblocks.mlpipeline:Fitting block sklearn.impute.SimpleImputer#1\n",
      "DEBUG:mlblocks.mlpipeline:Producing block sklearn.impute.SimpleImputer#1\n",
      "DEBUG:mlblocks.mlpipeline:Fitting block sklearn.preprocessing.MinMaxScaler#1\n",
      "DEBUG:mlblocks.mlpipeline:Producing block sklearn.preprocessing.MinMaxScaler#1\n",
      "DEBUG:mlblocks.mlpipeline:Fitting block mlprimitives.custom.timeseries_preprocessing.rolling_window_sequences#1\n",
      "DEBUG:mlblocks.mlpipeline:Producing block mlprimitives.custom.timeseries_preprocessing.rolling_window_sequences#1\n",
      "DEBUG:mlblocks.mlpipeline:Fitting block keras.Sequential.LSTMTimeSeriesRegressor#1\n",
      "WARNING:tensorflow:From /home/smish/miniconda/envs/orion-tuning/lib/python3.7/site-packages/tensorflow_core/python/ops/resource_variable_ops.py:1630: calling BaseResourceVariable.__init__ (from tensorflow.python.ops.resource_variable_ops) with constraint is deprecated and will be removed in a future version.\n",
      "Instructions for updating:\n",
      "If using Keras pass *_constraint arguments to layers.\n",
      "2021-10-15 22:57:16.816026: I tensorflow/core/platform/cpu_feature_guard.cc:142] Your CPU supports instructions that this TensorFlow binary was not compiled to use: AVX2 AVX512F FMA\n",
      "2021-10-15 22:57:16.839405: I tensorflow/core/platform/profile_utils/cpu_utils.cc:94] CPU Frequency: 2899885000 Hz\n",
      "2021-10-15 22:57:16.840297: I tensorflow/compiler/xla/service/service.cc:168] XLA service 0x563a43ab7aa0 initialized for platform Host (this does not guarantee that XLA will be used). Devices:\n",
      "2021-10-15 22:57:16.840327: I tensorflow/compiler/xla/service/service.cc:176]   StreamExecutor device (0): Host, Default Version\n",
      "WARNING:tensorflow:From /home/smish/miniconda/envs/orion-tuning/lib/python3.7/site-packages/keras/backend/tensorflow_backend.py:422: The name tf.global_variables is deprecated. Please use tf.compat.v1.global_variables instead.\n",
      "\n"
     ]
    },
    {
     "name": "stdout",
     "output_type": "stream",
     "text": [
      "Train on 2104 samples, validate on 526 samples\n",
      "Epoch 1/35\n",
      "2104/2104 [==============================] - 9s 4ms/step - loss: 0.4446 - mse: 0.4446 - val_loss: 0.2100 - val_mse: 0.2100\n",
      "Epoch 2/35\n",
      "2104/2104 [==============================] - 9s 4ms/step - loss: 0.2118 - mse: 0.2118 - val_loss: 0.1689 - val_mse: 0.1689\n",
      "Epoch 3/35\n",
      "2104/2104 [==============================] - 9s 4ms/step - loss: 0.1836 - mse: 0.1836 - val_loss: 0.1345 - val_mse: 0.1345\n",
      "Epoch 4/35\n",
      "2104/2104 [==============================] - 9s 4ms/step - loss: 0.1623 - mse: 0.1623 - val_loss: 0.1353 - val_mse: 0.1353\n",
      "Epoch 5/35\n",
      "2104/2104 [==============================] - 9s 4ms/step - loss: 0.1586 - mse: 0.1586 - val_loss: 0.1187 - val_mse: 0.1187\n",
      "Epoch 6/35\n",
      "2104/2104 [==============================] - 9s 4ms/step - loss: 0.1438 - mse: 0.1438 - val_loss: 0.1205 - val_mse: 0.1205\n",
      "Epoch 7/35\n",
      "2104/2104 [==============================] - 9s 4ms/step - loss: 0.1345 - mse: 0.1345 - val_loss: 0.1155 - val_mse: 0.1155\n",
      "Epoch 8/35\n",
      "2104/2104 [==============================] - 9s 4ms/step - loss: 0.1278 - mse: 0.1278 - val_loss: 0.1049 - val_mse: 0.1049\n",
      "Epoch 9/35\n",
      "2104/2104 [==============================] - 9s 5ms/step - loss: 0.1219 - mse: 0.1219 - val_loss: 0.0873 - val_mse: 0.0873\n",
      "Epoch 10/35\n",
      "2104/2104 [==============================] - 9s 4ms/step - loss: 0.1190 - mse: 0.1190 - val_loss: 0.0822 - val_mse: 0.0822\n",
      "Epoch 11/35\n",
      "2104/2104 [==============================] - 9s 4ms/step - loss: 0.1228 - mse: 0.1228 - val_loss: 0.0858 - val_mse: 0.0858\n",
      "Epoch 12/35\n",
      "2104/2104 [==============================] - 9s 4ms/step - loss: 0.1101 - mse: 0.1101 - val_loss: 0.0818 - val_mse: 0.0818\n",
      "Epoch 13/35\n",
      "2104/2104 [==============================] - 9s 4ms/step - loss: 0.1108 - mse: 0.1108 - val_loss: 0.0815 - val_mse: 0.0815\n",
      "Epoch 14/35\n",
      "2104/2104 [==============================] - 9s 4ms/step - loss: 0.1065 - mse: 0.1065 - val_loss: 0.0814 - val_mse: 0.0814\n",
      "Epoch 15/35\n",
      "2104/2104 [==============================] - 9s 4ms/step - loss: 0.1200 - mse: 0.1200 - val_loss: 0.0902 - val_mse: 0.0902\n",
      "Epoch 16/35\n",
      "2104/2104 [==============================] - 10s 5ms/step - loss: 0.1120 - mse: 0.1120 - val_loss: 0.0777 - val_mse: 0.0777\n",
      "Epoch 17/35\n",
      "2104/2104 [==============================] - 9s 4ms/step - loss: 0.1089 - mse: 0.1089 - val_loss: 0.0880 - val_mse: 0.0880\n",
      "Epoch 18/35\n",
      "2104/2104 [==============================] - 9s 4ms/step - loss: 0.1047 - mse: 0.1047 - val_loss: 0.0779 - val_mse: 0.0779\n",
      "Epoch 19/35\n",
      "2104/2104 [==============================] - 9s 4ms/step - loss: 0.1036 - mse: 0.1036 - val_loss: 0.0818 - val_mse: 0.0818\n",
      "Epoch 20/35\n",
      "2104/2104 [==============================] - 9s 4ms/step - loss: 0.1008 - mse: 0.1008 - val_loss: 0.0779 - val_mse: 0.0779\n",
      "Epoch 21/35\n",
      "2104/2104 [==============================] - 9s 4ms/step - loss: 0.1001 - mse: 0.1001 - val_loss: 0.0829 - val_mse: 0.0829\n",
      "Epoch 22/35\n",
      "2104/2104 [==============================] - 9s 4ms/step - loss: 0.1075 - mse: 0.1075 - val_loss: 0.0953 - val_mse: 0.0953\n",
      "Epoch 23/35\n",
      "2104/2104 [==============================] - 9s 4ms/step - loss: 0.1014 - mse: 0.1014 - val_loss: 0.0760 - val_mse: 0.0760\n",
      "Epoch 24/35\n",
      "2104/2104 [==============================] - 9s 4ms/step - loss: 0.1017 - mse: 0.1017 - val_loss: 0.0826 - val_mse: 0.0826\n",
      "Epoch 25/35\n",
      "2104/2104 [==============================] - 9s 4ms/step - loss: 0.0987 - mse: 0.0987 - val_loss: 0.0788 - val_mse: 0.0788\n",
      "Epoch 26/35\n",
      "2104/2104 [==============================] - 9s 4ms/step - loss: 0.1016 - mse: 0.1016 - val_loss: 0.0852 - val_mse: 0.0852\n",
      "Epoch 27/35\n",
      "2104/2104 [==============================] - 9s 4ms/step - loss: 0.1019 - mse: 0.1019 - val_loss: 0.0789 - val_mse: 0.0789\n",
      "Epoch 28/35\n",
      "2104/2104 [==============================] - 9s 4ms/step - loss: 0.0992 - mse: 0.0992 - val_loss: 0.0832 - val_mse: 0.0832\n",
      "Epoch 29/35\n",
      "2104/2104 [==============================] - 9s 4ms/step - loss: 0.0991 - mse: 0.0991 - val_loss: 0.0795 - val_mse: 0.0795\n",
      "Epoch 30/35\n",
      "2104/2104 [==============================] - 9s 4ms/step - loss: 0.0987 - mse: 0.0987 - val_loss: 0.0793 - val_mse: 0.0793\n",
      "Epoch 31/35\n",
      "2104/2104 [==============================] - 9s 4ms/step - loss: 0.0982 - mse: 0.0982 - val_loss: 0.0805 - val_mse: 0.0805\n",
      "Epoch 32/35\n",
      "2104/2104 [==============================] - 9s 4ms/step - loss: 0.1002 - mse: 0.1002 - val_loss: 0.0793 - val_mse: 0.0793\n",
      "Epoch 33/35\n",
      "2104/2104 [==============================] - 9s 4ms/step - loss: 0.1083 - mse: 0.1083 - val_loss: 0.0799 - val_mse: 0.0799\n"
     ]
    },
    {
     "name": "stderr",
     "output_type": "stream",
     "text": [
      "DEBUG:mlblocks.mlpipeline:Producing block mlprimitives.custom.timeseries_preprocessing.time_segments_aggregate#1\n",
      "DEBUG:mlblocks.mlpipeline:Producing block sklearn.impute.SimpleImputer#1\n",
      "DEBUG:mlblocks.mlpipeline:Producing block sklearn.preprocessing.MinMaxScaler#1\n",
      "DEBUG:mlblocks.mlpipeline:Producing block mlprimitives.custom.timeseries_preprocessing.rolling_window_sequences#1\n",
      "DEBUG:mlblocks.mlpipeline:Producing block keras.Sequential.LSTMTimeSeriesRegressor#1\n"
     ]
    },
    {
     "name": "stdout",
     "output_type": "stream",
     "text": [
      "7347/7347 [==============================] - 9s 1ms/step\n"
     ]
    },
    {
     "name": "stderr",
     "output_type": "stream",
     "text": [
      "DEBUG:mlblocks.mlpipeline:Producing block mlprimitives.custom.timeseries_preprocessing.time_segments_aggregate#1\n",
      "DEBUG:mlblocks.mlpipeline:Producing block sklearn.impute.SimpleImputer#1\n",
      "DEBUG:mlblocks.mlpipeline:Producing block sklearn.preprocessing.MinMaxScaler#1\n",
      "DEBUG:mlblocks.mlpipeline:Producing block mlprimitives.custom.timeseries_preprocessing.rolling_window_sequences#1\n",
      "DEBUG:mlblocks.mlpipeline:Producing block keras.Sequential.LSTMTimeSeriesRegressor#1\n"
     ]
    },
    {
     "name": "stdout",
     "output_type": "stream",
     "text": [
      "3549/3549 [==============================] - 4s 1ms/step\n"
     ]
    },
    {
     "name": "stderr",
     "output_type": "stream",
     "text": [
      "DEBUG:mlblocks.mlpipeline:Fitting block orion.primitives.timeseries_errors.regression_errors#1\n",
      "DEBUG:mlblocks.mlpipeline:Producing block orion.primitives.timeseries_errors.regression_errors#1\n",
      "DEBUG:mlblocks.mlpipeline:Fitting block orion.primitives.timeseries_anomalies.find_anomalies#1\n",
      "DEBUG:mlblocks.mlpipeline:Producing block orion.primitives.timeseries_errors.regression_errors#1\n",
      "DEBUG:mlblocks.mlpipeline:Producing block orion.primitives.timeseries_anomalies.find_anomalies#1\n",
      "/home/smish/miniconda/envs/orion-tuning/lib/python3.7/site-packages/scipy/optimize/optimize.py:761: RuntimeWarning: invalid value encountered in subtract\n",
      "  np.max(np.abs(fsim[0] - fsim[1:])) <= fatol):\n",
      "/home/smish/miniconda/envs/orion-tuning/lib/python3.7/site-packages/scipy/optimize/optimize.py:761: RuntimeWarning: invalid value encountered in subtract\n",
      "  np.max(np.abs(fsim[0] - fsim[1:])) <= fatol):\n",
      "/home/smish/miniconda/envs/orion-tuning/lib/python3.7/site-packages/scipy/optimize/optimize.py:761: RuntimeWarning: invalid value encountered in subtract\n",
      "  np.max(np.abs(fsim[0] - fsim[1:])) <= fatol):\n",
      "/home/smish/miniconda/envs/orion-tuning/lib/python3.7/site-packages/scipy/optimize/optimize.py:761: RuntimeWarning: invalid value encountered in subtract\n",
      "  np.max(np.abs(fsim[0] - fsim[1:])) <= fatol):\n",
      "/home/smish/miniconda/envs/orion-tuning/lib/python3.7/site-packages/scipy/optimize/optimize.py:761: RuntimeWarning: invalid value encountered in subtract\n",
      "  np.max(np.abs(fsim[0] - fsim[1:])) <= fatol):\n",
      "/home/smish/miniconda/envs/orion-tuning/lib/python3.7/site-packages/scipy/optimize/optimize.py:761: RuntimeWarning: invalid value encountered in subtract\n",
      "  np.max(np.abs(fsim[0] - fsim[1:])) <= fatol):\n",
      "/home/smish/miniconda/envs/orion-tuning/lib/python3.7/site-packages/scipy/optimize/optimize.py:761: RuntimeWarning: invalid value encountered in subtract\n",
      "  np.max(np.abs(fsim[0] - fsim[1:])) <= fatol):\n",
      "/home/smish/miniconda/envs/orion-tuning/lib/python3.7/site-packages/scipy/optimize/optimize.py:761: RuntimeWarning: invalid value encountered in subtract\n",
      "  np.max(np.abs(fsim[0] - fsim[1:])) <= fatol):\n",
      "/home/smish/miniconda/envs/orion-tuning/lib/python3.7/site-packages/scipy/optimize/optimize.py:761: RuntimeWarning: invalid value encountered in subtract\n",
      "  np.max(np.abs(fsim[0] - fsim[1:])) <= fatol):\n",
      "/home/smish/miniconda/envs/orion-tuning/lib/python3.7/site-packages/scipy/optimize/optimize.py:761: RuntimeWarning: invalid value encountered in subtract\n",
      "  np.max(np.abs(fsim[0] - fsim[1:])) <= fatol):\n",
      "/home/smish/miniconda/envs/orion-tuning/lib/python3.7/site-packages/scipy/optimize/optimize.py:761: RuntimeWarning: invalid value encountered in subtract\n",
      "  np.max(np.abs(fsim[0] - fsim[1:])) <= fatol):\n",
      "/home/smish/miniconda/envs/orion-tuning/lib/python3.7/site-packages/scipy/optimize/optimize.py:761: RuntimeWarning: invalid value encountered in subtract\n",
      "  np.max(np.abs(fsim[0] - fsim[1:])) <= fatol):\n",
      "/home/smish/miniconda/envs/orion-tuning/lib/python3.7/site-packages/scipy/optimize/optimize.py:761: RuntimeWarning: invalid value encountered in subtract\n",
      "  np.max(np.abs(fsim[0] - fsim[1:])) <= fatol):\n",
      "/home/smish/miniconda/envs/orion-tuning/lib/python3.7/site-packages/scipy/optimize/optimize.py:761: RuntimeWarning: invalid value encountered in subtract\n",
      "  np.max(np.abs(fsim[0] - fsim[1:])) <= fatol):\n",
      "/home/smish/miniconda/envs/orion-tuning/lib/python3.7/site-packages/scipy/optimize/optimize.py:761: RuntimeWarning: invalid value encountered in subtract\n",
      "  np.max(np.abs(fsim[0] - fsim[1:])) <= fatol):\n",
      "/home/smish/miniconda/envs/orion-tuning/lib/python3.7/site-packages/scipy/optimize/optimize.py:761: RuntimeWarning: invalid value encountered in subtract\n",
      "  np.max(np.abs(fsim[0] - fsim[1:])) <= fatol):\n",
      "/home/smish/miniconda/envs/orion-tuning/lib/python3.7/site-packages/scipy/optimize/optimize.py:761: RuntimeWarning: invalid value encountered in subtract\n",
      "  np.max(np.abs(fsim[0] - fsim[1:])) <= fatol):\n",
      "/home/smish/miniconda/envs/orion-tuning/lib/python3.7/site-packages/scipy/optimize/optimize.py:761: RuntimeWarning: invalid value encountered in subtract\n",
      "  np.max(np.abs(fsim[0] - fsim[1:])) <= fatol):\n",
      "/home/smish/miniconda/envs/orion-tuning/lib/python3.7/site-packages/scipy/optimize/optimize.py:761: RuntimeWarning: invalid value encountered in subtract\n",
      "  np.max(np.abs(fsim[0] - fsim[1:])) <= fatol):\n",
      "/home/smish/miniconda/envs/orion-tuning/lib/python3.7/site-packages/scipy/optimize/optimize.py:761: RuntimeWarning: invalid value encountered in subtract\n",
      "  np.max(np.abs(fsim[0] - fsim[1:])) <= fatol):\n",
      "/home/smish/miniconda/envs/orion-tuning/lib/python3.7/site-packages/scipy/optimize/optimize.py:761: RuntimeWarning: invalid value encountered in subtract\n",
      "  np.max(np.abs(fsim[0] - fsim[1:])) <= fatol):\n",
      "/home/smish/miniconda/envs/orion-tuning/lib/python3.7/site-packages/scipy/optimize/optimize.py:761: RuntimeWarning: invalid value encountered in subtract\n",
      "  np.max(np.abs(fsim[0] - fsim[1:])) <= fatol):\n",
      "DEBUG:orion.tune:Actual {'start': {}, 'end': {}} - Found []\n",
      "/home/smish/miniconda/envs/orion-tuning/lib/python3.7/site-packages/orion/evaluation/common.py:43: RuntimeWarning: invalid value encountered in long_scalars\n",
      "  return tp / (tp + fp)\n",
      "/home/smish/miniconda/envs/orion-tuning/lib/python3.7/site-packages/orion/evaluation/common.py:56: RuntimeWarning: invalid value encountered in long_scalars\n",
      "  return tp / (tp + fn)\n",
      "DEBUG:mlblocks.mlpipeline:Producing block mlprimitives.custom.timeseries_preprocessing.time_segments_aggregate#1\n",
      "DEBUG:mlblocks.mlpipeline:Producing block sklearn.impute.SimpleImputer#1\n",
      "DEBUG:mlblocks.mlpipeline:Producing block sklearn.preprocessing.MinMaxScaler#1\n",
      "DEBUG:mlblocks.mlpipeline:Producing block mlprimitives.custom.timeseries_preprocessing.rolling_window_sequences#1\n",
      "DEBUG:mlblocks.mlpipeline:Producing block keras.Sequential.LSTMTimeSeriesRegressor#1\n"
     ]
    },
    {
     "name": "stdout",
     "output_type": "stream",
     "text": [
      "11146/11146 [==============================] - 14s 1ms/step\n"
     ]
    },
    {
     "name": "stderr",
     "output_type": "stream",
     "text": [
      "DEBUG:mlblocks.mlpipeline:Producing block mlprimitives.custom.timeseries_preprocessing.time_segments_aggregate#1\n",
      "DEBUG:mlblocks.mlpipeline:Producing block sklearn.impute.SimpleImputer#1\n",
      "DEBUG:mlblocks.mlpipeline:Producing block sklearn.preprocessing.MinMaxScaler#1\n",
      "DEBUG:mlblocks.mlpipeline:Producing block mlprimitives.custom.timeseries_preprocessing.rolling_window_sequences#1\n",
      "DEBUG:mlblocks.mlpipeline:Producing block keras.Sequential.LSTMTimeSeriesRegressor#1\n"
     ]
    },
    {
     "name": "stdout",
     "output_type": "stream",
     "text": [
      "3549/3549 [==============================] - 4s 1ms/step\n"
     ]
    },
    {
     "name": "stderr",
     "output_type": "stream",
     "text": [
      "DEBUG:mlblocks.mlpipeline:Fitting block orion.primitives.timeseries_errors.regression_errors#1\n",
      "DEBUG:mlblocks.mlpipeline:Producing block orion.primitives.timeseries_errors.regression_errors#1\n",
      "DEBUG:mlblocks.mlpipeline:Fitting block orion.primitives.timeseries_anomalies.find_anomalies#1\n",
      "DEBUG:mlblocks.mlpipeline:Producing block orion.primitives.timeseries_errors.regression_errors#1\n",
      "DEBUG:mlblocks.mlpipeline:Producing block orion.primitives.timeseries_anomalies.find_anomalies#1\n",
      "/home/smish/miniconda/envs/orion-tuning/lib/python3.7/site-packages/scipy/optimize/optimize.py:761: RuntimeWarning: invalid value encountered in subtract\n",
      "  np.max(np.abs(fsim[0] - fsim[1:])) <= fatol):\n",
      "/home/smish/miniconda/envs/orion-tuning/lib/python3.7/site-packages/scipy/optimize/optimize.py:761: RuntimeWarning: invalid value encountered in subtract\n",
      "  np.max(np.abs(fsim[0] - fsim[1:])) <= fatol):\n",
      "/home/smish/miniconda/envs/orion-tuning/lib/python3.7/site-packages/scipy/optimize/optimize.py:761: RuntimeWarning: invalid value encountered in subtract\n",
      "  np.max(np.abs(fsim[0] - fsim[1:])) <= fatol):\n",
      "/home/smish/miniconda/envs/orion-tuning/lib/python3.7/site-packages/scipy/optimize/optimize.py:761: RuntimeWarning: invalid value encountered in subtract\n",
      "  np.max(np.abs(fsim[0] - fsim[1:])) <= fatol):\n",
      "/home/smish/miniconda/envs/orion-tuning/lib/python3.7/site-packages/scipy/optimize/optimize.py:761: RuntimeWarning: invalid value encountered in subtract\n",
      "  np.max(np.abs(fsim[0] - fsim[1:])) <= fatol):\n",
      "/home/smish/miniconda/envs/orion-tuning/lib/python3.7/site-packages/scipy/optimize/optimize.py:761: RuntimeWarning: invalid value encountered in subtract\n",
      "  np.max(np.abs(fsim[0] - fsim[1:])) <= fatol):\n",
      "/home/smish/miniconda/envs/orion-tuning/lib/python3.7/site-packages/scipy/optimize/optimize.py:761: RuntimeWarning: invalid value encountered in subtract\n",
      "  np.max(np.abs(fsim[0] - fsim[1:])) <= fatol):\n",
      "/home/smish/miniconda/envs/orion-tuning/lib/python3.7/site-packages/scipy/optimize/optimize.py:761: RuntimeWarning: invalid value encountered in subtract\n",
      "  np.max(np.abs(fsim[0] - fsim[1:])) <= fatol):\n",
      "/home/smish/miniconda/envs/orion-tuning/lib/python3.7/site-packages/scipy/optimize/optimize.py:761: RuntimeWarning: invalid value encountered in subtract\n",
      "  np.max(np.abs(fsim[0] - fsim[1:])) <= fatol):\n",
      "/home/smish/miniconda/envs/orion-tuning/lib/python3.7/site-packages/scipy/optimize/optimize.py:761: RuntimeWarning: invalid value encountered in subtract\n",
      "  np.max(np.abs(fsim[0] - fsim[1:])) <= fatol):\n",
      "/home/smish/miniconda/envs/orion-tuning/lib/python3.7/site-packages/scipy/optimize/optimize.py:761: RuntimeWarning: invalid value encountered in subtract\n",
      "  np.max(np.abs(fsim[0] - fsim[1:])) <= fatol):\n",
      "/home/smish/miniconda/envs/orion-tuning/lib/python3.7/site-packages/scipy/optimize/optimize.py:761: RuntimeWarning: invalid value encountered in subtract\n",
      "  np.max(np.abs(fsim[0] - fsim[1:])) <= fatol):\n",
      "/home/smish/miniconda/envs/orion-tuning/lib/python3.7/site-packages/scipy/optimize/optimize.py:761: RuntimeWarning: invalid value encountered in subtract\n",
      "  np.max(np.abs(fsim[0] - fsim[1:])) <= fatol):\n",
      "/home/smish/miniconda/envs/orion-tuning/lib/python3.7/site-packages/scipy/optimize/optimize.py:761: RuntimeWarning: invalid value encountered in subtract\n",
      "  np.max(np.abs(fsim[0] - fsim[1:])) <= fatol):\n",
      "/home/smish/miniconda/envs/orion-tuning/lib/python3.7/site-packages/scipy/optimize/optimize.py:761: RuntimeWarning: invalid value encountered in subtract\n",
      "  np.max(np.abs(fsim[0] - fsim[1:])) <= fatol):\n",
      "/home/smish/miniconda/envs/orion-tuning/lib/python3.7/site-packages/scipy/optimize/optimize.py:761: RuntimeWarning: invalid value encountered in subtract\n",
      "  np.max(np.abs(fsim[0] - fsim[1:])) <= fatol):\n",
      "/home/smish/miniconda/envs/orion-tuning/lib/python3.7/site-packages/scipy/optimize/optimize.py:761: RuntimeWarning: invalid value encountered in subtract\n",
      "  np.max(np.abs(fsim[0] - fsim[1:])) <= fatol):\n",
      "/home/smish/miniconda/envs/orion-tuning/lib/python3.7/site-packages/scipy/optimize/optimize.py:761: RuntimeWarning: invalid value encountered in subtract\n",
      "  np.max(np.abs(fsim[0] - fsim[1:])) <= fatol):\n",
      "/home/smish/miniconda/envs/orion-tuning/lib/python3.7/site-packages/scipy/optimize/optimize.py:761: RuntimeWarning: invalid value encountered in subtract\n",
      "  np.max(np.abs(fsim[0] - fsim[1:])) <= fatol):\n",
      "/home/smish/miniconda/envs/orion-tuning/lib/python3.7/site-packages/scipy/optimize/optimize.py:761: RuntimeWarning: invalid value encountered in subtract\n",
      "  np.max(np.abs(fsim[0] - fsim[1:])) <= fatol):\n",
      "/home/smish/miniconda/envs/orion-tuning/lib/python3.7/site-packages/scipy/optimize/optimize.py:761: RuntimeWarning: invalid value encountered in subtract\n",
      "  np.max(np.abs(fsim[0] - fsim[1:])) <= fatol):\n",
      "/home/smish/miniconda/envs/orion-tuning/lib/python3.7/site-packages/scipy/optimize/optimize.py:761: RuntimeWarning: invalid value encountered in subtract\n",
      "  np.max(np.abs(fsim[0] - fsim[1:])) <= fatol):\n",
      "DEBUG:orion.tune:Actual {'start': {}, 'end': {}} - Found [[1.31027760e+09 1.31146560e+09 3.47208078e-02]]\n",
      "/home/smish/miniconda/envs/orion-tuning/lib/python3.7/site-packages/orion/evaluation/common.py:56: RuntimeWarning: invalid value encountered in long_scalars\n",
      "  return tp / (tp + fn)\n",
      "DEBUG:mlblocks.mlpipeline:Producing block mlprimitives.custom.timeseries_preprocessing.time_segments_aggregate#1\n",
      "DEBUG:mlblocks.mlpipeline:Producing block sklearn.impute.SimpleImputer#1\n",
      "DEBUG:mlblocks.mlpipeline:Producing block sklearn.preprocessing.MinMaxScaler#1\n",
      "DEBUG:mlblocks.mlpipeline:Producing block mlprimitives.custom.timeseries_preprocessing.rolling_window_sequences#1\n",
      "DEBUG:mlblocks.mlpipeline:Producing block keras.Sequential.LSTMTimeSeriesRegressor#1\n"
     ]
    },
    {
     "name": "stdout",
     "output_type": "stream",
     "text": [
      "7348/7348 [==============================] - 9s 1ms/step\n"
     ]
    },
    {
     "name": "stderr",
     "output_type": "stream",
     "text": [
      "DEBUG:mlblocks.mlpipeline:Producing block mlprimitives.custom.timeseries_preprocessing.time_segments_aggregate#1\n",
      "DEBUG:mlblocks.mlpipeline:Producing block sklearn.impute.SimpleImputer#1\n",
      "DEBUG:mlblocks.mlpipeline:Producing block sklearn.preprocessing.MinMaxScaler#1\n",
      "DEBUG:mlblocks.mlpipeline:Producing block mlprimitives.custom.timeseries_preprocessing.rolling_window_sequences#1\n",
      "DEBUG:mlblocks.mlpipeline:Producing block keras.Sequential.LSTMTimeSeriesRegressor#1\n"
     ]
    },
    {
     "name": "stdout",
     "output_type": "stream",
     "text": [
      "3548/3548 [==============================] - 5s 1ms/step\n"
     ]
    },
    {
     "name": "stderr",
     "output_type": "stream",
     "text": [
      "DEBUG:mlblocks.mlpipeline:Fitting block orion.primitives.timeseries_errors.regression_errors#1\n",
      "DEBUG:mlblocks.mlpipeline:Producing block orion.primitives.timeseries_errors.regression_errors#1\n",
      "DEBUG:mlblocks.mlpipeline:Fitting block orion.primitives.timeseries_anomalies.find_anomalies#1\n",
      "DEBUG:mlblocks.mlpipeline:Producing block orion.primitives.timeseries_errors.regression_errors#1\n",
      "DEBUG:mlblocks.mlpipeline:Producing block orion.primitives.timeseries_anomalies.find_anomalies#1\n",
      "/home/smish/miniconda/envs/orion-tuning/lib/python3.7/site-packages/scipy/optimize/optimize.py:761: RuntimeWarning: invalid value encountered in subtract\n",
      "  np.max(np.abs(fsim[0] - fsim[1:])) <= fatol):\n",
      "/home/smish/miniconda/envs/orion-tuning/lib/python3.7/site-packages/scipy/optimize/optimize.py:761: RuntimeWarning: invalid value encountered in subtract\n",
      "  np.max(np.abs(fsim[0] - fsim[1:])) <= fatol):\n",
      "/home/smish/miniconda/envs/orion-tuning/lib/python3.7/site-packages/scipy/optimize/optimize.py:761: RuntimeWarning: invalid value encountered in subtract\n",
      "  np.max(np.abs(fsim[0] - fsim[1:])) <= fatol):\n",
      "/home/smish/miniconda/envs/orion-tuning/lib/python3.7/site-packages/scipy/optimize/optimize.py:761: RuntimeWarning: invalid value encountered in subtract\n",
      "  np.max(np.abs(fsim[0] - fsim[1:])) <= fatol):\n",
      "/home/smish/miniconda/envs/orion-tuning/lib/python3.7/site-packages/scipy/optimize/optimize.py:761: RuntimeWarning: invalid value encountered in subtract\n",
      "  np.max(np.abs(fsim[0] - fsim[1:])) <= fatol):\n",
      "/home/smish/miniconda/envs/orion-tuning/lib/python3.7/site-packages/scipy/optimize/optimize.py:761: RuntimeWarning: invalid value encountered in subtract\n",
      "  np.max(np.abs(fsim[0] - fsim[1:])) <= fatol):\n",
      "/home/smish/miniconda/envs/orion-tuning/lib/python3.7/site-packages/scipy/optimize/optimize.py:761: RuntimeWarning: invalid value encountered in subtract\n",
      "  np.max(np.abs(fsim[0] - fsim[1:])) <= fatol):\n",
      "/home/smish/miniconda/envs/orion-tuning/lib/python3.7/site-packages/scipy/optimize/optimize.py:761: RuntimeWarning: invalid value encountered in subtract\n",
      "  np.max(np.abs(fsim[0] - fsim[1:])) <= fatol):\n",
      "/home/smish/miniconda/envs/orion-tuning/lib/python3.7/site-packages/scipy/optimize/optimize.py:761: RuntimeWarning: invalid value encountered in subtract\n",
      "  np.max(np.abs(fsim[0] - fsim[1:])) <= fatol):\n",
      "/home/smish/miniconda/envs/orion-tuning/lib/python3.7/site-packages/scipy/optimize/optimize.py:761: RuntimeWarning: invalid value encountered in subtract\n",
      "  np.max(np.abs(fsim[0] - fsim[1:])) <= fatol):\n",
      "/home/smish/miniconda/envs/orion-tuning/lib/python3.7/site-packages/scipy/optimize/optimize.py:761: RuntimeWarning: invalid value encountered in subtract\n",
      "  np.max(np.abs(fsim[0] - fsim[1:])) <= fatol):\n",
      "/home/smish/miniconda/envs/orion-tuning/lib/python3.7/site-packages/scipy/optimize/optimize.py:761: RuntimeWarning: invalid value encountered in subtract\n",
      "  np.max(np.abs(fsim[0] - fsim[1:])) <= fatol):\n",
      "/home/smish/miniconda/envs/orion-tuning/lib/python3.7/site-packages/scipy/optimize/optimize.py:761: RuntimeWarning: invalid value encountered in subtract\n",
      "  np.max(np.abs(fsim[0] - fsim[1:])) <= fatol):\n",
      "/home/smish/miniconda/envs/orion-tuning/lib/python3.7/site-packages/scipy/optimize/optimize.py:761: RuntimeWarning: invalid value encountered in subtract\n",
      "  np.max(np.abs(fsim[0] - fsim[1:])) <= fatol):\n",
      "/home/smish/miniconda/envs/orion-tuning/lib/python3.7/site-packages/scipy/optimize/optimize.py:761: RuntimeWarning: invalid value encountered in subtract\n",
      "  np.max(np.abs(fsim[0] - fsim[1:])) <= fatol):\n",
      "/home/smish/miniconda/envs/orion-tuning/lib/python3.7/site-packages/scipy/optimize/optimize.py:761: RuntimeWarning: invalid value encountered in subtract\n",
      "  np.max(np.abs(fsim[0] - fsim[1:])) <= fatol):\n",
      "/home/smish/miniconda/envs/orion-tuning/lib/python3.7/site-packages/scipy/optimize/optimize.py:761: RuntimeWarning: invalid value encountered in subtract\n",
      "  np.max(np.abs(fsim[0] - fsim[1:])) <= fatol):\n",
      "/home/smish/miniconda/envs/orion-tuning/lib/python3.7/site-packages/scipy/optimize/optimize.py:761: RuntimeWarning: invalid value encountered in subtract\n",
      "  np.max(np.abs(fsim[0] - fsim[1:])) <= fatol):\n",
      "/home/smish/miniconda/envs/orion-tuning/lib/python3.7/site-packages/scipy/optimize/optimize.py:761: RuntimeWarning: invalid value encountered in subtract\n",
      "  np.max(np.abs(fsim[0] - fsim[1:])) <= fatol):\n",
      "/home/smish/miniconda/envs/orion-tuning/lib/python3.7/site-packages/scipy/optimize/optimize.py:761: RuntimeWarning: invalid value encountered in subtract\n",
      "  np.max(np.abs(fsim[0] - fsim[1:])) <= fatol):\n",
      "/home/smish/miniconda/envs/orion-tuning/lib/python3.7/site-packages/scipy/optimize/optimize.py:761: RuntimeWarning: invalid value encountered in subtract\n",
      "  np.max(np.abs(fsim[0] - fsim[1:])) <= fatol):\n",
      "/home/smish/miniconda/envs/orion-tuning/lib/python3.7/site-packages/scipy/optimize/optimize.py:761: RuntimeWarning: invalid value encountered in subtract\n",
      "  np.max(np.abs(fsim[0] - fsim[1:])) <= fatol):\n",
      "DEBUG:orion.tune:Actual {'start': {0: 1393027200.0, 1: 1406203200.0}, 'end': {0: 1393675200.0, 1: 1416484800.0}} - Found [[1.39261680e+09 1.39499280e+09 4.78607837e-01]\n",
      " [1.40577120e+09 1.41270480e+09 4.43683252e-01]\n",
      " [1.42315920e+09 1.42538400e+09 1.75688835e-01]\n",
      " [1.45251360e+09 1.45473840e+09 9.45240477e-02]]\n",
      "DEBUG:btb.tuning.tuners.base:Creating GPTuner instance with 6 hyperparameters and cardinality inf.\n",
      "DEBUG:btb.tuning.tuners.base:Not enough samples recorded to generate predictions, generating random proposal.\n",
      "DEBUG:orion.tune:Scoring proposal 0: {('orion.primitives.timeseries_errors.regression_errors#1', 'smooth'): True, ('orion.primitives.timeseries_errors.regression_errors#1', 'smoothing_window'): 0.0371261064355285, ('orion.primitives.timeseries_anomalies.find_anomalies#1', 'window_size_portion'): 0.06005144136502046, ('orion.primitives.timeseries_anomalies.find_anomalies#1', 'window_step_size_portion'): 0.615678534219759, ('orion.primitives.timeseries_anomalies.find_anomalies#1', 'min_percent'): 0.24590535282849893, ('orion.primitives.timeseries_anomalies.find_anomalies#1', 'anomaly_padding'): 187}\n",
      "DEBUG:mlblocks.mlpipeline:Producing block mlprimitives.custom.timeseries_preprocessing.time_segments_aggregate#1\n",
      "DEBUG:mlblocks.mlpipeline:Producing block sklearn.impute.SimpleImputer#1\n",
      "DEBUG:mlblocks.mlpipeline:Producing block sklearn.preprocessing.MinMaxScaler#1\n",
      "DEBUG:mlblocks.mlpipeline:Producing block mlprimitives.custom.timeseries_preprocessing.rolling_window_sequences#1\n",
      "DEBUG:mlblocks.mlpipeline:Producing block keras.Sequential.LSTMTimeSeriesRegressor#1\n"
     ]
    },
    {
     "name": "stdout",
     "output_type": "stream",
     "text": [
      "7347/7347 [==============================] - 9s 1ms/step\n"
     ]
    },
    {
     "name": "stderr",
     "output_type": "stream",
     "text": [
      "DEBUG:mlblocks.mlpipeline:Producing block mlprimitives.custom.timeseries_preprocessing.time_segments_aggregate#1\n",
      "DEBUG:mlblocks.mlpipeline:Producing block sklearn.impute.SimpleImputer#1\n",
      "DEBUG:mlblocks.mlpipeline:Producing block sklearn.preprocessing.MinMaxScaler#1\n",
      "DEBUG:mlblocks.mlpipeline:Producing block mlprimitives.custom.timeseries_preprocessing.rolling_window_sequences#1\n",
      "DEBUG:mlblocks.mlpipeline:Producing block keras.Sequential.LSTMTimeSeriesRegressor#1\n"
     ]
    },
    {
     "name": "stdout",
     "output_type": "stream",
     "text": [
      "3549/3549 [==============================] - 4s 1ms/step\n"
     ]
    },
    {
     "name": "stderr",
     "output_type": "stream",
     "text": [
      "DEBUG:mlblocks.mlpipeline:Fitting block orion.primitives.timeseries_errors.regression_errors#1\n",
      "DEBUG:mlblocks.mlpipeline:Producing block orion.primitives.timeseries_errors.regression_errors#1\n",
      "DEBUG:mlblocks.mlpipeline:Fitting block orion.primitives.timeseries_anomalies.find_anomalies#1\n",
      "DEBUG:mlblocks.mlpipeline:Producing block orion.primitives.timeseries_errors.regression_errors#1\n",
      "DEBUG:mlblocks.mlpipeline:Producing block orion.primitives.timeseries_anomalies.find_anomalies#1\n",
      "/home/smish/miniconda/envs/orion-tuning/lib/python3.7/site-packages/scipy/optimize/optimize.py:761: RuntimeWarning: invalid value encountered in subtract\n",
      "  np.max(np.abs(fsim[0] - fsim[1:])) <= fatol):\n",
      "/home/smish/miniconda/envs/orion-tuning/lib/python3.7/site-packages/scipy/optimize/optimize.py:761: RuntimeWarning: invalid value encountered in subtract\n",
      "  np.max(np.abs(fsim[0] - fsim[1:])) <= fatol):\n",
      "/home/smish/miniconda/envs/orion-tuning/lib/python3.7/site-packages/scipy/optimize/optimize.py:761: RuntimeWarning: invalid value encountered in subtract\n",
      "  np.max(np.abs(fsim[0] - fsim[1:])) <= fatol):\n",
      "/home/smish/miniconda/envs/orion-tuning/lib/python3.7/site-packages/scipy/optimize/optimize.py:761: RuntimeWarning: invalid value encountered in subtract\n",
      "  np.max(np.abs(fsim[0] - fsim[1:])) <= fatol):\n",
      "/home/smish/miniconda/envs/orion-tuning/lib/python3.7/site-packages/scipy/optimize/optimize.py:761: RuntimeWarning: invalid value encountered in subtract\n",
      "  np.max(np.abs(fsim[0] - fsim[1:])) <= fatol):\n",
      "/home/smish/miniconda/envs/orion-tuning/lib/python3.7/site-packages/scipy/optimize/optimize.py:761: RuntimeWarning: invalid value encountered in subtract\n",
      "  np.max(np.abs(fsim[0] - fsim[1:])) <= fatol):\n",
      "/home/smish/miniconda/envs/orion-tuning/lib/python3.7/site-packages/scipy/optimize/optimize.py:761: RuntimeWarning: invalid value encountered in subtract\n",
      "  np.max(np.abs(fsim[0] - fsim[1:])) <= fatol):\n",
      "/home/smish/miniconda/envs/orion-tuning/lib/python3.7/site-packages/scipy/optimize/optimize.py:761: RuntimeWarning: invalid value encountered in subtract\n",
      "  np.max(np.abs(fsim[0] - fsim[1:])) <= fatol):\n",
      "/home/smish/miniconda/envs/orion-tuning/lib/python3.7/site-packages/scipy/optimize/optimize.py:761: RuntimeWarning: invalid value encountered in subtract\n",
      "  np.max(np.abs(fsim[0] - fsim[1:])) <= fatol):\n",
      "/home/smish/miniconda/envs/orion-tuning/lib/python3.7/site-packages/scipy/optimize/optimize.py:761: RuntimeWarning: invalid value encountered in subtract\n",
      "  np.max(np.abs(fsim[0] - fsim[1:])) <= fatol):\n",
      "/home/smish/miniconda/envs/orion-tuning/lib/python3.7/site-packages/scipy/optimize/optimize.py:761: RuntimeWarning: invalid value encountered in subtract\n",
      "  np.max(np.abs(fsim[0] - fsim[1:])) <= fatol):\n",
      "/home/smish/miniconda/envs/orion-tuning/lib/python3.7/site-packages/scipy/optimize/optimize.py:761: RuntimeWarning: invalid value encountered in subtract\n",
      "  np.max(np.abs(fsim[0] - fsim[1:])) <= fatol):\n",
      "/home/smish/miniconda/envs/orion-tuning/lib/python3.7/site-packages/scipy/optimize/optimize.py:761: RuntimeWarning: invalid value encountered in subtract\n",
      "  np.max(np.abs(fsim[0] - fsim[1:])) <= fatol):\n",
      "/home/smish/miniconda/envs/orion-tuning/lib/python3.7/site-packages/scipy/optimize/optimize.py:761: RuntimeWarning: invalid value encountered in subtract\n",
      "  np.max(np.abs(fsim[0] - fsim[1:])) <= fatol):\n",
      "/home/smish/miniconda/envs/orion-tuning/lib/python3.7/site-packages/scipy/optimize/optimize.py:761: RuntimeWarning: invalid value encountered in subtract\n",
      "  np.max(np.abs(fsim[0] - fsim[1:])) <= fatol):\n",
      "/home/smish/miniconda/envs/orion-tuning/lib/python3.7/site-packages/scipy/optimize/optimize.py:761: RuntimeWarning: invalid value encountered in subtract\n",
      "  np.max(np.abs(fsim[0] - fsim[1:])) <= fatol):\n",
      "/home/smish/miniconda/envs/orion-tuning/lib/python3.7/site-packages/scipy/optimize/optimize.py:761: RuntimeWarning: invalid value encountered in subtract\n",
      "  np.max(np.abs(fsim[0] - fsim[1:])) <= fatol):\n",
      "/home/smish/miniconda/envs/orion-tuning/lib/python3.7/site-packages/scipy/optimize/optimize.py:761: RuntimeWarning: invalid value encountered in subtract\n",
      "  np.max(np.abs(fsim[0] - fsim[1:])) <= fatol):\n",
      "/home/smish/miniconda/envs/orion-tuning/lib/python3.7/site-packages/scipy/optimize/optimize.py:761: RuntimeWarning: invalid value encountered in subtract\n",
      "  np.max(np.abs(fsim[0] - fsim[1:])) <= fatol):\n",
      "/home/smish/miniconda/envs/orion-tuning/lib/python3.7/site-packages/scipy/optimize/optimize.py:761: RuntimeWarning: invalid value encountered in subtract\n",
      "  np.max(np.abs(fsim[0] - fsim[1:])) <= fatol):\n",
      "/home/smish/miniconda/envs/orion-tuning/lib/python3.7/site-packages/scipy/optimize/optimize.py:761: RuntimeWarning: invalid value encountered in subtract\n",
      "  np.max(np.abs(fsim[0] - fsim[1:])) <= fatol):\n",
      "/home/smish/miniconda/envs/orion-tuning/lib/python3.7/site-packages/scipy/optimize/optimize.py:761: RuntimeWarning: invalid value encountered in subtract\n",
      "  np.max(np.abs(fsim[0] - fsim[1:])) <= fatol):\n",
      "/home/smish/miniconda/envs/orion-tuning/lib/python3.7/site-packages/scipy/optimize/optimize.py:761: RuntimeWarning: invalid value encountered in subtract\n",
      "  np.max(np.abs(fsim[0] - fsim[1:])) <= fatol):\n",
      "/home/smish/miniconda/envs/orion-tuning/lib/python3.7/site-packages/scipy/optimize/optimize.py:761: RuntimeWarning: invalid value encountered in subtract\n",
      "  np.max(np.abs(fsim[0] - fsim[1:])) <= fatol):\n",
      "/home/smish/miniconda/envs/orion-tuning/lib/python3.7/site-packages/scipy/optimize/optimize.py:761: RuntimeWarning: invalid value encountered in subtract\n",
      "  np.max(np.abs(fsim[0] - fsim[1:])) <= fatol):\n",
      "/home/smish/miniconda/envs/orion-tuning/lib/python3.7/site-packages/scipy/optimize/optimize.py:761: RuntimeWarning: invalid value encountered in subtract\n",
      "  np.max(np.abs(fsim[0] - fsim[1:])) <= fatol):\n",
      "/home/smish/miniconda/envs/orion-tuning/lib/python3.7/site-packages/scipy/optimize/optimize.py:761: RuntimeWarning: invalid value encountered in subtract\n",
      "  np.max(np.abs(fsim[0] - fsim[1:])) <= fatol):\n",
      "DEBUG:orion.tune:Actual {'start': {}, 'end': {}} - Found [[1.22821920e+09 1.28414160e+09 4.50747743e-02]\n",
      " [1.28524320e+09 1.30124880e+09 8.09248909e-02]\n",
      " [1.30235040e+09 1.30485600e+09 5.05474818e-02]]\n",
      "/home/smish/miniconda/envs/orion-tuning/lib/python3.7/site-packages/orion/evaluation/common.py:56: RuntimeWarning: invalid value encountered in long_scalars\n",
      "  return tp / (tp + fn)\n",
      "DEBUG:mlblocks.mlpipeline:Producing block mlprimitives.custom.timeseries_preprocessing.time_segments_aggregate#1\n",
      "DEBUG:mlblocks.mlpipeline:Producing block sklearn.impute.SimpleImputer#1\n",
      "DEBUG:mlblocks.mlpipeline:Producing block sklearn.preprocessing.MinMaxScaler#1\n",
      "DEBUG:mlblocks.mlpipeline:Producing block mlprimitives.custom.timeseries_preprocessing.rolling_window_sequences#1\n",
      "DEBUG:mlblocks.mlpipeline:Producing block keras.Sequential.LSTMTimeSeriesRegressor#1\n"
     ]
    },
    {
     "name": "stdout",
     "output_type": "stream",
     "text": [
      "11146/11146 [==============================] - 15s 1ms/step\n"
     ]
    },
    {
     "name": "stderr",
     "output_type": "stream",
     "text": [
      "DEBUG:mlblocks.mlpipeline:Producing block mlprimitives.custom.timeseries_preprocessing.time_segments_aggregate#1\n",
      "DEBUG:mlblocks.mlpipeline:Producing block sklearn.impute.SimpleImputer#1\n",
      "DEBUG:mlblocks.mlpipeline:Producing block sklearn.preprocessing.MinMaxScaler#1\n",
      "DEBUG:mlblocks.mlpipeline:Producing block mlprimitives.custom.timeseries_preprocessing.rolling_window_sequences#1\n",
      "DEBUG:mlblocks.mlpipeline:Producing block keras.Sequential.LSTMTimeSeriesRegressor#1\n"
     ]
    },
    {
     "name": "stdout",
     "output_type": "stream",
     "text": [
      "3549/3549 [==============================] - 4s 1ms/step\n"
     ]
    },
    {
     "name": "stderr",
     "output_type": "stream",
     "text": [
      "DEBUG:mlblocks.mlpipeline:Fitting block orion.primitives.timeseries_errors.regression_errors#1\n",
      "DEBUG:mlblocks.mlpipeline:Producing block orion.primitives.timeseries_errors.regression_errors#1\n",
      "DEBUG:mlblocks.mlpipeline:Fitting block orion.primitives.timeseries_anomalies.find_anomalies#1\n",
      "DEBUG:mlblocks.mlpipeline:Producing block orion.primitives.timeseries_errors.regression_errors#1\n",
      "DEBUG:mlblocks.mlpipeline:Producing block orion.primitives.timeseries_anomalies.find_anomalies#1\n",
      "/home/smish/miniconda/envs/orion-tuning/lib/python3.7/site-packages/scipy/optimize/optimize.py:761: RuntimeWarning: invalid value encountered in subtract\n",
      "  np.max(np.abs(fsim[0] - fsim[1:])) <= fatol):\n",
      "/home/smish/miniconda/envs/orion-tuning/lib/python3.7/site-packages/scipy/optimize/optimize.py:761: RuntimeWarning: invalid value encountered in subtract\n",
      "  np.max(np.abs(fsim[0] - fsim[1:])) <= fatol):\n",
      "/home/smish/miniconda/envs/orion-tuning/lib/python3.7/site-packages/scipy/optimize/optimize.py:761: RuntimeWarning: invalid value encountered in subtract\n",
      "  np.max(np.abs(fsim[0] - fsim[1:])) <= fatol):\n",
      "/home/smish/miniconda/envs/orion-tuning/lib/python3.7/site-packages/scipy/optimize/optimize.py:761: RuntimeWarning: invalid value encountered in subtract\n",
      "  np.max(np.abs(fsim[0] - fsim[1:])) <= fatol):\n",
      "/home/smish/miniconda/envs/orion-tuning/lib/python3.7/site-packages/scipy/optimize/optimize.py:761: RuntimeWarning: invalid value encountered in subtract\n",
      "  np.max(np.abs(fsim[0] - fsim[1:])) <= fatol):\n",
      "/home/smish/miniconda/envs/orion-tuning/lib/python3.7/site-packages/scipy/optimize/optimize.py:761: RuntimeWarning: invalid value encountered in subtract\n",
      "  np.max(np.abs(fsim[0] - fsim[1:])) <= fatol):\n",
      "/home/smish/miniconda/envs/orion-tuning/lib/python3.7/site-packages/scipy/optimize/optimize.py:761: RuntimeWarning: invalid value encountered in subtract\n",
      "  np.max(np.abs(fsim[0] - fsim[1:])) <= fatol):\n",
      "/home/smish/miniconda/envs/orion-tuning/lib/python3.7/site-packages/scipy/optimize/optimize.py:761: RuntimeWarning: invalid value encountered in subtract\n",
      "  np.max(np.abs(fsim[0] - fsim[1:])) <= fatol):\n",
      "/home/smish/miniconda/envs/orion-tuning/lib/python3.7/site-packages/scipy/optimize/optimize.py:761: RuntimeWarning: invalid value encountered in subtract\n",
      "  np.max(np.abs(fsim[0] - fsim[1:])) <= fatol):\n",
      "/home/smish/miniconda/envs/orion-tuning/lib/python3.7/site-packages/scipy/optimize/optimize.py:761: RuntimeWarning: invalid value encountered in subtract\n",
      "  np.max(np.abs(fsim[0] - fsim[1:])) <= fatol):\n",
      "/home/smish/miniconda/envs/orion-tuning/lib/python3.7/site-packages/scipy/optimize/optimize.py:761: RuntimeWarning: invalid value encountered in subtract\n",
      "  np.max(np.abs(fsim[0] - fsim[1:])) <= fatol):\n",
      "/home/smish/miniconda/envs/orion-tuning/lib/python3.7/site-packages/scipy/optimize/optimize.py:761: RuntimeWarning: invalid value encountered in subtract\n",
      "  np.max(np.abs(fsim[0] - fsim[1:])) <= fatol):\n",
      "/home/smish/miniconda/envs/orion-tuning/lib/python3.7/site-packages/scipy/optimize/optimize.py:761: RuntimeWarning: invalid value encountered in subtract\n",
      "  np.max(np.abs(fsim[0] - fsim[1:])) <= fatol):\n",
      "/home/smish/miniconda/envs/orion-tuning/lib/python3.7/site-packages/scipy/optimize/optimize.py:761: RuntimeWarning: invalid value encountered in subtract\n",
      "  np.max(np.abs(fsim[0] - fsim[1:])) <= fatol):\n",
      "/home/smish/miniconda/envs/orion-tuning/lib/python3.7/site-packages/scipy/optimize/optimize.py:761: RuntimeWarning: invalid value encountered in subtract\n",
      "  np.max(np.abs(fsim[0] - fsim[1:])) <= fatol):\n",
      "/home/smish/miniconda/envs/orion-tuning/lib/python3.7/site-packages/scipy/optimize/optimize.py:761: RuntimeWarning: invalid value encountered in subtract\n",
      "  np.max(np.abs(fsim[0] - fsim[1:])) <= fatol):\n",
      "/home/smish/miniconda/envs/orion-tuning/lib/python3.7/site-packages/scipy/optimize/optimize.py:761: RuntimeWarning: invalid value encountered in subtract\n",
      "  np.max(np.abs(fsim[0] - fsim[1:])) <= fatol):\n",
      "/home/smish/miniconda/envs/orion-tuning/lib/python3.7/site-packages/scipy/optimize/optimize.py:761: RuntimeWarning: invalid value encountered in subtract\n",
      "  np.max(np.abs(fsim[0] - fsim[1:])) <= fatol):\n",
      "/home/smish/miniconda/envs/orion-tuning/lib/python3.7/site-packages/scipy/optimize/optimize.py:761: RuntimeWarning: invalid value encountered in subtract\n",
      "  np.max(np.abs(fsim[0] - fsim[1:])) <= fatol):\n",
      "/home/smish/miniconda/envs/orion-tuning/lib/python3.7/site-packages/scipy/optimize/optimize.py:761: RuntimeWarning: invalid value encountered in subtract\n",
      "  np.max(np.abs(fsim[0] - fsim[1:])) <= fatol):\n",
      "/home/smish/miniconda/envs/orion-tuning/lib/python3.7/site-packages/scipy/optimize/optimize.py:761: RuntimeWarning: invalid value encountered in subtract\n",
      "  np.max(np.abs(fsim[0] - fsim[1:])) <= fatol):\n",
      "/home/smish/miniconda/envs/orion-tuning/lib/python3.7/site-packages/scipy/optimize/optimize.py:761: RuntimeWarning: invalid value encountered in subtract\n",
      "  np.max(np.abs(fsim[0] - fsim[1:])) <= fatol):\n",
      "/home/smish/miniconda/envs/orion-tuning/lib/python3.7/site-packages/scipy/optimize/optimize.py:761: RuntimeWarning: invalid value encountered in subtract\n",
      "  np.max(np.abs(fsim[0] - fsim[1:])) <= fatol):\n",
      "/home/smish/miniconda/envs/orion-tuning/lib/python3.7/site-packages/scipy/optimize/optimize.py:761: RuntimeWarning: invalid value encountered in subtract\n",
      "  np.max(np.abs(fsim[0] - fsim[1:])) <= fatol):\n",
      "/home/smish/miniconda/envs/orion-tuning/lib/python3.7/site-packages/scipy/optimize/optimize.py:761: RuntimeWarning: invalid value encountered in subtract\n",
      "  np.max(np.abs(fsim[0] - fsim[1:])) <= fatol):\n",
      "/home/smish/miniconda/envs/orion-tuning/lib/python3.7/site-packages/scipy/optimize/optimize.py:761: RuntimeWarning: invalid value encountered in subtract\n",
      "  np.max(np.abs(fsim[0] - fsim[1:])) <= fatol):\n",
      "/home/smish/miniconda/envs/orion-tuning/lib/python3.7/site-packages/scipy/optimize/optimize.py:761: RuntimeWarning: invalid value encountered in subtract\n",
      "  np.max(np.abs(fsim[0] - fsim[1:])) <= fatol):\n",
      "DEBUG:orion.tune:Actual {'start': {}, 'end': {}} - Found [[1.31027760e+09 1.37760480e+09 5.19789572e-02]\n",
      " [1.37870640e+09 1.38691440e+09 8.18185817e-02]]\n",
      "/home/smish/miniconda/envs/orion-tuning/lib/python3.7/site-packages/orion/evaluation/common.py:56: RuntimeWarning: invalid value encountered in long_scalars\n",
      "  return tp / (tp + fn)\n",
      "DEBUG:mlblocks.mlpipeline:Producing block mlprimitives.custom.timeseries_preprocessing.time_segments_aggregate#1\n",
      "DEBUG:mlblocks.mlpipeline:Producing block sklearn.impute.SimpleImputer#1\n",
      "DEBUG:mlblocks.mlpipeline:Producing block sklearn.preprocessing.MinMaxScaler#1\n",
      "DEBUG:mlblocks.mlpipeline:Producing block mlprimitives.custom.timeseries_preprocessing.rolling_window_sequences#1\n",
      "DEBUG:mlblocks.mlpipeline:Producing block keras.Sequential.LSTMTimeSeriesRegressor#1\n"
     ]
    },
    {
     "name": "stdout",
     "output_type": "stream",
     "text": [
      "7348/7348 [==============================] - 9s 1ms/step\n"
     ]
    },
    {
     "name": "stderr",
     "output_type": "stream",
     "text": [
      "DEBUG:mlblocks.mlpipeline:Producing block mlprimitives.custom.timeseries_preprocessing.time_segments_aggregate#1\n",
      "DEBUG:mlblocks.mlpipeline:Producing block sklearn.impute.SimpleImputer#1\n",
      "DEBUG:mlblocks.mlpipeline:Producing block sklearn.preprocessing.MinMaxScaler#1\n",
      "DEBUG:mlblocks.mlpipeline:Producing block mlprimitives.custom.timeseries_preprocessing.rolling_window_sequences#1\n",
      "DEBUG:mlblocks.mlpipeline:Producing block keras.Sequential.LSTMTimeSeriesRegressor#1\n"
     ]
    },
    {
     "name": "stdout",
     "output_type": "stream",
     "text": [
      "3548/3548 [==============================] - 4s 1ms/step\n"
     ]
    },
    {
     "name": "stderr",
     "output_type": "stream",
     "text": [
      "DEBUG:mlblocks.mlpipeline:Fitting block orion.primitives.timeseries_errors.regression_errors#1\n",
      "DEBUG:mlblocks.mlpipeline:Producing block orion.primitives.timeseries_errors.regression_errors#1\n",
      "DEBUG:mlblocks.mlpipeline:Fitting block orion.primitives.timeseries_anomalies.find_anomalies#1\n",
      "DEBUG:mlblocks.mlpipeline:Producing block orion.primitives.timeseries_errors.regression_errors#1\n",
      "DEBUG:mlblocks.mlpipeline:Producing block orion.primitives.timeseries_anomalies.find_anomalies#1\n",
      "/home/smish/miniconda/envs/orion-tuning/lib/python3.7/site-packages/scipy/optimize/optimize.py:761: RuntimeWarning: invalid value encountered in subtract\n",
      "  np.max(np.abs(fsim[0] - fsim[1:])) <= fatol):\n",
      "/home/smish/miniconda/envs/orion-tuning/lib/python3.7/site-packages/scipy/optimize/optimize.py:761: RuntimeWarning: invalid value encountered in subtract\n",
      "  np.max(np.abs(fsim[0] - fsim[1:])) <= fatol):\n",
      "/home/smish/miniconda/envs/orion-tuning/lib/python3.7/site-packages/scipy/optimize/optimize.py:761: RuntimeWarning: invalid value encountered in subtract\n",
      "  np.max(np.abs(fsim[0] - fsim[1:])) <= fatol):\n",
      "/home/smish/miniconda/envs/orion-tuning/lib/python3.7/site-packages/scipy/optimize/optimize.py:761: RuntimeWarning: invalid value encountered in subtract\n",
      "  np.max(np.abs(fsim[0] - fsim[1:])) <= fatol):\n",
      "/home/smish/miniconda/envs/orion-tuning/lib/python3.7/site-packages/scipy/optimize/optimize.py:761: RuntimeWarning: invalid value encountered in subtract\n",
      "  np.max(np.abs(fsim[0] - fsim[1:])) <= fatol):\n",
      "/home/smish/miniconda/envs/orion-tuning/lib/python3.7/site-packages/scipy/optimize/optimize.py:761: RuntimeWarning: invalid value encountered in subtract\n",
      "  np.max(np.abs(fsim[0] - fsim[1:])) <= fatol):\n",
      "/home/smish/miniconda/envs/orion-tuning/lib/python3.7/site-packages/scipy/optimize/optimize.py:761: RuntimeWarning: invalid value encountered in subtract\n",
      "  np.max(np.abs(fsim[0] - fsim[1:])) <= fatol):\n",
      "/home/smish/miniconda/envs/orion-tuning/lib/python3.7/site-packages/scipy/optimize/optimize.py:761: RuntimeWarning: invalid value encountered in subtract\n",
      "  np.max(np.abs(fsim[0] - fsim[1:])) <= fatol):\n",
      "/home/smish/miniconda/envs/orion-tuning/lib/python3.7/site-packages/scipy/optimize/optimize.py:761: RuntimeWarning: invalid value encountered in subtract\n",
      "  np.max(np.abs(fsim[0] - fsim[1:])) <= fatol):\n",
      "/home/smish/miniconda/envs/orion-tuning/lib/python3.7/site-packages/scipy/optimize/optimize.py:761: RuntimeWarning: invalid value encountered in subtract\n",
      "  np.max(np.abs(fsim[0] - fsim[1:])) <= fatol):\n",
      "/home/smish/miniconda/envs/orion-tuning/lib/python3.7/site-packages/scipy/optimize/optimize.py:761: RuntimeWarning: invalid value encountered in subtract\n",
      "  np.max(np.abs(fsim[0] - fsim[1:])) <= fatol):\n",
      "/home/smish/miniconda/envs/orion-tuning/lib/python3.7/site-packages/scipy/optimize/optimize.py:761: RuntimeWarning: invalid value encountered in subtract\n",
      "  np.max(np.abs(fsim[0] - fsim[1:])) <= fatol):\n",
      "/home/smish/miniconda/envs/orion-tuning/lib/python3.7/site-packages/scipy/optimize/optimize.py:761: RuntimeWarning: invalid value encountered in subtract\n",
      "  np.max(np.abs(fsim[0] - fsim[1:])) <= fatol):\n",
      "/home/smish/miniconda/envs/orion-tuning/lib/python3.7/site-packages/scipy/optimize/optimize.py:761: RuntimeWarning: invalid value encountered in subtract\n",
      "  np.max(np.abs(fsim[0] - fsim[1:])) <= fatol):\n",
      "/home/smish/miniconda/envs/orion-tuning/lib/python3.7/site-packages/scipy/optimize/optimize.py:761: RuntimeWarning: invalid value encountered in subtract\n",
      "  np.max(np.abs(fsim[0] - fsim[1:])) <= fatol):\n",
      "/home/smish/miniconda/envs/orion-tuning/lib/python3.7/site-packages/scipy/optimize/optimize.py:761: RuntimeWarning: invalid value encountered in subtract\n",
      "  np.max(np.abs(fsim[0] - fsim[1:])) <= fatol):\n",
      "/home/smish/miniconda/envs/orion-tuning/lib/python3.7/site-packages/scipy/optimize/optimize.py:761: RuntimeWarning: invalid value encountered in subtract\n",
      "  np.max(np.abs(fsim[0] - fsim[1:])) <= fatol):\n",
      "/home/smish/miniconda/envs/orion-tuning/lib/python3.7/site-packages/scipy/optimize/optimize.py:761: RuntimeWarning: invalid value encountered in subtract\n",
      "  np.max(np.abs(fsim[0] - fsim[1:])) <= fatol):\n",
      "/home/smish/miniconda/envs/orion-tuning/lib/python3.7/site-packages/scipy/optimize/optimize.py:761: RuntimeWarning: invalid value encountered in subtract\n",
      "  np.max(np.abs(fsim[0] - fsim[1:])) <= fatol):\n",
      "/home/smish/miniconda/envs/orion-tuning/lib/python3.7/site-packages/scipy/optimize/optimize.py:761: RuntimeWarning: invalid value encountered in subtract\n",
      "  np.max(np.abs(fsim[0] - fsim[1:])) <= fatol):\n",
      "/home/smish/miniconda/envs/orion-tuning/lib/python3.7/site-packages/scipy/optimize/optimize.py:761: RuntimeWarning: invalid value encountered in subtract\n",
      "  np.max(np.abs(fsim[0] - fsim[1:])) <= fatol):\n",
      "/home/smish/miniconda/envs/orion-tuning/lib/python3.7/site-packages/scipy/optimize/optimize.py:761: RuntimeWarning: invalid value encountered in subtract\n",
      "  np.max(np.abs(fsim[0] - fsim[1:])) <= fatol):\n",
      "/home/smish/miniconda/envs/orion-tuning/lib/python3.7/site-packages/scipy/optimize/optimize.py:761: RuntimeWarning: invalid value encountered in subtract\n",
      "  np.max(np.abs(fsim[0] - fsim[1:])) <= fatol):\n",
      "/home/smish/miniconda/envs/orion-tuning/lib/python3.7/site-packages/scipy/optimize/optimize.py:761: RuntimeWarning: invalid value encountered in subtract\n",
      "  np.max(np.abs(fsim[0] - fsim[1:])) <= fatol):\n",
      "/home/smish/miniconda/envs/orion-tuning/lib/python3.7/site-packages/scipy/optimize/optimize.py:761: RuntimeWarning: invalid value encountered in subtract\n",
      "  np.max(np.abs(fsim[0] - fsim[1:])) <= fatol):\n",
      "/home/smish/miniconda/envs/orion-tuning/lib/python3.7/site-packages/scipy/optimize/optimize.py:761: RuntimeWarning: invalid value encountered in subtract\n",
      "  np.max(np.abs(fsim[0] - fsim[1:])) <= fatol):\n",
      "/home/smish/miniconda/envs/orion-tuning/lib/python3.7/site-packages/scipy/optimize/optimize.py:761: RuntimeWarning: invalid value encountered in subtract\n",
      "  np.max(np.abs(fsim[0] - fsim[1:])) <= fatol):\n",
      "DEBUG:orion.tune:Actual {'start': {0: 1393027200.0, 1: 1406203200.0}, 'end': {0: 1393675200.0, 1: 1416484800.0}} - Found [[1.39233600e+09 1.40263920e+09 1.27975432e-01]\n",
      " [1.40374080e+09 1.41922800e+09 4.42436833e-01]\n",
      " [1.42084800e+09 1.43685360e+09 6.35765351e-02]\n",
      " [1.43795520e+09 1.45110960e+09 5.97041963e-02]\n",
      " [1.45221120e+09 1.46895120e+09 5.49917343e-02]]\n",
      "DEBUG:orion.tune:Proposal {('orion.primitives.timeseries_errors.regression_errors#1', 'smooth'): True, ('orion.primitives.timeseries_errors.regression_errors#1', 'smoothing_window'): 0.0371261064355285, ('orion.primitives.timeseries_anomalies.find_anomalies#1', 'window_size_portion'): 0.06005144136502046, ('orion.primitives.timeseries_anomalies.find_anomalies#1', 'window_step_size_portion'): 0.615678534219759, ('orion.primitives.timeseries_anomalies.find_anomalies#1', 'min_percent'): 0.24590535282849893, ('orion.primitives.timeseries_anomalies.find_anomalies#1', 'anomaly_padding'): 187} scored 0.264575\n",
      "DEBUG:orion.tune:Recorded score 0.264575\n",
      "DEBUG:btb.tuning.tuners.base:Not enough samples recorded to generate predictions, generating random proposal.\n",
      "DEBUG:orion.tune:Scoring proposal 1: {('orion.primitives.timeseries_errors.regression_errors#1', 'smooth'): True, ('orion.primitives.timeseries_errors.regression_errors#1', 'smoothing_window'): 0.04592411972747784, ('orion.primitives.timeseries_anomalies.find_anomalies#1', 'window_size_portion'): 0.6124106334714711, ('orion.primitives.timeseries_anomalies.find_anomalies#1', 'window_step_size_portion'): 0.19514290286887823, ('orion.primitives.timeseries_anomalies.find_anomalies#1', 'min_percent'): 0.7342218569612162, ('orion.primitives.timeseries_anomalies.find_anomalies#1', 'anomaly_padding'): 183}\n",
      "DEBUG:mlblocks.mlpipeline:Producing block mlprimitives.custom.timeseries_preprocessing.time_segments_aggregate#1\n",
      "DEBUG:mlblocks.mlpipeline:Producing block sklearn.impute.SimpleImputer#1\n",
      "DEBUG:mlblocks.mlpipeline:Producing block sklearn.preprocessing.MinMaxScaler#1\n",
      "DEBUG:mlblocks.mlpipeline:Producing block mlprimitives.custom.timeseries_preprocessing.rolling_window_sequences#1\n",
      "DEBUG:mlblocks.mlpipeline:Producing block keras.Sequential.LSTMTimeSeriesRegressor#1\n"
     ]
    },
    {
     "name": "stdout",
     "output_type": "stream",
     "text": [
      "7347/7347 [==============================] - 10s 1ms/step\n"
     ]
    },
    {
     "name": "stderr",
     "output_type": "stream",
     "text": [
      "DEBUG:mlblocks.mlpipeline:Producing block mlprimitives.custom.timeseries_preprocessing.time_segments_aggregate#1\n",
      "DEBUG:mlblocks.mlpipeline:Producing block sklearn.impute.SimpleImputer#1\n",
      "DEBUG:mlblocks.mlpipeline:Producing block sklearn.preprocessing.MinMaxScaler#1\n",
      "DEBUG:mlblocks.mlpipeline:Producing block mlprimitives.custom.timeseries_preprocessing.rolling_window_sequences#1\n",
      "DEBUG:mlblocks.mlpipeline:Producing block keras.Sequential.LSTMTimeSeriesRegressor#1\n"
     ]
    },
    {
     "name": "stdout",
     "output_type": "stream",
     "text": [
      "3549/3549 [==============================] - 5s 1ms/step\n"
     ]
    },
    {
     "name": "stderr",
     "output_type": "stream",
     "text": [
      "DEBUG:mlblocks.mlpipeline:Fitting block orion.primitives.timeseries_errors.regression_errors#1\n",
      "DEBUG:mlblocks.mlpipeline:Producing block orion.primitives.timeseries_errors.regression_errors#1\n",
      "DEBUG:mlblocks.mlpipeline:Fitting block orion.primitives.timeseries_anomalies.find_anomalies#1\n",
      "DEBUG:mlblocks.mlpipeline:Producing block orion.primitives.timeseries_errors.regression_errors#1\n",
      "DEBUG:mlblocks.mlpipeline:Producing block orion.primitives.timeseries_anomalies.find_anomalies#1\n",
      "/home/smish/miniconda/envs/orion-tuning/lib/python3.7/site-packages/scipy/optimize/optimize.py:761: RuntimeWarning: invalid value encountered in subtract\n",
      "  np.max(np.abs(fsim[0] - fsim[1:])) <= fatol):\n",
      "/home/smish/miniconda/envs/orion-tuning/lib/python3.7/site-packages/scipy/optimize/optimize.py:761: RuntimeWarning: invalid value encountered in subtract\n",
      "  np.max(np.abs(fsim[0] - fsim[1:])) <= fatol):\n",
      "/home/smish/miniconda/envs/orion-tuning/lib/python3.7/site-packages/scipy/optimize/optimize.py:761: RuntimeWarning: invalid value encountered in subtract\n",
      "  np.max(np.abs(fsim[0] - fsim[1:])) <= fatol):\n",
      "/home/smish/miniconda/envs/orion-tuning/lib/python3.7/site-packages/scipy/optimize/optimize.py:761: RuntimeWarning: invalid value encountered in subtract\n",
      "  np.max(np.abs(fsim[0] - fsim[1:])) <= fatol):\n",
      "/home/smish/miniconda/envs/orion-tuning/lib/python3.7/site-packages/scipy/optimize/optimize.py:761: RuntimeWarning: invalid value encountered in subtract\n",
      "  np.max(np.abs(fsim[0] - fsim[1:])) <= fatol):\n",
      "DEBUG:orion.tune:Actual {'start': {}, 'end': {}} - Found []\n",
      "/home/smish/miniconda/envs/orion-tuning/lib/python3.7/site-packages/orion/evaluation/common.py:43: RuntimeWarning: invalid value encountered in long_scalars\n",
      "  return tp / (tp + fp)\n",
      "/home/smish/miniconda/envs/orion-tuning/lib/python3.7/site-packages/orion/evaluation/common.py:56: RuntimeWarning: invalid value encountered in long_scalars\n",
      "  return tp / (tp + fn)\n",
      "DEBUG:mlblocks.mlpipeline:Producing block mlprimitives.custom.timeseries_preprocessing.time_segments_aggregate#1\n",
      "DEBUG:mlblocks.mlpipeline:Producing block sklearn.impute.SimpleImputer#1\n",
      "DEBUG:mlblocks.mlpipeline:Producing block sklearn.preprocessing.MinMaxScaler#1\n",
      "DEBUG:mlblocks.mlpipeline:Producing block mlprimitives.custom.timeseries_preprocessing.rolling_window_sequences#1\n",
      "DEBUG:mlblocks.mlpipeline:Producing block keras.Sequential.LSTMTimeSeriesRegressor#1\n"
     ]
    },
    {
     "name": "stdout",
     "output_type": "stream",
     "text": [
      "11146/11146 [==============================] - 14s 1ms/step\n"
     ]
    },
    {
     "name": "stderr",
     "output_type": "stream",
     "text": [
      "DEBUG:mlblocks.mlpipeline:Producing block mlprimitives.custom.timeseries_preprocessing.time_segments_aggregate#1\n",
      "DEBUG:mlblocks.mlpipeline:Producing block sklearn.impute.SimpleImputer#1\n",
      "DEBUG:mlblocks.mlpipeline:Producing block sklearn.preprocessing.MinMaxScaler#1\n",
      "DEBUG:mlblocks.mlpipeline:Producing block mlprimitives.custom.timeseries_preprocessing.rolling_window_sequences#1\n",
      "DEBUG:mlblocks.mlpipeline:Producing block keras.Sequential.LSTMTimeSeriesRegressor#1\n"
     ]
    },
    {
     "name": "stdout",
     "output_type": "stream",
     "text": [
      "3549/3549 [==============================] - 5s 1ms/step\n"
     ]
    },
    {
     "name": "stderr",
     "output_type": "stream",
     "text": [
      "DEBUG:mlblocks.mlpipeline:Fitting block orion.primitives.timeseries_errors.regression_errors#1\n",
      "DEBUG:mlblocks.mlpipeline:Producing block orion.primitives.timeseries_errors.regression_errors#1\n",
      "DEBUG:mlblocks.mlpipeline:Fitting block orion.primitives.timeseries_anomalies.find_anomalies#1\n",
      "DEBUG:mlblocks.mlpipeline:Producing block orion.primitives.timeseries_errors.regression_errors#1\n",
      "DEBUG:mlblocks.mlpipeline:Producing block orion.primitives.timeseries_anomalies.find_anomalies#1\n",
      "/home/smish/miniconda/envs/orion-tuning/lib/python3.7/site-packages/scipy/optimize/optimize.py:761: RuntimeWarning: invalid value encountered in subtract\n",
      "  np.max(np.abs(fsim[0] - fsim[1:])) <= fatol):\n",
      "/home/smish/miniconda/envs/orion-tuning/lib/python3.7/site-packages/scipy/optimize/optimize.py:761: RuntimeWarning: invalid value encountered in subtract\n",
      "  np.max(np.abs(fsim[0] - fsim[1:])) <= fatol):\n",
      "/home/smish/miniconda/envs/orion-tuning/lib/python3.7/site-packages/scipy/optimize/optimize.py:761: RuntimeWarning: invalid value encountered in subtract\n",
      "  np.max(np.abs(fsim[0] - fsim[1:])) <= fatol):\n",
      "/home/smish/miniconda/envs/orion-tuning/lib/python3.7/site-packages/scipy/optimize/optimize.py:761: RuntimeWarning: invalid value encountered in subtract\n",
      "  np.max(np.abs(fsim[0] - fsim[1:])) <= fatol):\n",
      "DEBUG:orion.tune:Actual {'start': {}, 'end': {}} - Found []\n",
      "/home/smish/miniconda/envs/orion-tuning/lib/python3.7/site-packages/orion/evaluation/common.py:43: RuntimeWarning: invalid value encountered in long_scalars\n",
      "  return tp / (tp + fp)\n",
      "/home/smish/miniconda/envs/orion-tuning/lib/python3.7/site-packages/orion/evaluation/common.py:56: RuntimeWarning: invalid value encountered in long_scalars\n",
      "  return tp / (tp + fn)\n",
      "DEBUG:mlblocks.mlpipeline:Producing block mlprimitives.custom.timeseries_preprocessing.time_segments_aggregate#1\n",
      "DEBUG:mlblocks.mlpipeline:Producing block sklearn.impute.SimpleImputer#1\n",
      "DEBUG:mlblocks.mlpipeline:Producing block sklearn.preprocessing.MinMaxScaler#1\n",
      "DEBUG:mlblocks.mlpipeline:Producing block mlprimitives.custom.timeseries_preprocessing.rolling_window_sequences#1\n",
      "DEBUG:mlblocks.mlpipeline:Producing block keras.Sequential.LSTMTimeSeriesRegressor#1\n"
     ]
    },
    {
     "name": "stdout",
     "output_type": "stream",
     "text": [
      "7348/7348 [==============================] - 9s 1ms/step\n"
     ]
    },
    {
     "name": "stderr",
     "output_type": "stream",
     "text": [
      "DEBUG:mlblocks.mlpipeline:Producing block mlprimitives.custom.timeseries_preprocessing.time_segments_aggregate#1\n",
      "DEBUG:mlblocks.mlpipeline:Producing block sklearn.impute.SimpleImputer#1\n",
      "DEBUG:mlblocks.mlpipeline:Producing block sklearn.preprocessing.MinMaxScaler#1\n",
      "DEBUG:mlblocks.mlpipeline:Producing block mlprimitives.custom.timeseries_preprocessing.rolling_window_sequences#1\n",
      "DEBUG:mlblocks.mlpipeline:Producing block keras.Sequential.LSTMTimeSeriesRegressor#1\n"
     ]
    },
    {
     "name": "stdout",
     "output_type": "stream",
     "text": [
      "3548/3548 [==============================] - 5s 1ms/step\n"
     ]
    },
    {
     "name": "stderr",
     "output_type": "stream",
     "text": [
      "DEBUG:mlblocks.mlpipeline:Fitting block orion.primitives.timeseries_errors.regression_errors#1\n",
      "DEBUG:mlblocks.mlpipeline:Producing block orion.primitives.timeseries_errors.regression_errors#1\n",
      "DEBUG:mlblocks.mlpipeline:Fitting block orion.primitives.timeseries_anomalies.find_anomalies#1\n",
      "DEBUG:mlblocks.mlpipeline:Producing block orion.primitives.timeseries_errors.regression_errors#1\n",
      "DEBUG:mlblocks.mlpipeline:Producing block orion.primitives.timeseries_anomalies.find_anomalies#1\n",
      "/home/smish/miniconda/envs/orion-tuning/lib/python3.7/site-packages/scipy/optimize/optimize.py:761: RuntimeWarning: invalid value encountered in subtract\n",
      "  np.max(np.abs(fsim[0] - fsim[1:])) <= fatol):\n",
      "/home/smish/miniconda/envs/orion-tuning/lib/python3.7/site-packages/scipy/optimize/optimize.py:761: RuntimeWarning: invalid value encountered in subtract\n",
      "  np.max(np.abs(fsim[0] - fsim[1:])) <= fatol):\n",
      "/home/smish/miniconda/envs/orion-tuning/lib/python3.7/site-packages/scipy/optimize/optimize.py:761: RuntimeWarning: invalid value encountered in subtract\n",
      "  np.max(np.abs(fsim[0] - fsim[1:])) <= fatol):\n",
      "/home/smish/miniconda/envs/orion-tuning/lib/python3.7/site-packages/scipy/optimize/optimize.py:761: RuntimeWarning: invalid value encountered in subtract\n",
      "  np.max(np.abs(fsim[0] - fsim[1:])) <= fatol):\n",
      "/home/smish/miniconda/envs/orion-tuning/lib/python3.7/site-packages/scipy/optimize/optimize.py:761: RuntimeWarning: invalid value encountered in subtract\n",
      "  np.max(np.abs(fsim[0] - fsim[1:])) <= fatol):\n",
      "DEBUG:orion.tune:Actual {'start': {0: 1393027200.0, 1: 1406203200.0}, 'end': {0: 1393675200.0, 1: 1416484800.0}} - Found [[1.40456160e+09 1.41579360e+09 4.95701179e-01]]\n",
      "DEBUG:orion.tune:Proposal {('orion.primitives.timeseries_errors.regression_errors#1', 'smooth'): True, ('orion.primitives.timeseries_errors.regression_errors#1', 'smoothing_window'): 0.04592411972747784, ('orion.primitives.timeseries_anomalies.find_anomalies#1', 'window_size_portion'): 0.6124106334714711, ('orion.primitives.timeseries_anomalies.find_anomalies#1', 'window_step_size_portion'): 0.19514290286887823, ('orion.primitives.timeseries_anomalies.find_anomalies#1', 'min_percent'): 0.7342218569612162, ('orion.primitives.timeseries_anomalies.find_anomalies#1', 'anomaly_padding'): 183} scored 0.865497\n",
      "DEBUG:orion.tune:Recorded score 0.865497\n",
      "DEBUG:orion.tune:New best found: 0.8654970491078645\n",
      "DEBUG:btb.tuning.tuners.base:Not enough samples recorded to generate predictions, generating random proposal.\n",
      "DEBUG:orion.tune:Scoring proposal 2: {('orion.primitives.timeseries_errors.regression_errors#1', 'smooth'): True, ('orion.primitives.timeseries_errors.regression_errors#1', 'smoothing_window'): 0.048282602035108396, ('orion.primitives.timeseries_anomalies.find_anomalies#1', 'window_size_portion'): 0.3156719209550134, ('orion.primitives.timeseries_anomalies.find_anomalies#1', 'window_step_size_portion'): 0.04537585211074942, ('orion.primitives.timeseries_anomalies.find_anomalies#1', 'min_percent'): 0.6149089001020378, ('orion.primitives.timeseries_anomalies.find_anomalies#1', 'anomaly_padding'): 218}\n",
      "DEBUG:mlblocks.mlpipeline:Producing block mlprimitives.custom.timeseries_preprocessing.time_segments_aggregate#1\n",
      "DEBUG:mlblocks.mlpipeline:Producing block sklearn.impute.SimpleImputer#1\n",
      "DEBUG:mlblocks.mlpipeline:Producing block sklearn.preprocessing.MinMaxScaler#1\n",
      "DEBUG:mlblocks.mlpipeline:Producing block mlprimitives.custom.timeseries_preprocessing.rolling_window_sequences#1\n",
      "DEBUG:mlblocks.mlpipeline:Producing block keras.Sequential.LSTMTimeSeriesRegressor#1\n"
     ]
    },
    {
     "name": "stdout",
     "output_type": "stream",
     "text": [
      "7347/7347 [==============================] - 9s 1ms/step\n"
     ]
    },
    {
     "name": "stderr",
     "output_type": "stream",
     "text": [
      "DEBUG:mlblocks.mlpipeline:Producing block mlprimitives.custom.timeseries_preprocessing.time_segments_aggregate#1\n",
      "DEBUG:mlblocks.mlpipeline:Producing block sklearn.impute.SimpleImputer#1\n",
      "DEBUG:mlblocks.mlpipeline:Producing block sklearn.preprocessing.MinMaxScaler#1\n",
      "DEBUG:mlblocks.mlpipeline:Producing block mlprimitives.custom.timeseries_preprocessing.rolling_window_sequences#1\n",
      "DEBUG:mlblocks.mlpipeline:Producing block keras.Sequential.LSTMTimeSeriesRegressor#1\n"
     ]
    },
    {
     "name": "stdout",
     "output_type": "stream",
     "text": [
      "3549/3549 [==============================] - 5s 1ms/step\n"
     ]
    },
    {
     "name": "stderr",
     "output_type": "stream",
     "text": [
      "DEBUG:mlblocks.mlpipeline:Fitting block orion.primitives.timeseries_errors.regression_errors#1\n",
      "DEBUG:mlblocks.mlpipeline:Producing block orion.primitives.timeseries_errors.regression_errors#1\n",
      "DEBUG:mlblocks.mlpipeline:Fitting block orion.primitives.timeseries_anomalies.find_anomalies#1\n",
      "DEBUG:mlblocks.mlpipeline:Producing block orion.primitives.timeseries_errors.regression_errors#1\n",
      "DEBUG:mlblocks.mlpipeline:Producing block orion.primitives.timeseries_anomalies.find_anomalies#1\n",
      "/home/smish/miniconda/envs/orion-tuning/lib/python3.7/site-packages/scipy/optimize/optimize.py:761: RuntimeWarning: invalid value encountered in subtract\n",
      "  np.max(np.abs(fsim[0] - fsim[1:])) <= fatol):\n",
      "/home/smish/miniconda/envs/orion-tuning/lib/python3.7/site-packages/scipy/optimize/optimize.py:761: RuntimeWarning: invalid value encountered in subtract\n",
      "  np.max(np.abs(fsim[0] - fsim[1:])) <= fatol):\n",
      "/home/smish/miniconda/envs/orion-tuning/lib/python3.7/site-packages/scipy/optimize/optimize.py:761: RuntimeWarning: invalid value encountered in subtract\n",
      "  np.max(np.abs(fsim[0] - fsim[1:])) <= fatol):\n",
      "/home/smish/miniconda/envs/orion-tuning/lib/python3.7/site-packages/scipy/optimize/optimize.py:761: RuntimeWarning: invalid value encountered in subtract\n",
      "  np.max(np.abs(fsim[0] - fsim[1:])) <= fatol):\n",
      "/home/smish/miniconda/envs/orion-tuning/lib/python3.7/site-packages/scipy/optimize/optimize.py:761: RuntimeWarning: invalid value encountered in subtract\n",
      "  np.max(np.abs(fsim[0] - fsim[1:])) <= fatol):\n",
      "/home/smish/miniconda/envs/orion-tuning/lib/python3.7/site-packages/scipy/optimize/optimize.py:761: RuntimeWarning: invalid value encountered in subtract\n",
      "  np.max(np.abs(fsim[0] - fsim[1:])) <= fatol):\n",
      "/home/smish/miniconda/envs/orion-tuning/lib/python3.7/site-packages/scipy/optimize/optimize.py:761: RuntimeWarning: invalid value encountered in subtract\n",
      "  np.max(np.abs(fsim[0] - fsim[1:])) <= fatol):\n",
      "/home/smish/miniconda/envs/orion-tuning/lib/python3.7/site-packages/scipy/optimize/optimize.py:761: RuntimeWarning: invalid value encountered in subtract\n",
      "  np.max(np.abs(fsim[0] - fsim[1:])) <= fatol):\n",
      "/home/smish/miniconda/envs/orion-tuning/lib/python3.7/site-packages/scipy/optimize/optimize.py:761: RuntimeWarning: invalid value encountered in subtract\n",
      "  np.max(np.abs(fsim[0] - fsim[1:])) <= fatol):\n",
      "/home/smish/miniconda/envs/orion-tuning/lib/python3.7/site-packages/scipy/optimize/optimize.py:761: RuntimeWarning: invalid value encountered in subtract\n",
      "  np.max(np.abs(fsim[0] - fsim[1:])) <= fatol):\n",
      "/home/smish/miniconda/envs/orion-tuning/lib/python3.7/site-packages/scipy/optimize/optimize.py:761: RuntimeWarning: invalid value encountered in subtract\n",
      "  np.max(np.abs(fsim[0] - fsim[1:])) <= fatol):\n",
      "/home/smish/miniconda/envs/orion-tuning/lib/python3.7/site-packages/scipy/optimize/optimize.py:761: RuntimeWarning: invalid value encountered in subtract\n",
      "  np.max(np.abs(fsim[0] - fsim[1:])) <= fatol):\n",
      "/home/smish/miniconda/envs/orion-tuning/lib/python3.7/site-packages/scipy/optimize/optimize.py:761: RuntimeWarning: invalid value encountered in subtract\n",
      "  np.max(np.abs(fsim[0] - fsim[1:])) <= fatol):\n",
      "/home/smish/miniconda/envs/orion-tuning/lib/python3.7/site-packages/scipy/optimize/optimize.py:761: RuntimeWarning: invalid value encountered in subtract\n",
      "  np.max(np.abs(fsim[0] - fsim[1:])) <= fatol):\n",
      "/home/smish/miniconda/envs/orion-tuning/lib/python3.7/site-packages/scipy/optimize/optimize.py:761: RuntimeWarning: invalid value encountered in subtract\n",
      "  np.max(np.abs(fsim[0] - fsim[1:])) <= fatol):\n",
      "/home/smish/miniconda/envs/orion-tuning/lib/python3.7/site-packages/scipy/optimize/optimize.py:761: RuntimeWarning: invalid value encountered in subtract\n",
      "  np.max(np.abs(fsim[0] - fsim[1:])) <= fatol):\n",
      "/home/smish/miniconda/envs/orion-tuning/lib/python3.7/site-packages/scipy/optimize/optimize.py:761: RuntimeWarning: invalid value encountered in subtract\n",
      "  np.max(np.abs(fsim[0] - fsim[1:])) <= fatol):\n",
      "/home/smish/miniconda/envs/orion-tuning/lib/python3.7/site-packages/scipy/optimize/optimize.py:761: RuntimeWarning: invalid value encountered in subtract\n",
      "  np.max(np.abs(fsim[0] - fsim[1:])) <= fatol):\n",
      "/home/smish/miniconda/envs/orion-tuning/lib/python3.7/site-packages/scipy/optimize/optimize.py:761: RuntimeWarning: invalid value encountered in subtract\n",
      "  np.max(np.abs(fsim[0] - fsim[1:])) <= fatol):\n",
      "/home/smish/miniconda/envs/orion-tuning/lib/python3.7/site-packages/scipy/optimize/optimize.py:761: RuntimeWarning: invalid value encountered in subtract\n",
      "  np.max(np.abs(fsim[0] - fsim[1:])) <= fatol):\n",
      "/home/smish/miniconda/envs/orion-tuning/lib/python3.7/site-packages/scipy/optimize/optimize.py:761: RuntimeWarning: invalid value encountered in subtract\n",
      "  np.max(np.abs(fsim[0] - fsim[1:])) <= fatol):\n",
      "/home/smish/miniconda/envs/orion-tuning/lib/python3.7/site-packages/scipy/optimize/optimize.py:761: RuntimeWarning: invalid value encountered in subtract\n",
      "  np.max(np.abs(fsim[0] - fsim[1:])) <= fatol):\n",
      "/home/smish/miniconda/envs/orion-tuning/lib/python3.7/site-packages/scipy/optimize/optimize.py:761: RuntimeWarning: invalid value encountered in subtract\n",
      "  np.max(np.abs(fsim[0] - fsim[1:])) <= fatol):\n",
      "/home/smish/miniconda/envs/orion-tuning/lib/python3.7/site-packages/scipy/optimize/optimize.py:761: RuntimeWarning: invalid value encountered in subtract\n",
      "  np.max(np.abs(fsim[0] - fsim[1:])) <= fatol):\n",
      "/home/smish/miniconda/envs/orion-tuning/lib/python3.7/site-packages/scipy/optimize/optimize.py:761: RuntimeWarning: invalid value encountered in subtract\n",
      "  np.max(np.abs(fsim[0] - fsim[1:])) <= fatol):\n",
      "/home/smish/miniconda/envs/orion-tuning/lib/python3.7/site-packages/scipy/optimize/optimize.py:761: RuntimeWarning: invalid value encountered in subtract\n",
      "  np.max(np.abs(fsim[0] - fsim[1:])) <= fatol):\n",
      "/home/smish/miniconda/envs/orion-tuning/lib/python3.7/site-packages/scipy/optimize/optimize.py:761: RuntimeWarning: invalid value encountered in subtract\n",
      "  np.max(np.abs(fsim[0] - fsim[1:])) <= fatol):\n",
      "/home/smish/miniconda/envs/orion-tuning/lib/python3.7/site-packages/scipy/optimize/optimize.py:761: RuntimeWarning: invalid value encountered in subtract\n",
      "  np.max(np.abs(fsim[0] - fsim[1:])) <= fatol):\n",
      "/home/smish/miniconda/envs/orion-tuning/lib/python3.7/site-packages/scipy/optimize/optimize.py:761: RuntimeWarning: invalid value encountered in subtract\n",
      "  np.max(np.abs(fsim[0] - fsim[1:])) <= fatol):\n",
      "/home/smish/miniconda/envs/orion-tuning/lib/python3.7/site-packages/scipy/optimize/optimize.py:761: RuntimeWarning: invalid value encountered in subtract\n",
      "  np.max(np.abs(fsim[0] - fsim[1:])) <= fatol):\n",
      "/home/smish/miniconda/envs/orion-tuning/lib/python3.7/site-packages/scipy/optimize/optimize.py:761: RuntimeWarning: invalid value encountered in subtract\n",
      "  np.max(np.abs(fsim[0] - fsim[1:])) <= fatol):\n",
      "/home/smish/miniconda/envs/orion-tuning/lib/python3.7/site-packages/scipy/optimize/optimize.py:761: RuntimeWarning: invalid value encountered in subtract\n",
      "  np.max(np.abs(fsim[0] - fsim[1:])) <= fatol):\n",
      "/home/smish/miniconda/envs/orion-tuning/lib/python3.7/site-packages/scipy/optimize/optimize.py:761: RuntimeWarning: invalid value encountered in subtract\n",
      "  np.max(np.abs(fsim[0] - fsim[1:])) <= fatol):\n",
      "/home/smish/miniconda/envs/orion-tuning/lib/python3.7/site-packages/scipy/optimize/optimize.py:761: RuntimeWarning: invalid value encountered in subtract\n",
      "  np.max(np.abs(fsim[0] - fsim[1:])) <= fatol):\n",
      "/home/smish/miniconda/envs/orion-tuning/lib/python3.7/site-packages/scipy/optimize/optimize.py:761: RuntimeWarning: invalid value encountered in subtract\n",
      "  np.max(np.abs(fsim[0] - fsim[1:])) <= fatol):\n",
      "/home/smish/miniconda/envs/orion-tuning/lib/python3.7/site-packages/scipy/optimize/optimize.py:761: RuntimeWarning: invalid value encountered in subtract\n",
      "  np.max(np.abs(fsim[0] - fsim[1:])) <= fatol):\n",
      "/home/smish/miniconda/envs/orion-tuning/lib/python3.7/site-packages/scipy/optimize/optimize.py:761: RuntimeWarning: invalid value encountered in subtract\n",
      "  np.max(np.abs(fsim[0] - fsim[1:])) <= fatol):\n",
      "/home/smish/miniconda/envs/orion-tuning/lib/python3.7/site-packages/scipy/optimize/optimize.py:761: RuntimeWarning: invalid value encountered in subtract\n",
      "  np.max(np.abs(fsim[0] - fsim[1:])) <= fatol):\n",
      "/home/smish/miniconda/envs/orion-tuning/lib/python3.7/site-packages/scipy/optimize/optimize.py:761: RuntimeWarning: invalid value encountered in subtract\n",
      "  np.max(np.abs(fsim[0] - fsim[1:])) <= fatol):\n"
     ]
    },
    {
     "name": "stderr",
     "output_type": "stream",
     "text": [
      "/home/smish/miniconda/envs/orion-tuning/lib/python3.7/site-packages/scipy/optimize/optimize.py:761: RuntimeWarning: invalid value encountered in subtract\n",
      "  np.max(np.abs(fsim[0] - fsim[1:])) <= fatol):\n",
      "/home/smish/miniconda/envs/orion-tuning/lib/python3.7/site-packages/scipy/optimize/optimize.py:761: RuntimeWarning: invalid value encountered in subtract\n",
      "  np.max(np.abs(fsim[0] - fsim[1:])) <= fatol):\n",
      "/home/smish/miniconda/envs/orion-tuning/lib/python3.7/site-packages/scipy/optimize/optimize.py:761: RuntimeWarning: invalid value encountered in subtract\n",
      "  np.max(np.abs(fsim[0] - fsim[1:])) <= fatol):\n",
      "/home/smish/miniconda/envs/orion-tuning/lib/python3.7/site-packages/scipy/optimize/optimize.py:761: RuntimeWarning: invalid value encountered in subtract\n",
      "  np.max(np.abs(fsim[0] - fsim[1:])) <= fatol):\n",
      "/home/smish/miniconda/envs/orion-tuning/lib/python3.7/site-packages/scipy/optimize/optimize.py:761: RuntimeWarning: invalid value encountered in subtract\n",
      "  np.max(np.abs(fsim[0] - fsim[1:])) <= fatol):\n",
      "/home/smish/miniconda/envs/orion-tuning/lib/python3.7/site-packages/scipy/optimize/optimize.py:761: RuntimeWarning: invalid value encountered in subtract\n",
      "  np.max(np.abs(fsim[0] - fsim[1:])) <= fatol):\n",
      "/home/smish/miniconda/envs/orion-tuning/lib/python3.7/site-packages/scipy/optimize/optimize.py:761: RuntimeWarning: invalid value encountered in subtract\n",
      "  np.max(np.abs(fsim[0] - fsim[1:])) <= fatol):\n",
      "/home/smish/miniconda/envs/orion-tuning/lib/python3.7/site-packages/scipy/optimize/optimize.py:761: RuntimeWarning: invalid value encountered in subtract\n",
      "  np.max(np.abs(fsim[0] - fsim[1:])) <= fatol):\n",
      "/home/smish/miniconda/envs/orion-tuning/lib/python3.7/site-packages/scipy/optimize/optimize.py:761: RuntimeWarning: invalid value encountered in subtract\n",
      "  np.max(np.abs(fsim[0] - fsim[1:])) <= fatol):\n",
      "/home/smish/miniconda/envs/orion-tuning/lib/python3.7/site-packages/scipy/optimize/optimize.py:761: RuntimeWarning: invalid value encountered in subtract\n",
      "  np.max(np.abs(fsim[0] - fsim[1:])) <= fatol):\n",
      "DEBUG:orion.tune:Actual {'start': {}, 'end': {}} - Found []\n",
      "/home/smish/miniconda/envs/orion-tuning/lib/python3.7/site-packages/orion/evaluation/common.py:43: RuntimeWarning: invalid value encountered in long_scalars\n",
      "  return tp / (tp + fp)\n",
      "/home/smish/miniconda/envs/orion-tuning/lib/python3.7/site-packages/orion/evaluation/common.py:56: RuntimeWarning: invalid value encountered in long_scalars\n",
      "  return tp / (tp + fn)\n",
      "DEBUG:mlblocks.mlpipeline:Producing block mlprimitives.custom.timeseries_preprocessing.time_segments_aggregate#1\n",
      "DEBUG:mlblocks.mlpipeline:Producing block sklearn.impute.SimpleImputer#1\n",
      "DEBUG:mlblocks.mlpipeline:Producing block sklearn.preprocessing.MinMaxScaler#1\n",
      "DEBUG:mlblocks.mlpipeline:Producing block mlprimitives.custom.timeseries_preprocessing.rolling_window_sequences#1\n",
      "DEBUG:mlblocks.mlpipeline:Producing block keras.Sequential.LSTMTimeSeriesRegressor#1\n"
     ]
    },
    {
     "name": "stdout",
     "output_type": "stream",
     "text": [
      "11146/11146 [==============================] - 14s 1ms/step\n"
     ]
    },
    {
     "name": "stderr",
     "output_type": "stream",
     "text": [
      "DEBUG:mlblocks.mlpipeline:Producing block mlprimitives.custom.timeseries_preprocessing.time_segments_aggregate#1\n",
      "DEBUG:mlblocks.mlpipeline:Producing block sklearn.impute.SimpleImputer#1\n",
      "DEBUG:mlblocks.mlpipeline:Producing block sklearn.preprocessing.MinMaxScaler#1\n",
      "DEBUG:mlblocks.mlpipeline:Producing block mlprimitives.custom.timeseries_preprocessing.rolling_window_sequences#1\n",
      "DEBUG:mlblocks.mlpipeline:Producing block keras.Sequential.LSTMTimeSeriesRegressor#1\n"
     ]
    },
    {
     "name": "stdout",
     "output_type": "stream",
     "text": [
      "3549/3549 [==============================] - 4s 1ms/step\n"
     ]
    },
    {
     "name": "stderr",
     "output_type": "stream",
     "text": [
      "DEBUG:mlblocks.mlpipeline:Fitting block orion.primitives.timeseries_errors.regression_errors#1\n",
      "DEBUG:mlblocks.mlpipeline:Producing block orion.primitives.timeseries_errors.regression_errors#1\n",
      "DEBUG:mlblocks.mlpipeline:Fitting block orion.primitives.timeseries_anomalies.find_anomalies#1\n",
      "DEBUG:mlblocks.mlpipeline:Producing block orion.primitives.timeseries_errors.regression_errors#1\n",
      "DEBUG:mlblocks.mlpipeline:Producing block orion.primitives.timeseries_anomalies.find_anomalies#1\n",
      "/home/smish/miniconda/envs/orion-tuning/lib/python3.7/site-packages/scipy/optimize/optimize.py:761: RuntimeWarning: invalid value encountered in subtract\n",
      "  np.max(np.abs(fsim[0] - fsim[1:])) <= fatol):\n",
      "/home/smish/miniconda/envs/orion-tuning/lib/python3.7/site-packages/scipy/optimize/optimize.py:761: RuntimeWarning: invalid value encountered in subtract\n",
      "  np.max(np.abs(fsim[0] - fsim[1:])) <= fatol):\n",
      "/home/smish/miniconda/envs/orion-tuning/lib/python3.7/site-packages/scipy/optimize/optimize.py:761: RuntimeWarning: invalid value encountered in subtract\n",
      "  np.max(np.abs(fsim[0] - fsim[1:])) <= fatol):\n",
      "/home/smish/miniconda/envs/orion-tuning/lib/python3.7/site-packages/scipy/optimize/optimize.py:761: RuntimeWarning: invalid value encountered in subtract\n",
      "  np.max(np.abs(fsim[0] - fsim[1:])) <= fatol):\n",
      "/home/smish/miniconda/envs/orion-tuning/lib/python3.7/site-packages/scipy/optimize/optimize.py:761: RuntimeWarning: invalid value encountered in subtract\n",
      "  np.max(np.abs(fsim[0] - fsim[1:])) <= fatol):\n",
      "/home/smish/miniconda/envs/orion-tuning/lib/python3.7/site-packages/scipy/optimize/optimize.py:761: RuntimeWarning: invalid value encountered in subtract\n",
      "  np.max(np.abs(fsim[0] - fsim[1:])) <= fatol):\n",
      "/home/smish/miniconda/envs/orion-tuning/lib/python3.7/site-packages/scipy/optimize/optimize.py:761: RuntimeWarning: invalid value encountered in subtract\n",
      "  np.max(np.abs(fsim[0] - fsim[1:])) <= fatol):\n",
      "/home/smish/miniconda/envs/orion-tuning/lib/python3.7/site-packages/scipy/optimize/optimize.py:761: RuntimeWarning: invalid value encountered in subtract\n",
      "  np.max(np.abs(fsim[0] - fsim[1:])) <= fatol):\n",
      "/home/smish/miniconda/envs/orion-tuning/lib/python3.7/site-packages/scipy/optimize/optimize.py:761: RuntimeWarning: invalid value encountered in subtract\n",
      "  np.max(np.abs(fsim[0] - fsim[1:])) <= fatol):\n",
      "/home/smish/miniconda/envs/orion-tuning/lib/python3.7/site-packages/scipy/optimize/optimize.py:761: RuntimeWarning: invalid value encountered in subtract\n",
      "  np.max(np.abs(fsim[0] - fsim[1:])) <= fatol):\n",
      "/home/smish/miniconda/envs/orion-tuning/lib/python3.7/site-packages/scipy/optimize/optimize.py:761: RuntimeWarning: invalid value encountered in subtract\n",
      "  np.max(np.abs(fsim[0] - fsim[1:])) <= fatol):\n",
      "/home/smish/miniconda/envs/orion-tuning/lib/python3.7/site-packages/scipy/optimize/optimize.py:761: RuntimeWarning: invalid value encountered in subtract\n",
      "  np.max(np.abs(fsim[0] - fsim[1:])) <= fatol):\n",
      "/home/smish/miniconda/envs/orion-tuning/lib/python3.7/site-packages/scipy/optimize/optimize.py:761: RuntimeWarning: invalid value encountered in subtract\n",
      "  np.max(np.abs(fsim[0] - fsim[1:])) <= fatol):\n",
      "/home/smish/miniconda/envs/orion-tuning/lib/python3.7/site-packages/scipy/optimize/optimize.py:761: RuntimeWarning: invalid value encountered in subtract\n",
      "  np.max(np.abs(fsim[0] - fsim[1:])) <= fatol):\n",
      "/home/smish/miniconda/envs/orion-tuning/lib/python3.7/site-packages/scipy/optimize/optimize.py:761: RuntimeWarning: invalid value encountered in subtract\n",
      "  np.max(np.abs(fsim[0] - fsim[1:])) <= fatol):\n",
      "/home/smish/miniconda/envs/orion-tuning/lib/python3.7/site-packages/scipy/optimize/optimize.py:761: RuntimeWarning: invalid value encountered in subtract\n",
      "  np.max(np.abs(fsim[0] - fsim[1:])) <= fatol):\n",
      "/home/smish/miniconda/envs/orion-tuning/lib/python3.7/site-packages/scipy/optimize/optimize.py:761: RuntimeWarning: invalid value encountered in subtract\n",
      "  np.max(np.abs(fsim[0] - fsim[1:])) <= fatol):\n",
      "/home/smish/miniconda/envs/orion-tuning/lib/python3.7/site-packages/scipy/optimize/optimize.py:761: RuntimeWarning: invalid value encountered in subtract\n",
      "  np.max(np.abs(fsim[0] - fsim[1:])) <= fatol):\n",
      "/home/smish/miniconda/envs/orion-tuning/lib/python3.7/site-packages/scipy/optimize/optimize.py:761: RuntimeWarning: invalid value encountered in subtract\n",
      "  np.max(np.abs(fsim[0] - fsim[1:])) <= fatol):\n",
      "/home/smish/miniconda/envs/orion-tuning/lib/python3.7/site-packages/scipy/optimize/optimize.py:761: RuntimeWarning: invalid value encountered in subtract\n",
      "  np.max(np.abs(fsim[0] - fsim[1:])) <= fatol):\n",
      "/home/smish/miniconda/envs/orion-tuning/lib/python3.7/site-packages/scipy/optimize/optimize.py:761: RuntimeWarning: invalid value encountered in subtract\n",
      "  np.max(np.abs(fsim[0] - fsim[1:])) <= fatol):\n",
      "/home/smish/miniconda/envs/orion-tuning/lib/python3.7/site-packages/scipy/optimize/optimize.py:761: RuntimeWarning: invalid value encountered in subtract\n",
      "  np.max(np.abs(fsim[0] - fsim[1:])) <= fatol):\n",
      "/home/smish/miniconda/envs/orion-tuning/lib/python3.7/site-packages/scipy/optimize/optimize.py:761: RuntimeWarning: invalid value encountered in subtract\n",
      "  np.max(np.abs(fsim[0] - fsim[1:])) <= fatol):\n",
      "/home/smish/miniconda/envs/orion-tuning/lib/python3.7/site-packages/scipy/optimize/optimize.py:761: RuntimeWarning: invalid value encountered in subtract\n",
      "  np.max(np.abs(fsim[0] - fsim[1:])) <= fatol):\n",
      "/home/smish/miniconda/envs/orion-tuning/lib/python3.7/site-packages/scipy/optimize/optimize.py:761: RuntimeWarning: invalid value encountered in subtract\n",
      "  np.max(np.abs(fsim[0] - fsim[1:])) <= fatol):\n",
      "/home/smish/miniconda/envs/orion-tuning/lib/python3.7/site-packages/scipy/optimize/optimize.py:761: RuntimeWarning: invalid value encountered in subtract\n",
      "  np.max(np.abs(fsim[0] - fsim[1:])) <= fatol):\n",
      "/home/smish/miniconda/envs/orion-tuning/lib/python3.7/site-packages/scipy/optimize/optimize.py:761: RuntimeWarning: invalid value encountered in subtract\n",
      "  np.max(np.abs(fsim[0] - fsim[1:])) <= fatol):\n",
      "/home/smish/miniconda/envs/orion-tuning/lib/python3.7/site-packages/scipy/optimize/optimize.py:761: RuntimeWarning: invalid value encountered in subtract\n",
      "  np.max(np.abs(fsim[0] - fsim[1:])) <= fatol):\n",
      "/home/smish/miniconda/envs/orion-tuning/lib/python3.7/site-packages/scipy/optimize/optimize.py:761: RuntimeWarning: invalid value encountered in subtract\n",
      "  np.max(np.abs(fsim[0] - fsim[1:])) <= fatol):\n",
      "/home/smish/miniconda/envs/orion-tuning/lib/python3.7/site-packages/scipy/optimize/optimize.py:761: RuntimeWarning: invalid value encountered in subtract\n",
      "  np.max(np.abs(fsim[0] - fsim[1:])) <= fatol):\n",
      "/home/smish/miniconda/envs/orion-tuning/lib/python3.7/site-packages/scipy/optimize/optimize.py:761: RuntimeWarning: invalid value encountered in subtract\n",
      "  np.max(np.abs(fsim[0] - fsim[1:])) <= fatol):\n",
      "/home/smish/miniconda/envs/orion-tuning/lib/python3.7/site-packages/scipy/optimize/optimize.py:761: RuntimeWarning: invalid value encountered in subtract\n",
      "  np.max(np.abs(fsim[0] - fsim[1:])) <= fatol):\n",
      "/home/smish/miniconda/envs/orion-tuning/lib/python3.7/site-packages/scipy/optimize/optimize.py:761: RuntimeWarning: invalid value encountered in subtract\n",
      "  np.max(np.abs(fsim[0] - fsim[1:])) <= fatol):\n",
      "/home/smish/miniconda/envs/orion-tuning/lib/python3.7/site-packages/scipy/optimize/optimize.py:761: RuntimeWarning: invalid value encountered in subtract\n",
      "  np.max(np.abs(fsim[0] - fsim[1:])) <= fatol):\n",
      "/home/smish/miniconda/envs/orion-tuning/lib/python3.7/site-packages/scipy/optimize/optimize.py:761: RuntimeWarning: invalid value encountered in subtract\n",
      "  np.max(np.abs(fsim[0] - fsim[1:])) <= fatol):\n",
      "/home/smish/miniconda/envs/orion-tuning/lib/python3.7/site-packages/scipy/optimize/optimize.py:761: RuntimeWarning: invalid value encountered in subtract\n",
      "  np.max(np.abs(fsim[0] - fsim[1:])) <= fatol):\n",
      "/home/smish/miniconda/envs/orion-tuning/lib/python3.7/site-packages/scipy/optimize/optimize.py:761: RuntimeWarning: invalid value encountered in subtract\n",
      "  np.max(np.abs(fsim[0] - fsim[1:])) <= fatol):\n",
      "/home/smish/miniconda/envs/orion-tuning/lib/python3.7/site-packages/scipy/optimize/optimize.py:761: RuntimeWarning: invalid value encountered in subtract\n",
      "  np.max(np.abs(fsim[0] - fsim[1:])) <= fatol):\n",
      "/home/smish/miniconda/envs/orion-tuning/lib/python3.7/site-packages/scipy/optimize/optimize.py:761: RuntimeWarning: invalid value encountered in subtract\n",
      "  np.max(np.abs(fsim[0] - fsim[1:])) <= fatol):\n"
     ]
    },
    {
     "name": "stderr",
     "output_type": "stream",
     "text": [
      "/home/smish/miniconda/envs/orion-tuning/lib/python3.7/site-packages/scipy/optimize/optimize.py:761: RuntimeWarning: invalid value encountered in subtract\n",
      "  np.max(np.abs(fsim[0] - fsim[1:])) <= fatol):\n",
      "/home/smish/miniconda/envs/orion-tuning/lib/python3.7/site-packages/scipy/optimize/optimize.py:761: RuntimeWarning: invalid value encountered in subtract\n",
      "  np.max(np.abs(fsim[0] - fsim[1:])) <= fatol):\n",
      "/home/smish/miniconda/envs/orion-tuning/lib/python3.7/site-packages/scipy/optimize/optimize.py:761: RuntimeWarning: invalid value encountered in subtract\n",
      "  np.max(np.abs(fsim[0] - fsim[1:])) <= fatol):\n",
      "/home/smish/miniconda/envs/orion-tuning/lib/python3.7/site-packages/scipy/optimize/optimize.py:761: RuntimeWarning: invalid value encountered in subtract\n",
      "  np.max(np.abs(fsim[0] - fsim[1:])) <= fatol):\n",
      "/home/smish/miniconda/envs/orion-tuning/lib/python3.7/site-packages/scipy/optimize/optimize.py:761: RuntimeWarning: invalid value encountered in subtract\n",
      "  np.max(np.abs(fsim[0] - fsim[1:])) <= fatol):\n",
      "/home/smish/miniconda/envs/orion-tuning/lib/python3.7/site-packages/scipy/optimize/optimize.py:761: RuntimeWarning: invalid value encountered in subtract\n",
      "  np.max(np.abs(fsim[0] - fsim[1:])) <= fatol):\n",
      "/home/smish/miniconda/envs/orion-tuning/lib/python3.7/site-packages/scipy/optimize/optimize.py:761: RuntimeWarning: invalid value encountered in subtract\n",
      "  np.max(np.abs(fsim[0] - fsim[1:])) <= fatol):\n",
      "/home/smish/miniconda/envs/orion-tuning/lib/python3.7/site-packages/scipy/optimize/optimize.py:761: RuntimeWarning: invalid value encountered in subtract\n",
      "  np.max(np.abs(fsim[0] - fsim[1:])) <= fatol):\n",
      "/home/smish/miniconda/envs/orion-tuning/lib/python3.7/site-packages/scipy/optimize/optimize.py:761: RuntimeWarning: invalid value encountered in subtract\n",
      "  np.max(np.abs(fsim[0] - fsim[1:])) <= fatol):\n",
      "DEBUG:orion.tune:Actual {'start': {}, 'end': {}} - Found [[1.31027760e+09 1.31509440e+09 2.65908504e-01]\n",
      " [1.33010640e+09 1.37412720e+09 6.35358901e-02]]\n",
      "/home/smish/miniconda/envs/orion-tuning/lib/python3.7/site-packages/orion/evaluation/common.py:56: RuntimeWarning: invalid value encountered in long_scalars\n",
      "  return tp / (tp + fn)\n",
      "DEBUG:mlblocks.mlpipeline:Producing block mlprimitives.custom.timeseries_preprocessing.time_segments_aggregate#1\n",
      "DEBUG:mlblocks.mlpipeline:Producing block sklearn.impute.SimpleImputer#1\n",
      "DEBUG:mlblocks.mlpipeline:Producing block sklearn.preprocessing.MinMaxScaler#1\n",
      "DEBUG:mlblocks.mlpipeline:Producing block mlprimitives.custom.timeseries_preprocessing.rolling_window_sequences#1\n",
      "DEBUG:mlblocks.mlpipeline:Producing block keras.Sequential.LSTMTimeSeriesRegressor#1\n"
     ]
    },
    {
     "name": "stdout",
     "output_type": "stream",
     "text": [
      "7348/7348 [==============================] - 9s 1ms/step\n"
     ]
    },
    {
     "name": "stderr",
     "output_type": "stream",
     "text": [
      "DEBUG:mlblocks.mlpipeline:Producing block mlprimitives.custom.timeseries_preprocessing.time_segments_aggregate#1\n",
      "DEBUG:mlblocks.mlpipeline:Producing block sklearn.impute.SimpleImputer#1\n",
      "DEBUG:mlblocks.mlpipeline:Producing block sklearn.preprocessing.MinMaxScaler#1\n",
      "DEBUG:mlblocks.mlpipeline:Producing block mlprimitives.custom.timeseries_preprocessing.rolling_window_sequences#1\n",
      "DEBUG:mlblocks.mlpipeline:Producing block keras.Sequential.LSTMTimeSeriesRegressor#1\n"
     ]
    },
    {
     "name": "stdout",
     "output_type": "stream",
     "text": [
      "3548/3548 [==============================] - 5s 1ms/step\n"
     ]
    },
    {
     "name": "stderr",
     "output_type": "stream",
     "text": [
      "DEBUG:mlblocks.mlpipeline:Fitting block orion.primitives.timeseries_errors.regression_errors#1\n",
      "DEBUG:mlblocks.mlpipeline:Producing block orion.primitives.timeseries_errors.regression_errors#1\n",
      "DEBUG:mlblocks.mlpipeline:Fitting block orion.primitives.timeseries_anomalies.find_anomalies#1\n",
      "DEBUG:mlblocks.mlpipeline:Producing block orion.primitives.timeseries_errors.regression_errors#1\n",
      "DEBUG:mlblocks.mlpipeline:Producing block orion.primitives.timeseries_anomalies.find_anomalies#1\n",
      "/home/smish/miniconda/envs/orion-tuning/lib/python3.7/site-packages/scipy/optimize/optimize.py:761: RuntimeWarning: invalid value encountered in subtract\n",
      "  np.max(np.abs(fsim[0] - fsim[1:])) <= fatol):\n",
      "/home/smish/miniconda/envs/orion-tuning/lib/python3.7/site-packages/scipy/optimize/optimize.py:761: RuntimeWarning: invalid value encountered in subtract\n",
      "  np.max(np.abs(fsim[0] - fsim[1:])) <= fatol):\n",
      "/home/smish/miniconda/envs/orion-tuning/lib/python3.7/site-packages/scipy/optimize/optimize.py:761: RuntimeWarning: invalid value encountered in subtract\n",
      "  np.max(np.abs(fsim[0] - fsim[1:])) <= fatol):\n",
      "/home/smish/miniconda/envs/orion-tuning/lib/python3.7/site-packages/scipy/optimize/optimize.py:761: RuntimeWarning: invalid value encountered in subtract\n",
      "  np.max(np.abs(fsim[0] - fsim[1:])) <= fatol):\n",
      "/home/smish/miniconda/envs/orion-tuning/lib/python3.7/site-packages/scipy/optimize/optimize.py:761: RuntimeWarning: invalid value encountered in subtract\n",
      "  np.max(np.abs(fsim[0] - fsim[1:])) <= fatol):\n",
      "/home/smish/miniconda/envs/orion-tuning/lib/python3.7/site-packages/scipy/optimize/optimize.py:761: RuntimeWarning: invalid value encountered in subtract\n",
      "  np.max(np.abs(fsim[0] - fsim[1:])) <= fatol):\n",
      "/home/smish/miniconda/envs/orion-tuning/lib/python3.7/site-packages/scipy/optimize/optimize.py:761: RuntimeWarning: invalid value encountered in subtract\n",
      "  np.max(np.abs(fsim[0] - fsim[1:])) <= fatol):\n",
      "/home/smish/miniconda/envs/orion-tuning/lib/python3.7/site-packages/scipy/optimize/optimize.py:761: RuntimeWarning: invalid value encountered in subtract\n",
      "  np.max(np.abs(fsim[0] - fsim[1:])) <= fatol):\n",
      "/home/smish/miniconda/envs/orion-tuning/lib/python3.7/site-packages/scipy/optimize/optimize.py:761: RuntimeWarning: invalid value encountered in subtract\n",
      "  np.max(np.abs(fsim[0] - fsim[1:])) <= fatol):\n",
      "/home/smish/miniconda/envs/orion-tuning/lib/python3.7/site-packages/scipy/optimize/optimize.py:761: RuntimeWarning: invalid value encountered in subtract\n",
      "  np.max(np.abs(fsim[0] - fsim[1:])) <= fatol):\n",
      "/home/smish/miniconda/envs/orion-tuning/lib/python3.7/site-packages/scipy/optimize/optimize.py:761: RuntimeWarning: invalid value encountered in subtract\n",
      "  np.max(np.abs(fsim[0] - fsim[1:])) <= fatol):\n",
      "/home/smish/miniconda/envs/orion-tuning/lib/python3.7/site-packages/scipy/optimize/optimize.py:761: RuntimeWarning: invalid value encountered in subtract\n",
      "  np.max(np.abs(fsim[0] - fsim[1:])) <= fatol):\n",
      "/home/smish/miniconda/envs/orion-tuning/lib/python3.7/site-packages/scipy/optimize/optimize.py:761: RuntimeWarning: invalid value encountered in subtract\n",
      "  np.max(np.abs(fsim[0] - fsim[1:])) <= fatol):\n",
      "/home/smish/miniconda/envs/orion-tuning/lib/python3.7/site-packages/scipy/optimize/optimize.py:761: RuntimeWarning: invalid value encountered in subtract\n",
      "  np.max(np.abs(fsim[0] - fsim[1:])) <= fatol):\n",
      "/home/smish/miniconda/envs/orion-tuning/lib/python3.7/site-packages/scipy/optimize/optimize.py:761: RuntimeWarning: invalid value encountered in subtract\n",
      "  np.max(np.abs(fsim[0] - fsim[1:])) <= fatol):\n",
      "/home/smish/miniconda/envs/orion-tuning/lib/python3.7/site-packages/scipy/optimize/optimize.py:761: RuntimeWarning: invalid value encountered in subtract\n",
      "  np.max(np.abs(fsim[0] - fsim[1:])) <= fatol):\n",
      "/home/smish/miniconda/envs/orion-tuning/lib/python3.7/site-packages/scipy/optimize/optimize.py:761: RuntimeWarning: invalid value encountered in subtract\n",
      "  np.max(np.abs(fsim[0] - fsim[1:])) <= fatol):\n",
      "/home/smish/miniconda/envs/orion-tuning/lib/python3.7/site-packages/scipy/optimize/optimize.py:761: RuntimeWarning: invalid value encountered in subtract\n",
      "  np.max(np.abs(fsim[0] - fsim[1:])) <= fatol):\n",
      "/home/smish/miniconda/envs/orion-tuning/lib/python3.7/site-packages/scipy/optimize/optimize.py:761: RuntimeWarning: invalid value encountered in subtract\n",
      "  np.max(np.abs(fsim[0] - fsim[1:])) <= fatol):\n",
      "/home/smish/miniconda/envs/orion-tuning/lib/python3.7/site-packages/scipy/optimize/optimize.py:761: RuntimeWarning: invalid value encountered in subtract\n",
      "  np.max(np.abs(fsim[0] - fsim[1:])) <= fatol):\n",
      "/home/smish/miniconda/envs/orion-tuning/lib/python3.7/site-packages/scipy/optimize/optimize.py:761: RuntimeWarning: invalid value encountered in subtract\n",
      "  np.max(np.abs(fsim[0] - fsim[1:])) <= fatol):\n",
      "/home/smish/miniconda/envs/orion-tuning/lib/python3.7/site-packages/scipy/optimize/optimize.py:761: RuntimeWarning: invalid value encountered in subtract\n",
      "  np.max(np.abs(fsim[0] - fsim[1:])) <= fatol):\n",
      "/home/smish/miniconda/envs/orion-tuning/lib/python3.7/site-packages/scipy/optimize/optimize.py:761: RuntimeWarning: invalid value encountered in subtract\n",
      "  np.max(np.abs(fsim[0] - fsim[1:])) <= fatol):\n",
      "/home/smish/miniconda/envs/orion-tuning/lib/python3.7/site-packages/scipy/optimize/optimize.py:761: RuntimeWarning: invalid value encountered in subtract\n",
      "  np.max(np.abs(fsim[0] - fsim[1:])) <= fatol):\n",
      "/home/smish/miniconda/envs/orion-tuning/lib/python3.7/site-packages/scipy/optimize/optimize.py:761: RuntimeWarning: invalid value encountered in subtract\n",
      "  np.max(np.abs(fsim[0] - fsim[1:])) <= fatol):\n",
      "/home/smish/miniconda/envs/orion-tuning/lib/python3.7/site-packages/scipy/optimize/optimize.py:761: RuntimeWarning: invalid value encountered in subtract\n",
      "  np.max(np.abs(fsim[0] - fsim[1:])) <= fatol):\n",
      "/home/smish/miniconda/envs/orion-tuning/lib/python3.7/site-packages/scipy/optimize/optimize.py:761: RuntimeWarning: invalid value encountered in subtract\n",
      "  np.max(np.abs(fsim[0] - fsim[1:])) <= fatol):\n",
      "/home/smish/miniconda/envs/orion-tuning/lib/python3.7/site-packages/scipy/optimize/optimize.py:761: RuntimeWarning: invalid value encountered in subtract\n",
      "  np.max(np.abs(fsim[0] - fsim[1:])) <= fatol):\n",
      "/home/smish/miniconda/envs/orion-tuning/lib/python3.7/site-packages/scipy/optimize/optimize.py:761: RuntimeWarning: invalid value encountered in subtract\n",
      "  np.max(np.abs(fsim[0] - fsim[1:])) <= fatol):\n",
      "/home/smish/miniconda/envs/orion-tuning/lib/python3.7/site-packages/scipy/optimize/optimize.py:761: RuntimeWarning: invalid value encountered in subtract\n",
      "  np.max(np.abs(fsim[0] - fsim[1:])) <= fatol):\n",
      "/home/smish/miniconda/envs/orion-tuning/lib/python3.7/site-packages/scipy/optimize/optimize.py:761: RuntimeWarning: invalid value encountered in subtract\n",
      "  np.max(np.abs(fsim[0] - fsim[1:])) <= fatol):\n",
      "/home/smish/miniconda/envs/orion-tuning/lib/python3.7/site-packages/scipy/optimize/optimize.py:761: RuntimeWarning: invalid value encountered in subtract\n",
      "  np.max(np.abs(fsim[0] - fsim[1:])) <= fatol):\n",
      "/home/smish/miniconda/envs/orion-tuning/lib/python3.7/site-packages/scipy/optimize/optimize.py:761: RuntimeWarning: invalid value encountered in subtract\n",
      "  np.max(np.abs(fsim[0] - fsim[1:])) <= fatol):\n",
      "/home/smish/miniconda/envs/orion-tuning/lib/python3.7/site-packages/scipy/optimize/optimize.py:761: RuntimeWarning: invalid value encountered in subtract\n",
      "  np.max(np.abs(fsim[0] - fsim[1:])) <= fatol):\n",
      "/home/smish/miniconda/envs/orion-tuning/lib/python3.7/site-packages/scipy/optimize/optimize.py:761: RuntimeWarning: invalid value encountered in subtract\n",
      "  np.max(np.abs(fsim[0] - fsim[1:])) <= fatol):\n",
      "/home/smish/miniconda/envs/orion-tuning/lib/python3.7/site-packages/scipy/optimize/optimize.py:761: RuntimeWarning: invalid value encountered in subtract\n",
      "  np.max(np.abs(fsim[0] - fsim[1:])) <= fatol):\n",
      "/home/smish/miniconda/envs/orion-tuning/lib/python3.7/site-packages/scipy/optimize/optimize.py:761: RuntimeWarning: invalid value encountered in subtract\n",
      "  np.max(np.abs(fsim[0] - fsim[1:])) <= fatol):\n",
      "/home/smish/miniconda/envs/orion-tuning/lib/python3.7/site-packages/scipy/optimize/optimize.py:761: RuntimeWarning: invalid value encountered in subtract\n",
      "  np.max(np.abs(fsim[0] - fsim[1:])) <= fatol):\n",
      "/home/smish/miniconda/envs/orion-tuning/lib/python3.7/site-packages/scipy/optimize/optimize.py:761: RuntimeWarning: invalid value encountered in subtract\n",
      "  np.max(np.abs(fsim[0] - fsim[1:])) <= fatol):\n"
     ]
    },
    {
     "name": "stderr",
     "output_type": "stream",
     "text": [
      "/home/smish/miniconda/envs/orion-tuning/lib/python3.7/site-packages/scipy/optimize/optimize.py:761: RuntimeWarning: invalid value encountered in subtract\n",
      "  np.max(np.abs(fsim[0] - fsim[1:])) <= fatol):\n",
      "/home/smish/miniconda/envs/orion-tuning/lib/python3.7/site-packages/scipy/optimize/optimize.py:761: RuntimeWarning: invalid value encountered in subtract\n",
      "  np.max(np.abs(fsim[0] - fsim[1:])) <= fatol):\n",
      "/home/smish/miniconda/envs/orion-tuning/lib/python3.7/site-packages/scipy/optimize/optimize.py:761: RuntimeWarning: invalid value encountered in subtract\n",
      "  np.max(np.abs(fsim[0] - fsim[1:])) <= fatol):\n",
      "/home/smish/miniconda/envs/orion-tuning/lib/python3.7/site-packages/scipy/optimize/optimize.py:761: RuntimeWarning: invalid value encountered in subtract\n",
      "  np.max(np.abs(fsim[0] - fsim[1:])) <= fatol):\n",
      "/home/smish/miniconda/envs/orion-tuning/lib/python3.7/site-packages/scipy/optimize/optimize.py:761: RuntimeWarning: invalid value encountered in subtract\n",
      "  np.max(np.abs(fsim[0] - fsim[1:])) <= fatol):\n",
      "/home/smish/miniconda/envs/orion-tuning/lib/python3.7/site-packages/scipy/optimize/optimize.py:761: RuntimeWarning: invalid value encountered in subtract\n",
      "  np.max(np.abs(fsim[0] - fsim[1:])) <= fatol):\n",
      "/home/smish/miniconda/envs/orion-tuning/lib/python3.7/site-packages/scipy/optimize/optimize.py:761: RuntimeWarning: invalid value encountered in subtract\n",
      "  np.max(np.abs(fsim[0] - fsim[1:])) <= fatol):\n",
      "/home/smish/miniconda/envs/orion-tuning/lib/python3.7/site-packages/scipy/optimize/optimize.py:761: RuntimeWarning: invalid value encountered in subtract\n",
      "  np.max(np.abs(fsim[0] - fsim[1:])) <= fatol):\n",
      "/home/smish/miniconda/envs/orion-tuning/lib/python3.7/site-packages/scipy/optimize/optimize.py:761: RuntimeWarning: invalid value encountered in subtract\n",
      "  np.max(np.abs(fsim[0] - fsim[1:])) <= fatol):\n",
      "/home/smish/miniconda/envs/orion-tuning/lib/python3.7/site-packages/scipy/optimize/optimize.py:761: RuntimeWarning: invalid value encountered in subtract\n",
      "  np.max(np.abs(fsim[0] - fsim[1:])) <= fatol):\n",
      "DEBUG:orion.tune:Actual {'start': {0: 1393027200.0, 1: 1406203200.0}, 'end': {0: 1393675200.0, 1: 1416484800.0}} - Found [[1.40358960e+09 1.41711120e+09 4.72439005e-01]]\n",
      "DEBUG:orion.tune:Proposal {('orion.primitives.timeseries_errors.regression_errors#1', 'smooth'): True, ('orion.primitives.timeseries_errors.regression_errors#1', 'smoothing_window'): 0.048282602035108396, ('orion.primitives.timeseries_anomalies.find_anomalies#1', 'window_size_portion'): 0.3156719209550134, ('orion.primitives.timeseries_anomalies.find_anomalies#1', 'window_step_size_portion'): 0.04537585211074942, ('orion.primitives.timeseries_anomalies.find_anomalies#1', 'min_percent'): 0.6149089001020378, ('orion.primitives.timeseries_anomalies.find_anomalies#1', 'anomaly_padding'): 218} scored 0.840989\n",
      "DEBUG:orion.tune:Recorded score 0.840989\n",
      "DEBUG:btb.tuning.tuners.base:Not enough samples recorded to generate predictions, generating random proposal.\n",
      "DEBUG:orion.tune:Scoring proposal 3: {('orion.primitives.timeseries_errors.regression_errors#1', 'smooth'): True, ('orion.primitives.timeseries_errors.regression_errors#1', 'smoothing_window'): 0.04686873186525508, ('orion.primitives.timeseries_anomalies.find_anomalies#1', 'window_size_portion'): 0.04898008739101784, ('orion.primitives.timeseries_anomalies.find_anomalies#1', 'window_step_size_portion'): 0.8988061440804971, ('orion.primitives.timeseries_anomalies.find_anomalies#1', 'min_percent'): 0.7323032507541467, ('orion.primitives.timeseries_anomalies.find_anomalies#1', 'anomaly_padding'): 278}\n",
      "DEBUG:mlblocks.mlpipeline:Producing block mlprimitives.custom.timeseries_preprocessing.time_segments_aggregate#1\n",
      "DEBUG:mlblocks.mlpipeline:Producing block sklearn.impute.SimpleImputer#1\n",
      "DEBUG:mlblocks.mlpipeline:Producing block sklearn.preprocessing.MinMaxScaler#1\n",
      "DEBUG:mlblocks.mlpipeline:Producing block mlprimitives.custom.timeseries_preprocessing.rolling_window_sequences#1\n",
      "DEBUG:mlblocks.mlpipeline:Producing block keras.Sequential.LSTMTimeSeriesRegressor#1\n"
     ]
    },
    {
     "name": "stdout",
     "output_type": "stream",
     "text": [
      "7347/7347 [==============================] - 9s 1ms/step\n"
     ]
    },
    {
     "name": "stderr",
     "output_type": "stream",
     "text": [
      "DEBUG:mlblocks.mlpipeline:Producing block mlprimitives.custom.timeseries_preprocessing.time_segments_aggregate#1\n",
      "DEBUG:mlblocks.mlpipeline:Producing block sklearn.impute.SimpleImputer#1\n",
      "DEBUG:mlblocks.mlpipeline:Producing block sklearn.preprocessing.MinMaxScaler#1\n",
      "DEBUG:mlblocks.mlpipeline:Producing block mlprimitives.custom.timeseries_preprocessing.rolling_window_sequences#1\n",
      "DEBUG:mlblocks.mlpipeline:Producing block keras.Sequential.LSTMTimeSeriesRegressor#1\n"
     ]
    },
    {
     "name": "stdout",
     "output_type": "stream",
     "text": [
      "3549/3549 [==============================] - 5s 1ms/step\n"
     ]
    },
    {
     "name": "stderr",
     "output_type": "stream",
     "text": [
      "DEBUG:mlblocks.mlpipeline:Fitting block orion.primitives.timeseries_errors.regression_errors#1\n",
      "DEBUG:mlblocks.mlpipeline:Producing block orion.primitives.timeseries_errors.regression_errors#1\n",
      "DEBUG:mlblocks.mlpipeline:Fitting block orion.primitives.timeseries_anomalies.find_anomalies#1\n",
      "DEBUG:mlblocks.mlpipeline:Producing block orion.primitives.timeseries_errors.regression_errors#1\n",
      "DEBUG:mlblocks.mlpipeline:Producing block orion.primitives.timeseries_anomalies.find_anomalies#1\n",
      "/home/smish/miniconda/envs/orion-tuning/lib/python3.7/site-packages/scipy/optimize/optimize.py:761: RuntimeWarning: invalid value encountered in subtract\n",
      "  np.max(np.abs(fsim[0] - fsim[1:])) <= fatol):\n",
      "/home/smish/miniconda/envs/orion-tuning/lib/python3.7/site-packages/scipy/optimize/optimize.py:761: RuntimeWarning: invalid value encountered in subtract\n",
      "  np.max(np.abs(fsim[0] - fsim[1:])) <= fatol):\n",
      "/home/smish/miniconda/envs/orion-tuning/lib/python3.7/site-packages/scipy/optimize/optimize.py:761: RuntimeWarning: invalid value encountered in subtract\n",
      "  np.max(np.abs(fsim[0] - fsim[1:])) <= fatol):\n",
      "/home/smish/miniconda/envs/orion-tuning/lib/python3.7/site-packages/scipy/optimize/optimize.py:761: RuntimeWarning: invalid value encountered in subtract\n",
      "  np.max(np.abs(fsim[0] - fsim[1:])) <= fatol):\n",
      "/home/smish/miniconda/envs/orion-tuning/lib/python3.7/site-packages/scipy/optimize/optimize.py:761: RuntimeWarning: invalid value encountered in subtract\n",
      "  np.max(np.abs(fsim[0] - fsim[1:])) <= fatol):\n",
      "/home/smish/miniconda/envs/orion-tuning/lib/python3.7/site-packages/scipy/optimize/optimize.py:761: RuntimeWarning: invalid value encountered in subtract\n",
      "  np.max(np.abs(fsim[0] - fsim[1:])) <= fatol):\n",
      "/home/smish/miniconda/envs/orion-tuning/lib/python3.7/site-packages/scipy/optimize/optimize.py:761: RuntimeWarning: invalid value encountered in subtract\n",
      "  np.max(np.abs(fsim[0] - fsim[1:])) <= fatol):\n",
      "/home/smish/miniconda/envs/orion-tuning/lib/python3.7/site-packages/scipy/optimize/optimize.py:761: RuntimeWarning: invalid value encountered in subtract\n",
      "  np.max(np.abs(fsim[0] - fsim[1:])) <= fatol):\n",
      "/home/smish/miniconda/envs/orion-tuning/lib/python3.7/site-packages/scipy/optimize/optimize.py:761: RuntimeWarning: invalid value encountered in subtract\n",
      "  np.max(np.abs(fsim[0] - fsim[1:])) <= fatol):\n",
      "/home/smish/miniconda/envs/orion-tuning/lib/python3.7/site-packages/scipy/optimize/optimize.py:761: RuntimeWarning: invalid value encountered in subtract\n",
      "  np.max(np.abs(fsim[0] - fsim[1:])) <= fatol):\n",
      "/home/smish/miniconda/envs/orion-tuning/lib/python3.7/site-packages/scipy/optimize/optimize.py:761: RuntimeWarning: invalid value encountered in subtract\n",
      "  np.max(np.abs(fsim[0] - fsim[1:])) <= fatol):\n",
      "/home/smish/miniconda/envs/orion-tuning/lib/python3.7/site-packages/scipy/optimize/optimize.py:761: RuntimeWarning: invalid value encountered in subtract\n",
      "  np.max(np.abs(fsim[0] - fsim[1:])) <= fatol):\n",
      "/home/smish/miniconda/envs/orion-tuning/lib/python3.7/site-packages/scipy/optimize/optimize.py:761: RuntimeWarning: invalid value encountered in subtract\n",
      "  np.max(np.abs(fsim[0] - fsim[1:])) <= fatol):\n",
      "/home/smish/miniconda/envs/orion-tuning/lib/python3.7/site-packages/scipy/optimize/optimize.py:761: RuntimeWarning: invalid value encountered in subtract\n",
      "  np.max(np.abs(fsim[0] - fsim[1:])) <= fatol):\n",
      "/home/smish/miniconda/envs/orion-tuning/lib/python3.7/site-packages/scipy/optimize/optimize.py:761: RuntimeWarning: invalid value encountered in subtract\n",
      "  np.max(np.abs(fsim[0] - fsim[1:])) <= fatol):\n",
      "/home/smish/miniconda/envs/orion-tuning/lib/python3.7/site-packages/scipy/optimize/optimize.py:761: RuntimeWarning: invalid value encountered in subtract\n",
      "  np.max(np.abs(fsim[0] - fsim[1:])) <= fatol):\n",
      "/home/smish/miniconda/envs/orion-tuning/lib/python3.7/site-packages/scipy/optimize/optimize.py:761: RuntimeWarning: invalid value encountered in subtract\n",
      "  np.max(np.abs(fsim[0] - fsim[1:])) <= fatol):\n",
      "/home/smish/miniconda/envs/orion-tuning/lib/python3.7/site-packages/scipy/optimize/optimize.py:761: RuntimeWarning: invalid value encountered in subtract\n",
      "  np.max(np.abs(fsim[0] - fsim[1:])) <= fatol):\n",
      "/home/smish/miniconda/envs/orion-tuning/lib/python3.7/site-packages/scipy/optimize/optimize.py:761: RuntimeWarning: invalid value encountered in subtract\n",
      "  np.max(np.abs(fsim[0] - fsim[1:])) <= fatol):\n",
      "/home/smish/miniconda/envs/orion-tuning/lib/python3.7/site-packages/scipy/optimize/optimize.py:761: RuntimeWarning: invalid value encountered in subtract\n",
      "  np.max(np.abs(fsim[0] - fsim[1:])) <= fatol):\n",
      "/home/smish/miniconda/envs/orion-tuning/lib/python3.7/site-packages/scipy/optimize/optimize.py:761: RuntimeWarning: invalid value encountered in subtract\n",
      "  np.max(np.abs(fsim[0] - fsim[1:])) <= fatol):\n",
      "/home/smish/miniconda/envs/orion-tuning/lib/python3.7/site-packages/scipy/optimize/optimize.py:761: RuntimeWarning: invalid value encountered in subtract\n",
      "  np.max(np.abs(fsim[0] - fsim[1:])) <= fatol):\n",
      "/home/smish/miniconda/envs/orion-tuning/lib/python3.7/site-packages/scipy/optimize/optimize.py:761: RuntimeWarning: invalid value encountered in subtract\n",
      "  np.max(np.abs(fsim[0] - fsim[1:])) <= fatol):\n",
      "DEBUG:orion.tune:Actual {'start': {}, 'end': {}} - Found [[1.22821920e+09 1.30485600e+09 3.53632697e-02]]\n",
      "/home/smish/miniconda/envs/orion-tuning/lib/python3.7/site-packages/orion/evaluation/common.py:56: RuntimeWarning: invalid value encountered in long_scalars\n",
      "  return tp / (tp + fn)\n",
      "DEBUG:mlblocks.mlpipeline:Producing block mlprimitives.custom.timeseries_preprocessing.time_segments_aggregate#1\n",
      "DEBUG:mlblocks.mlpipeline:Producing block sklearn.impute.SimpleImputer#1\n",
      "DEBUG:mlblocks.mlpipeline:Producing block sklearn.preprocessing.MinMaxScaler#1\n",
      "DEBUG:mlblocks.mlpipeline:Producing block mlprimitives.custom.timeseries_preprocessing.rolling_window_sequences#1\n",
      "DEBUG:mlblocks.mlpipeline:Producing block keras.Sequential.LSTMTimeSeriesRegressor#1\n"
     ]
    },
    {
     "name": "stdout",
     "output_type": "stream",
     "text": [
      "11146/11146 [==============================] - 15s 1ms/step\n"
     ]
    },
    {
     "name": "stderr",
     "output_type": "stream",
     "text": [
      "DEBUG:mlblocks.mlpipeline:Producing block mlprimitives.custom.timeseries_preprocessing.time_segments_aggregate#1\n",
      "DEBUG:mlblocks.mlpipeline:Producing block sklearn.impute.SimpleImputer#1\n",
      "DEBUG:mlblocks.mlpipeline:Producing block sklearn.preprocessing.MinMaxScaler#1\n",
      "DEBUG:mlblocks.mlpipeline:Producing block mlprimitives.custom.timeseries_preprocessing.rolling_window_sequences#1\n",
      "DEBUG:mlblocks.mlpipeline:Producing block keras.Sequential.LSTMTimeSeriesRegressor#1\n"
     ]
    },
    {
     "name": "stdout",
     "output_type": "stream",
     "text": [
      "3549/3549 [==============================] - 5s 1ms/step\n"
     ]
    },
    {
     "name": "stderr",
     "output_type": "stream",
     "text": [
      "DEBUG:mlblocks.mlpipeline:Fitting block orion.primitives.timeseries_errors.regression_errors#1\n",
      "DEBUG:mlblocks.mlpipeline:Producing block orion.primitives.timeseries_errors.regression_errors#1\n",
      "DEBUG:mlblocks.mlpipeline:Fitting block orion.primitives.timeseries_anomalies.find_anomalies#1\n",
      "DEBUG:mlblocks.mlpipeline:Producing block orion.primitives.timeseries_errors.regression_errors#1\n",
      "DEBUG:mlblocks.mlpipeline:Producing block orion.primitives.timeseries_anomalies.find_anomalies#1\n",
      "/home/smish/miniconda/envs/orion-tuning/lib/python3.7/site-packages/scipy/optimize/optimize.py:761: RuntimeWarning: invalid value encountered in subtract\n",
      "  np.max(np.abs(fsim[0] - fsim[1:])) <= fatol):\n",
      "/home/smish/miniconda/envs/orion-tuning/lib/python3.7/site-packages/scipy/optimize/optimize.py:761: RuntimeWarning: invalid value encountered in subtract\n",
      "  np.max(np.abs(fsim[0] - fsim[1:])) <= fatol):\n",
      "/home/smish/miniconda/envs/orion-tuning/lib/python3.7/site-packages/scipy/optimize/optimize.py:761: RuntimeWarning: invalid value encountered in subtract\n",
      "  np.max(np.abs(fsim[0] - fsim[1:])) <= fatol):\n",
      "/home/smish/miniconda/envs/orion-tuning/lib/python3.7/site-packages/scipy/optimize/optimize.py:761: RuntimeWarning: invalid value encountered in subtract\n",
      "  np.max(np.abs(fsim[0] - fsim[1:])) <= fatol):\n",
      "/home/smish/miniconda/envs/orion-tuning/lib/python3.7/site-packages/scipy/optimize/optimize.py:761: RuntimeWarning: invalid value encountered in subtract\n",
      "  np.max(np.abs(fsim[0] - fsim[1:])) <= fatol):\n",
      "/home/smish/miniconda/envs/orion-tuning/lib/python3.7/site-packages/scipy/optimize/optimize.py:761: RuntimeWarning: invalid value encountered in subtract\n",
      "  np.max(np.abs(fsim[0] - fsim[1:])) <= fatol):\n",
      "/home/smish/miniconda/envs/orion-tuning/lib/python3.7/site-packages/scipy/optimize/optimize.py:761: RuntimeWarning: invalid value encountered in subtract\n",
      "  np.max(np.abs(fsim[0] - fsim[1:])) <= fatol):\n",
      "/home/smish/miniconda/envs/orion-tuning/lib/python3.7/site-packages/scipy/optimize/optimize.py:761: RuntimeWarning: invalid value encountered in subtract\n",
      "  np.max(np.abs(fsim[0] - fsim[1:])) <= fatol):\n",
      "/home/smish/miniconda/envs/orion-tuning/lib/python3.7/site-packages/scipy/optimize/optimize.py:761: RuntimeWarning: invalid value encountered in subtract\n",
      "  np.max(np.abs(fsim[0] - fsim[1:])) <= fatol):\n",
      "/home/smish/miniconda/envs/orion-tuning/lib/python3.7/site-packages/scipy/optimize/optimize.py:761: RuntimeWarning: invalid value encountered in subtract\n",
      "  np.max(np.abs(fsim[0] - fsim[1:])) <= fatol):\n",
      "/home/smish/miniconda/envs/orion-tuning/lib/python3.7/site-packages/scipy/optimize/optimize.py:761: RuntimeWarning: invalid value encountered in subtract\n",
      "  np.max(np.abs(fsim[0] - fsim[1:])) <= fatol):\n",
      "/home/smish/miniconda/envs/orion-tuning/lib/python3.7/site-packages/scipy/optimize/optimize.py:761: RuntimeWarning: invalid value encountered in subtract\n",
      "  np.max(np.abs(fsim[0] - fsim[1:])) <= fatol):\n",
      "/home/smish/miniconda/envs/orion-tuning/lib/python3.7/site-packages/scipy/optimize/optimize.py:761: RuntimeWarning: invalid value encountered in subtract\n",
      "  np.max(np.abs(fsim[0] - fsim[1:])) <= fatol):\n",
      "/home/smish/miniconda/envs/orion-tuning/lib/python3.7/site-packages/scipy/optimize/optimize.py:761: RuntimeWarning: invalid value encountered in subtract\n",
      "  np.max(np.abs(fsim[0] - fsim[1:])) <= fatol):\n",
      "/home/smish/miniconda/envs/orion-tuning/lib/python3.7/site-packages/scipy/optimize/optimize.py:761: RuntimeWarning: invalid value encountered in subtract\n",
      "  np.max(np.abs(fsim[0] - fsim[1:])) <= fatol):\n",
      "/home/smish/miniconda/envs/orion-tuning/lib/python3.7/site-packages/scipy/optimize/optimize.py:761: RuntimeWarning: invalid value encountered in subtract\n",
      "  np.max(np.abs(fsim[0] - fsim[1:])) <= fatol):\n",
      "/home/smish/miniconda/envs/orion-tuning/lib/python3.7/site-packages/scipy/optimize/optimize.py:761: RuntimeWarning: invalid value encountered in subtract\n",
      "  np.max(np.abs(fsim[0] - fsim[1:])) <= fatol):\n",
      "/home/smish/miniconda/envs/orion-tuning/lib/python3.7/site-packages/scipy/optimize/optimize.py:761: RuntimeWarning: invalid value encountered in subtract\n",
      "  np.max(np.abs(fsim[0] - fsim[1:])) <= fatol):\n",
      "/home/smish/miniconda/envs/orion-tuning/lib/python3.7/site-packages/scipy/optimize/optimize.py:761: RuntimeWarning: invalid value encountered in subtract\n",
      "  np.max(np.abs(fsim[0] - fsim[1:])) <= fatol):\n",
      "/home/smish/miniconda/envs/orion-tuning/lib/python3.7/site-packages/scipy/optimize/optimize.py:761: RuntimeWarning: invalid value encountered in subtract\n",
      "  np.max(np.abs(fsim[0] - fsim[1:])) <= fatol):\n",
      "/home/smish/miniconda/envs/orion-tuning/lib/python3.7/site-packages/scipy/optimize/optimize.py:761: RuntimeWarning: invalid value encountered in subtract\n",
      "  np.max(np.abs(fsim[0] - fsim[1:])) <= fatol):\n",
      "/home/smish/miniconda/envs/orion-tuning/lib/python3.7/site-packages/scipy/optimize/optimize.py:761: RuntimeWarning: invalid value encountered in subtract\n",
      "  np.max(np.abs(fsim[0] - fsim[1:])) <= fatol):\n",
      "/home/smish/miniconda/envs/orion-tuning/lib/python3.7/site-packages/scipy/optimize/optimize.py:761: RuntimeWarning: invalid value encountered in subtract\n",
      "  np.max(np.abs(fsim[0] - fsim[1:])) <= fatol):\n",
      "DEBUG:orion.tune:Actual {'start': {}, 'end': {}} - Found [[1.3102776e+09 1.3869144e+09 4.9176605e-02]]\n",
      "/home/smish/miniconda/envs/orion-tuning/lib/python3.7/site-packages/orion/evaluation/common.py:56: RuntimeWarning: invalid value encountered in long_scalars\n",
      "  return tp / (tp + fn)\n",
      "DEBUG:mlblocks.mlpipeline:Producing block mlprimitives.custom.timeseries_preprocessing.time_segments_aggregate#1\n",
      "DEBUG:mlblocks.mlpipeline:Producing block sklearn.impute.SimpleImputer#1\n",
      "DEBUG:mlblocks.mlpipeline:Producing block sklearn.preprocessing.MinMaxScaler#1\n",
      "DEBUG:mlblocks.mlpipeline:Producing block mlprimitives.custom.timeseries_preprocessing.rolling_window_sequences#1\n",
      "DEBUG:mlblocks.mlpipeline:Producing block keras.Sequential.LSTMTimeSeriesRegressor#1\n"
     ]
    },
    {
     "name": "stdout",
     "output_type": "stream",
     "text": [
      "7348/7348 [==============================] - 15s 2ms/step\n"
     ]
    },
    {
     "name": "stderr",
     "output_type": "stream",
     "text": [
      "DEBUG:mlblocks.mlpipeline:Producing block mlprimitives.custom.timeseries_preprocessing.time_segments_aggregate#1\n",
      "DEBUG:mlblocks.mlpipeline:Producing block sklearn.impute.SimpleImputer#1\n",
      "DEBUG:mlblocks.mlpipeline:Producing block sklearn.preprocessing.MinMaxScaler#1\n",
      "DEBUG:mlblocks.mlpipeline:Producing block mlprimitives.custom.timeseries_preprocessing.rolling_window_sequences#1\n",
      "DEBUG:mlblocks.mlpipeline:Producing block keras.Sequential.LSTMTimeSeriesRegressor#1\n"
     ]
    },
    {
     "name": "stdout",
     "output_type": "stream",
     "text": [
      "3548/3548 [==============================] - 7s 2ms/step\n"
     ]
    },
    {
     "name": "stderr",
     "output_type": "stream",
     "text": [
      "DEBUG:mlblocks.mlpipeline:Fitting block orion.primitives.timeseries_errors.regression_errors#1\n",
      "DEBUG:mlblocks.mlpipeline:Producing block orion.primitives.timeseries_errors.regression_errors#1\n",
      "DEBUG:mlblocks.mlpipeline:Fitting block orion.primitives.timeseries_anomalies.find_anomalies#1\n",
      "DEBUG:mlblocks.mlpipeline:Producing block orion.primitives.timeseries_errors.regression_errors#1\n",
      "DEBUG:mlblocks.mlpipeline:Producing block orion.primitives.timeseries_anomalies.find_anomalies#1\n",
      "/home/smish/miniconda/envs/orion-tuning/lib/python3.7/site-packages/scipy/optimize/optimize.py:761: RuntimeWarning: invalid value encountered in subtract\n",
      "  np.max(np.abs(fsim[0] - fsim[1:])) <= fatol):\n",
      "/home/smish/miniconda/envs/orion-tuning/lib/python3.7/site-packages/scipy/optimize/optimize.py:761: RuntimeWarning: invalid value encountered in subtract\n",
      "  np.max(np.abs(fsim[0] - fsim[1:])) <= fatol):\n",
      "/home/smish/miniconda/envs/orion-tuning/lib/python3.7/site-packages/scipy/optimize/optimize.py:761: RuntimeWarning: invalid value encountered in subtract\n",
      "  np.max(np.abs(fsim[0] - fsim[1:])) <= fatol):\n",
      "/home/smish/miniconda/envs/orion-tuning/lib/python3.7/site-packages/scipy/optimize/optimize.py:761: RuntimeWarning: invalid value encountered in subtract\n",
      "  np.max(np.abs(fsim[0] - fsim[1:])) <= fatol):\n",
      "/home/smish/miniconda/envs/orion-tuning/lib/python3.7/site-packages/scipy/optimize/optimize.py:761: RuntimeWarning: invalid value encountered in subtract\n",
      "  np.max(np.abs(fsim[0] - fsim[1:])) <= fatol):\n",
      "/home/smish/miniconda/envs/orion-tuning/lib/python3.7/site-packages/scipy/optimize/optimize.py:761: RuntimeWarning: invalid value encountered in subtract\n",
      "  np.max(np.abs(fsim[0] - fsim[1:])) <= fatol):\n",
      "/home/smish/miniconda/envs/orion-tuning/lib/python3.7/site-packages/scipy/optimize/optimize.py:761: RuntimeWarning: invalid value encountered in subtract\n",
      "  np.max(np.abs(fsim[0] - fsim[1:])) <= fatol):\n",
      "/home/smish/miniconda/envs/orion-tuning/lib/python3.7/site-packages/scipy/optimize/optimize.py:761: RuntimeWarning: invalid value encountered in subtract\n",
      "  np.max(np.abs(fsim[0] - fsim[1:])) <= fatol):\n",
      "/home/smish/miniconda/envs/orion-tuning/lib/python3.7/site-packages/scipy/optimize/optimize.py:761: RuntimeWarning: invalid value encountered in subtract\n",
      "  np.max(np.abs(fsim[0] - fsim[1:])) <= fatol):\n",
      "/home/smish/miniconda/envs/orion-tuning/lib/python3.7/site-packages/scipy/optimize/optimize.py:761: RuntimeWarning: invalid value encountered in subtract\n",
      "  np.max(np.abs(fsim[0] - fsim[1:])) <= fatol):\n",
      "/home/smish/miniconda/envs/orion-tuning/lib/python3.7/site-packages/scipy/optimize/optimize.py:761: RuntimeWarning: invalid value encountered in subtract\n",
      "  np.max(np.abs(fsim[0] - fsim[1:])) <= fatol):\n",
      "/home/smish/miniconda/envs/orion-tuning/lib/python3.7/site-packages/scipy/optimize/optimize.py:761: RuntimeWarning: invalid value encountered in subtract\n",
      "  np.max(np.abs(fsim[0] - fsim[1:])) <= fatol):\n",
      "/home/smish/miniconda/envs/orion-tuning/lib/python3.7/site-packages/scipy/optimize/optimize.py:761: RuntimeWarning: invalid value encountered in subtract\n",
      "  np.max(np.abs(fsim[0] - fsim[1:])) <= fatol):\n",
      "/home/smish/miniconda/envs/orion-tuning/lib/python3.7/site-packages/scipy/optimize/optimize.py:761: RuntimeWarning: invalid value encountered in subtract\n",
      "  np.max(np.abs(fsim[0] - fsim[1:])) <= fatol):\n",
      "/home/smish/miniconda/envs/orion-tuning/lib/python3.7/site-packages/scipy/optimize/optimize.py:761: RuntimeWarning: invalid value encountered in subtract\n",
      "  np.max(np.abs(fsim[0] - fsim[1:])) <= fatol):\n",
      "/home/smish/miniconda/envs/orion-tuning/lib/python3.7/site-packages/scipy/optimize/optimize.py:761: RuntimeWarning: invalid value encountered in subtract\n",
      "  np.max(np.abs(fsim[0] - fsim[1:])) <= fatol):\n",
      "/home/smish/miniconda/envs/orion-tuning/lib/python3.7/site-packages/scipy/optimize/optimize.py:761: RuntimeWarning: invalid value encountered in subtract\n",
      "  np.max(np.abs(fsim[0] - fsim[1:])) <= fatol):\n",
      "/home/smish/miniconda/envs/orion-tuning/lib/python3.7/site-packages/scipy/optimize/optimize.py:761: RuntimeWarning: invalid value encountered in subtract\n",
      "  np.max(np.abs(fsim[0] - fsim[1:])) <= fatol):\n",
      "/home/smish/miniconda/envs/orion-tuning/lib/python3.7/site-packages/scipy/optimize/optimize.py:761: RuntimeWarning: invalid value encountered in subtract\n",
      "  np.max(np.abs(fsim[0] - fsim[1:])) <= fatol):\n",
      "/home/smish/miniconda/envs/orion-tuning/lib/python3.7/site-packages/scipy/optimize/optimize.py:761: RuntimeWarning: invalid value encountered in subtract\n",
      "  np.max(np.abs(fsim[0] - fsim[1:])) <= fatol):\n",
      "/home/smish/miniconda/envs/orion-tuning/lib/python3.7/site-packages/scipy/optimize/optimize.py:761: RuntimeWarning: invalid value encountered in subtract\n",
      "  np.max(np.abs(fsim[0] - fsim[1:])) <= fatol):\n",
      "/home/smish/miniconda/envs/orion-tuning/lib/python3.7/site-packages/scipy/optimize/optimize.py:761: RuntimeWarning: invalid value encountered in subtract\n",
      "  np.max(np.abs(fsim[0] - fsim[1:])) <= fatol):\n",
      "/home/smish/miniconda/envs/orion-tuning/lib/python3.7/site-packages/scipy/optimize/optimize.py:761: RuntimeWarning: invalid value encountered in subtract\n",
      "  np.max(np.abs(fsim[0] - fsim[1:])) <= fatol):\n",
      "DEBUG:orion.tune:Actual {'start': {0: 1393027200.0, 1: 1406203200.0}, 'end': {0: 1393675200.0, 1: 1416484800.0}} - Found [[1.39233600e+09 1.46895120e+09 1.11658823e-01]]\n",
      "DEBUG:orion.tune:Proposal {('orion.primitives.timeseries_errors.regression_errors#1', 'smooth'): True, ('orion.primitives.timeseries_errors.regression_errors#1', 'smoothing_window'): 0.04686873186525508, ('orion.primitives.timeseries_anomalies.find_anomalies#1', 'window_size_portion'): 0.04898008739101784, ('orion.primitives.timeseries_anomalies.find_anomalies#1', 'window_step_size_portion'): 0.8988061440804971, ('orion.primitives.timeseries_anomalies.find_anomalies#1', 'min_percent'): 0.7323032507541467, ('orion.primitives.timeseries_anomalies.find_anomalies#1', 'anomaly_padding'): 278} scored 0.249692\n",
      "DEBUG:orion.tune:Recorded score 0.249692\n",
      "DEBUG:btb.tuning.tuners.base:Fitting the model with 5 samples.\n",
      "DEBUG:orion.tune:Scoring proposal 4: {('orion.primitives.timeseries_errors.regression_errors#1', 'smooth'): False, ('orion.primitives.timeseries_errors.regression_errors#1', 'smoothing_window'): 0.08604442714537941, ('orion.primitives.timeseries_anomalies.find_anomalies#1', 'window_size_portion'): 0.7471594027058357, ('orion.primitives.timeseries_anomalies.find_anomalies#1', 'window_step_size_portion'): 0.030252402804459615, ('orion.primitives.timeseries_anomalies.find_anomalies#1', 'min_percent'): 0.8256543815501619, ('orion.primitives.timeseries_anomalies.find_anomalies#1', 'anomaly_padding'): 311}\n",
      "DEBUG:mlblocks.mlpipeline:Producing block mlprimitives.custom.timeseries_preprocessing.time_segments_aggregate#1\n",
      "DEBUG:mlblocks.mlpipeline:Producing block sklearn.impute.SimpleImputer#1\n",
      "DEBUG:mlblocks.mlpipeline:Producing block sklearn.preprocessing.MinMaxScaler#1\n",
      "DEBUG:mlblocks.mlpipeline:Producing block mlprimitives.custom.timeseries_preprocessing.rolling_window_sequences#1\n",
      "DEBUG:mlblocks.mlpipeline:Producing block keras.Sequential.LSTMTimeSeriesRegressor#1\n"
     ]
    },
    {
     "name": "stdout",
     "output_type": "stream",
     "text": [
      "7347/7347 [==============================] - 9s 1ms/step\n"
     ]
    },
    {
     "name": "stderr",
     "output_type": "stream",
     "text": [
      "DEBUG:mlblocks.mlpipeline:Producing block mlprimitives.custom.timeseries_preprocessing.time_segments_aggregate#1\n",
      "DEBUG:mlblocks.mlpipeline:Producing block sklearn.impute.SimpleImputer#1\n",
      "DEBUG:mlblocks.mlpipeline:Producing block sklearn.preprocessing.MinMaxScaler#1\n",
      "DEBUG:mlblocks.mlpipeline:Producing block mlprimitives.custom.timeseries_preprocessing.rolling_window_sequences#1\n",
      "DEBUG:mlblocks.mlpipeline:Producing block keras.Sequential.LSTMTimeSeriesRegressor#1\n"
     ]
    },
    {
     "name": "stdout",
     "output_type": "stream",
     "text": [
      "3549/3549 [==============================] - 5s 1ms/step\n"
     ]
    },
    {
     "name": "stderr",
     "output_type": "stream",
     "text": [
      "DEBUG:mlblocks.mlpipeline:Fitting block orion.primitives.timeseries_errors.regression_errors#1\n",
      "DEBUG:mlblocks.mlpipeline:Producing block orion.primitives.timeseries_errors.regression_errors#1\n",
      "DEBUG:mlblocks.mlpipeline:Fitting block orion.primitives.timeseries_anomalies.find_anomalies#1\n",
      "DEBUG:mlblocks.mlpipeline:Producing block orion.primitives.timeseries_errors.regression_errors#1\n",
      "DEBUG:mlblocks.mlpipeline:Producing block orion.primitives.timeseries_anomalies.find_anomalies#1\n",
      "/home/smish/miniconda/envs/orion-tuning/lib/python3.7/site-packages/scipy/optimize/optimize.py:761: RuntimeWarning: invalid value encountered in subtract\n",
      "  np.max(np.abs(fsim[0] - fsim[1:])) <= fatol):\n",
      "/home/smish/miniconda/envs/orion-tuning/lib/python3.7/site-packages/scipy/optimize/optimize.py:761: RuntimeWarning: invalid value encountered in subtract\n",
      "  np.max(np.abs(fsim[0] - fsim[1:])) <= fatol):\n",
      "/home/smish/miniconda/envs/orion-tuning/lib/python3.7/site-packages/scipy/optimize/optimize.py:761: RuntimeWarning: invalid value encountered in subtract\n",
      "  np.max(np.abs(fsim[0] - fsim[1:])) <= fatol):\n",
      "/home/smish/miniconda/envs/orion-tuning/lib/python3.7/site-packages/scipy/optimize/optimize.py:761: RuntimeWarning: invalid value encountered in subtract\n",
      "  np.max(np.abs(fsim[0] - fsim[1:])) <= fatol):\n",
      "/home/smish/miniconda/envs/orion-tuning/lib/python3.7/site-packages/scipy/optimize/optimize.py:761: RuntimeWarning: invalid value encountered in subtract\n",
      "  np.max(np.abs(fsim[0] - fsim[1:])) <= fatol):\n",
      "/home/smish/miniconda/envs/orion-tuning/lib/python3.7/site-packages/scipy/optimize/optimize.py:761: RuntimeWarning: invalid value encountered in subtract\n",
      "  np.max(np.abs(fsim[0] - fsim[1:])) <= fatol):\n",
      "/home/smish/miniconda/envs/orion-tuning/lib/python3.7/site-packages/scipy/optimize/optimize.py:761: RuntimeWarning: invalid value encountered in subtract\n",
      "  np.max(np.abs(fsim[0] - fsim[1:])) <= fatol):\n",
      "/home/smish/miniconda/envs/orion-tuning/lib/python3.7/site-packages/scipy/optimize/optimize.py:761: RuntimeWarning: invalid value encountered in subtract\n",
      "  np.max(np.abs(fsim[0] - fsim[1:])) <= fatol):\n",
      "/home/smish/miniconda/envs/orion-tuning/lib/python3.7/site-packages/scipy/optimize/optimize.py:761: RuntimeWarning: invalid value encountered in subtract\n",
      "  np.max(np.abs(fsim[0] - fsim[1:])) <= fatol):\n",
      "/home/smish/miniconda/envs/orion-tuning/lib/python3.7/site-packages/scipy/optimize/optimize.py:761: RuntimeWarning: invalid value encountered in subtract\n",
      "  np.max(np.abs(fsim[0] - fsim[1:])) <= fatol):\n",
      "/home/smish/miniconda/envs/orion-tuning/lib/python3.7/site-packages/scipy/optimize/optimize.py:761: RuntimeWarning: invalid value encountered in subtract\n",
      "  np.max(np.abs(fsim[0] - fsim[1:])) <= fatol):\n",
      "/home/smish/miniconda/envs/orion-tuning/lib/python3.7/site-packages/scipy/optimize/optimize.py:761: RuntimeWarning: invalid value encountered in subtract\n",
      "  np.max(np.abs(fsim[0] - fsim[1:])) <= fatol):\n",
      "/home/smish/miniconda/envs/orion-tuning/lib/python3.7/site-packages/scipy/optimize/optimize.py:761: RuntimeWarning: invalid value encountered in subtract\n",
      "  np.max(np.abs(fsim[0] - fsim[1:])) <= fatol):\n",
      "DEBUG:orion.tune:Actual {'start': {}, 'end': {}} - Found []\n",
      "/home/smish/miniconda/envs/orion-tuning/lib/python3.7/site-packages/orion/evaluation/common.py:43: RuntimeWarning: invalid value encountered in long_scalars\n",
      "  return tp / (tp + fp)\n",
      "/home/smish/miniconda/envs/orion-tuning/lib/python3.7/site-packages/orion/evaluation/common.py:56: RuntimeWarning: invalid value encountered in long_scalars\n",
      "  return tp / (tp + fn)\n",
      "DEBUG:mlblocks.mlpipeline:Producing block mlprimitives.custom.timeseries_preprocessing.time_segments_aggregate#1\n",
      "DEBUG:mlblocks.mlpipeline:Producing block sklearn.impute.SimpleImputer#1\n",
      "DEBUG:mlblocks.mlpipeline:Producing block sklearn.preprocessing.MinMaxScaler#1\n",
      "DEBUG:mlblocks.mlpipeline:Producing block mlprimitives.custom.timeseries_preprocessing.rolling_window_sequences#1\n",
      "DEBUG:mlblocks.mlpipeline:Producing block keras.Sequential.LSTMTimeSeriesRegressor#1\n"
     ]
    },
    {
     "name": "stdout",
     "output_type": "stream",
     "text": [
      "11146/11146 [==============================] - 15s 1ms/step\n"
     ]
    },
    {
     "name": "stderr",
     "output_type": "stream",
     "text": [
      "DEBUG:mlblocks.mlpipeline:Producing block mlprimitives.custom.timeseries_preprocessing.time_segments_aggregate#1\n",
      "DEBUG:mlblocks.mlpipeline:Producing block sklearn.impute.SimpleImputer#1\n",
      "DEBUG:mlblocks.mlpipeline:Producing block sklearn.preprocessing.MinMaxScaler#1\n",
      "DEBUG:mlblocks.mlpipeline:Producing block mlprimitives.custom.timeseries_preprocessing.rolling_window_sequences#1\n",
      "DEBUG:mlblocks.mlpipeline:Producing block keras.Sequential.LSTMTimeSeriesRegressor#1\n"
     ]
    },
    {
     "name": "stdout",
     "output_type": "stream",
     "text": [
      "3549/3549 [==============================] - 5s 1ms/step\n"
     ]
    },
    {
     "name": "stderr",
     "output_type": "stream",
     "text": [
      "DEBUG:mlblocks.mlpipeline:Fitting block orion.primitives.timeseries_errors.regression_errors#1\n",
      "DEBUG:mlblocks.mlpipeline:Producing block orion.primitives.timeseries_errors.regression_errors#1\n",
      "DEBUG:mlblocks.mlpipeline:Fitting block orion.primitives.timeseries_anomalies.find_anomalies#1\n",
      "DEBUG:mlblocks.mlpipeline:Producing block orion.primitives.timeseries_errors.regression_errors#1\n",
      "DEBUG:mlblocks.mlpipeline:Producing block orion.primitives.timeseries_anomalies.find_anomalies#1\n",
      "/home/smish/miniconda/envs/orion-tuning/lib/python3.7/site-packages/scipy/optimize/optimize.py:761: RuntimeWarning: invalid value encountered in subtract\n",
      "  np.max(np.abs(fsim[0] - fsim[1:])) <= fatol):\n",
      "/home/smish/miniconda/envs/orion-tuning/lib/python3.7/site-packages/scipy/optimize/optimize.py:761: RuntimeWarning: invalid value encountered in subtract\n",
      "  np.max(np.abs(fsim[0] - fsim[1:])) <= fatol):\n",
      "/home/smish/miniconda/envs/orion-tuning/lib/python3.7/site-packages/scipy/optimize/optimize.py:761: RuntimeWarning: invalid value encountered in subtract\n",
      "  np.max(np.abs(fsim[0] - fsim[1:])) <= fatol):\n",
      "/home/smish/miniconda/envs/orion-tuning/lib/python3.7/site-packages/scipy/optimize/optimize.py:761: RuntimeWarning: invalid value encountered in subtract\n",
      "  np.max(np.abs(fsim[0] - fsim[1:])) <= fatol):\n",
      "/home/smish/miniconda/envs/orion-tuning/lib/python3.7/site-packages/scipy/optimize/optimize.py:761: RuntimeWarning: invalid value encountered in subtract\n",
      "  np.max(np.abs(fsim[0] - fsim[1:])) <= fatol):\n",
      "/home/smish/miniconda/envs/orion-tuning/lib/python3.7/site-packages/scipy/optimize/optimize.py:761: RuntimeWarning: invalid value encountered in subtract\n",
      "  np.max(np.abs(fsim[0] - fsim[1:])) <= fatol):\n",
      "/home/smish/miniconda/envs/orion-tuning/lib/python3.7/site-packages/scipy/optimize/optimize.py:761: RuntimeWarning: invalid value encountered in subtract\n",
      "  np.max(np.abs(fsim[0] - fsim[1:])) <= fatol):\n",
      "/home/smish/miniconda/envs/orion-tuning/lib/python3.7/site-packages/scipy/optimize/optimize.py:761: RuntimeWarning: invalid value encountered in subtract\n",
      "  np.max(np.abs(fsim[0] - fsim[1:])) <= fatol):\n",
      "/home/smish/miniconda/envs/orion-tuning/lib/python3.7/site-packages/scipy/optimize/optimize.py:761: RuntimeWarning: invalid value encountered in subtract\n",
      "  np.max(np.abs(fsim[0] - fsim[1:])) <= fatol):\n",
      "/home/smish/miniconda/envs/orion-tuning/lib/python3.7/site-packages/scipy/optimize/optimize.py:761: RuntimeWarning: invalid value encountered in subtract\n",
      "  np.max(np.abs(fsim[0] - fsim[1:])) <= fatol):\n",
      "/home/smish/miniconda/envs/orion-tuning/lib/python3.7/site-packages/scipy/optimize/optimize.py:761: RuntimeWarning: invalid value encountered in subtract\n",
      "  np.max(np.abs(fsim[0] - fsim[1:])) <= fatol):\n",
      "/home/smish/miniconda/envs/orion-tuning/lib/python3.7/site-packages/scipy/optimize/optimize.py:761: RuntimeWarning: invalid value encountered in subtract\n",
      "  np.max(np.abs(fsim[0] - fsim[1:])) <= fatol):\n",
      "/home/smish/miniconda/envs/orion-tuning/lib/python3.7/site-packages/scipy/optimize/optimize.py:761: RuntimeWarning: invalid value encountered in subtract\n",
      "  np.max(np.abs(fsim[0] - fsim[1:])) <= fatol):\n",
      "DEBUG:orion.tune:Actual {'start': {}, 'end': {}} - Found []\n",
      "/home/smish/miniconda/envs/orion-tuning/lib/python3.7/site-packages/orion/evaluation/common.py:43: RuntimeWarning: invalid value encountered in long_scalars\n",
      "  return tp / (tp + fp)\n",
      "/home/smish/miniconda/envs/orion-tuning/lib/python3.7/site-packages/orion/evaluation/common.py:56: RuntimeWarning: invalid value encountered in long_scalars\n",
      "  return tp / (tp + fn)\n",
      "DEBUG:mlblocks.mlpipeline:Producing block mlprimitives.custom.timeseries_preprocessing.time_segments_aggregate#1\n",
      "DEBUG:mlblocks.mlpipeline:Producing block sklearn.impute.SimpleImputer#1\n",
      "DEBUG:mlblocks.mlpipeline:Producing block sklearn.preprocessing.MinMaxScaler#1\n",
      "DEBUG:mlblocks.mlpipeline:Producing block mlprimitives.custom.timeseries_preprocessing.rolling_window_sequences#1\n",
      "DEBUG:mlblocks.mlpipeline:Producing block keras.Sequential.LSTMTimeSeriesRegressor#1\n"
     ]
    },
    {
     "name": "stdout",
     "output_type": "stream",
     "text": [
      "7348/7348 [==============================] - 10s 1ms/step\n"
     ]
    },
    {
     "name": "stderr",
     "output_type": "stream",
     "text": [
      "DEBUG:mlblocks.mlpipeline:Producing block mlprimitives.custom.timeseries_preprocessing.time_segments_aggregate#1\n",
      "DEBUG:mlblocks.mlpipeline:Producing block sklearn.impute.SimpleImputer#1\n",
      "DEBUG:mlblocks.mlpipeline:Producing block sklearn.preprocessing.MinMaxScaler#1\n",
      "DEBUG:mlblocks.mlpipeline:Producing block mlprimitives.custom.timeseries_preprocessing.rolling_window_sequences#1\n",
      "DEBUG:mlblocks.mlpipeline:Producing block keras.Sequential.LSTMTimeSeriesRegressor#1\n"
     ]
    },
    {
     "name": "stdout",
     "output_type": "stream",
     "text": [
      "3548/3548 [==============================] - 5s 1ms/step\n"
     ]
    },
    {
     "name": "stderr",
     "output_type": "stream",
     "text": [
      "DEBUG:mlblocks.mlpipeline:Fitting block orion.primitives.timeseries_errors.regression_errors#1\n",
      "DEBUG:mlblocks.mlpipeline:Producing block orion.primitives.timeseries_errors.regression_errors#1\n",
      "DEBUG:mlblocks.mlpipeline:Fitting block orion.primitives.timeseries_anomalies.find_anomalies#1\n",
      "DEBUG:mlblocks.mlpipeline:Producing block orion.primitives.timeseries_errors.regression_errors#1\n",
      "DEBUG:mlblocks.mlpipeline:Producing block orion.primitives.timeseries_anomalies.find_anomalies#1\n",
      "/home/smish/miniconda/envs/orion-tuning/lib/python3.7/site-packages/scipy/optimize/optimize.py:761: RuntimeWarning: invalid value encountered in subtract\n",
      "  np.max(np.abs(fsim[0] - fsim[1:])) <= fatol):\n",
      "/home/smish/miniconda/envs/orion-tuning/lib/python3.7/site-packages/scipy/optimize/optimize.py:761: RuntimeWarning: invalid value encountered in subtract\n",
      "  np.max(np.abs(fsim[0] - fsim[1:])) <= fatol):\n",
      "/home/smish/miniconda/envs/orion-tuning/lib/python3.7/site-packages/scipy/optimize/optimize.py:761: RuntimeWarning: invalid value encountered in subtract\n",
      "  np.max(np.abs(fsim[0] - fsim[1:])) <= fatol):\n",
      "/home/smish/miniconda/envs/orion-tuning/lib/python3.7/site-packages/scipy/optimize/optimize.py:761: RuntimeWarning: invalid value encountered in subtract\n",
      "  np.max(np.abs(fsim[0] - fsim[1:])) <= fatol):\n",
      "/home/smish/miniconda/envs/orion-tuning/lib/python3.7/site-packages/scipy/optimize/optimize.py:761: RuntimeWarning: invalid value encountered in subtract\n",
      "  np.max(np.abs(fsim[0] - fsim[1:])) <= fatol):\n",
      "/home/smish/miniconda/envs/orion-tuning/lib/python3.7/site-packages/scipy/optimize/optimize.py:761: RuntimeWarning: invalid value encountered in subtract\n",
      "  np.max(np.abs(fsim[0] - fsim[1:])) <= fatol):\n",
      "/home/smish/miniconda/envs/orion-tuning/lib/python3.7/site-packages/scipy/optimize/optimize.py:761: RuntimeWarning: invalid value encountered in subtract\n",
      "  np.max(np.abs(fsim[0] - fsim[1:])) <= fatol):\n",
      "/home/smish/miniconda/envs/orion-tuning/lib/python3.7/site-packages/scipy/optimize/optimize.py:761: RuntimeWarning: invalid value encountered in subtract\n",
      "  np.max(np.abs(fsim[0] - fsim[1:])) <= fatol):\n",
      "/home/smish/miniconda/envs/orion-tuning/lib/python3.7/site-packages/scipy/optimize/optimize.py:761: RuntimeWarning: invalid value encountered in subtract\n",
      "  np.max(np.abs(fsim[0] - fsim[1:])) <= fatol):\n",
      "/home/smish/miniconda/envs/orion-tuning/lib/python3.7/site-packages/scipy/optimize/optimize.py:761: RuntimeWarning: invalid value encountered in subtract\n",
      "  np.max(np.abs(fsim[0] - fsim[1:])) <= fatol):\n",
      "/home/smish/miniconda/envs/orion-tuning/lib/python3.7/site-packages/scipy/optimize/optimize.py:761: RuntimeWarning: invalid value encountered in subtract\n",
      "  np.max(np.abs(fsim[0] - fsim[1:])) <= fatol):\n",
      "/home/smish/miniconda/envs/orion-tuning/lib/python3.7/site-packages/scipy/optimize/optimize.py:761: RuntimeWarning: invalid value encountered in subtract\n",
      "  np.max(np.abs(fsim[0] - fsim[1:])) <= fatol):\n",
      "/home/smish/miniconda/envs/orion-tuning/lib/python3.7/site-packages/scipy/optimize/optimize.py:761: RuntimeWarning: invalid value encountered in subtract\n",
      "  np.max(np.abs(fsim[0] - fsim[1:])) <= fatol):\n",
      "DEBUG:orion.tune:Actual {'start': {0: 1393027200.0, 1: 1406203200.0}, 'end': {0: 1393675200.0, 1: 1416484800.0}} - Found []\n",
      "/home/smish/miniconda/envs/orion-tuning/lib/python3.7/site-packages/orion/evaluation/common.py:43: RuntimeWarning: invalid value encountered in double_scalars\n",
      "  return tp / (tp + fp)\n",
      "/home/smish/miniconda/envs/orion-tuning/lib/python3.7/site-packages/orion/tune.py:125: RuntimeWarning: Mean of empty slice\n",
      "  return np.nanmean(scores)\n",
      "DEBUG:orion.tune:Proposal {('orion.primitives.timeseries_errors.regression_errors#1', 'smooth'): False, ('orion.primitives.timeseries_errors.regression_errors#1', 'smoothing_window'): 0.08604442714537941, ('orion.primitives.timeseries_anomalies.find_anomalies#1', 'window_size_portion'): 0.7471594027058357, ('orion.primitives.timeseries_anomalies.find_anomalies#1', 'window_step_size_portion'): 0.030252402804459615, ('orion.primitives.timeseries_anomalies.find_anomalies#1', 'min_percent'): 0.8256543815501619, ('orion.primitives.timeseries_anomalies.find_anomalies#1', 'anomaly_padding'): 311} scored nan\n",
      "DEBUG:orion.tune:Recorded score 0.003328\n",
      "DEBUG:btb.tuning.tuners.base:Fitting the model with 6 samples.\n",
      "DEBUG:orion.tune:Scoring proposal 5: {('orion.primitives.timeseries_errors.regression_errors#1', 'smooth'): True, ('orion.primitives.timeseries_errors.regression_errors#1', 'smoothing_window'): 0.00828115794029764, ('orion.primitives.timeseries_anomalies.find_anomalies#1', 'window_size_portion'): 0.8186321084397667, ('orion.primitives.timeseries_anomalies.find_anomalies#1', 'window_step_size_portion'): 0.06408558062193692, ('orion.primitives.timeseries_anomalies.find_anomalies#1', 'min_percent'): 0.8444662053607661, ('orion.primitives.timeseries_anomalies.find_anomalies#1', 'anomaly_padding'): 49}\n",
      "DEBUG:mlblocks.mlpipeline:Producing block mlprimitives.custom.timeseries_preprocessing.time_segments_aggregate#1\n",
      "DEBUG:mlblocks.mlpipeline:Producing block sklearn.impute.SimpleImputer#1\n",
      "DEBUG:mlblocks.mlpipeline:Producing block sklearn.preprocessing.MinMaxScaler#1\n",
      "DEBUG:mlblocks.mlpipeline:Producing block mlprimitives.custom.timeseries_preprocessing.rolling_window_sequences#1\n",
      "DEBUG:mlblocks.mlpipeline:Producing block keras.Sequential.LSTMTimeSeriesRegressor#1\n"
     ]
    },
    {
     "name": "stdout",
     "output_type": "stream",
     "text": [
      "7347/7347 [==============================] - 9s 1ms/step\n"
     ]
    },
    {
     "name": "stderr",
     "output_type": "stream",
     "text": [
      "DEBUG:mlblocks.mlpipeline:Producing block mlprimitives.custom.timeseries_preprocessing.time_segments_aggregate#1\n",
      "DEBUG:mlblocks.mlpipeline:Producing block sklearn.impute.SimpleImputer#1\n",
      "DEBUG:mlblocks.mlpipeline:Producing block sklearn.preprocessing.MinMaxScaler#1\n",
      "DEBUG:mlblocks.mlpipeline:Producing block mlprimitives.custom.timeseries_preprocessing.rolling_window_sequences#1\n",
      "DEBUG:mlblocks.mlpipeline:Producing block keras.Sequential.LSTMTimeSeriesRegressor#1\n"
     ]
    },
    {
     "name": "stdout",
     "output_type": "stream",
     "text": [
      "3549/3549 [==============================] - 4s 1ms/step\n"
     ]
    },
    {
     "name": "stderr",
     "output_type": "stream",
     "text": [
      "DEBUG:mlblocks.mlpipeline:Fitting block orion.primitives.timeseries_errors.regression_errors#1\n",
      "DEBUG:mlblocks.mlpipeline:Producing block orion.primitives.timeseries_errors.regression_errors#1\n",
      "DEBUG:mlblocks.mlpipeline:Fitting block orion.primitives.timeseries_anomalies.find_anomalies#1\n",
      "DEBUG:mlblocks.mlpipeline:Producing block orion.primitives.timeseries_errors.regression_errors#1\n",
      "DEBUG:mlblocks.mlpipeline:Producing block orion.primitives.timeseries_anomalies.find_anomalies#1\n",
      "/home/smish/miniconda/envs/orion-tuning/lib/python3.7/site-packages/scipy/optimize/optimize.py:761: RuntimeWarning: invalid value encountered in subtract\n",
      "  np.max(np.abs(fsim[0] - fsim[1:])) <= fatol):\n",
      "/home/smish/miniconda/envs/orion-tuning/lib/python3.7/site-packages/scipy/optimize/optimize.py:761: RuntimeWarning: invalid value encountered in subtract\n",
      "  np.max(np.abs(fsim[0] - fsim[1:])) <= fatol):\n",
      "/home/smish/miniconda/envs/orion-tuning/lib/python3.7/site-packages/scipy/optimize/optimize.py:761: RuntimeWarning: invalid value encountered in subtract\n",
      "  np.max(np.abs(fsim[0] - fsim[1:])) <= fatol):\n",
      "/home/smish/miniconda/envs/orion-tuning/lib/python3.7/site-packages/scipy/optimize/optimize.py:761: RuntimeWarning: invalid value encountered in subtract\n",
      "  np.max(np.abs(fsim[0] - fsim[1:])) <= fatol):\n",
      "/home/smish/miniconda/envs/orion-tuning/lib/python3.7/site-packages/scipy/optimize/optimize.py:761: RuntimeWarning: invalid value encountered in subtract\n",
      "  np.max(np.abs(fsim[0] - fsim[1:])) <= fatol):\n",
      "DEBUG:orion.tune:Actual {'start': {}, 'end': {}} - Found []\n",
      "/home/smish/miniconda/envs/orion-tuning/lib/python3.7/site-packages/orion/evaluation/common.py:43: RuntimeWarning: invalid value encountered in long_scalars\n",
      "  return tp / (tp + fp)\n",
      "/home/smish/miniconda/envs/orion-tuning/lib/python3.7/site-packages/orion/evaluation/common.py:56: RuntimeWarning: invalid value encountered in long_scalars\n",
      "  return tp / (tp + fn)\n",
      "DEBUG:mlblocks.mlpipeline:Producing block mlprimitives.custom.timeseries_preprocessing.time_segments_aggregate#1\n",
      "DEBUG:mlblocks.mlpipeline:Producing block sklearn.impute.SimpleImputer#1\n",
      "DEBUG:mlblocks.mlpipeline:Producing block sklearn.preprocessing.MinMaxScaler#1\n",
      "DEBUG:mlblocks.mlpipeline:Producing block mlprimitives.custom.timeseries_preprocessing.rolling_window_sequences#1\n",
      "DEBUG:mlblocks.mlpipeline:Producing block keras.Sequential.LSTMTimeSeriesRegressor#1\n"
     ]
    },
    {
     "name": "stdout",
     "output_type": "stream",
     "text": [
      "11146/11146 [==============================] - 14s 1ms/step\n"
     ]
    },
    {
     "name": "stderr",
     "output_type": "stream",
     "text": [
      "DEBUG:mlblocks.mlpipeline:Producing block mlprimitives.custom.timeseries_preprocessing.time_segments_aggregate#1\n",
      "DEBUG:mlblocks.mlpipeline:Producing block sklearn.impute.SimpleImputer#1\n",
      "DEBUG:mlblocks.mlpipeline:Producing block sklearn.preprocessing.MinMaxScaler#1\n",
      "DEBUG:mlblocks.mlpipeline:Producing block mlprimitives.custom.timeseries_preprocessing.rolling_window_sequences#1\n",
      "DEBUG:mlblocks.mlpipeline:Producing block keras.Sequential.LSTMTimeSeriesRegressor#1\n"
     ]
    },
    {
     "name": "stdout",
     "output_type": "stream",
     "text": [
      "3549/3549 [==============================] - 5s 1ms/step\n"
     ]
    },
    {
     "name": "stderr",
     "output_type": "stream",
     "text": [
      "DEBUG:mlblocks.mlpipeline:Fitting block orion.primitives.timeseries_errors.regression_errors#1\n",
      "DEBUG:mlblocks.mlpipeline:Producing block orion.primitives.timeseries_errors.regression_errors#1\n",
      "DEBUG:mlblocks.mlpipeline:Fitting block orion.primitives.timeseries_anomalies.find_anomalies#1\n",
      "DEBUG:mlblocks.mlpipeline:Producing block orion.primitives.timeseries_errors.regression_errors#1\n",
      "DEBUG:mlblocks.mlpipeline:Producing block orion.primitives.timeseries_anomalies.find_anomalies#1\n",
      "/home/smish/miniconda/envs/orion-tuning/lib/python3.7/site-packages/scipy/optimize/optimize.py:761: RuntimeWarning: invalid value encountered in subtract\n",
      "  np.max(np.abs(fsim[0] - fsim[1:])) <= fatol):\n",
      "/home/smish/miniconda/envs/orion-tuning/lib/python3.7/site-packages/scipy/optimize/optimize.py:761: RuntimeWarning: invalid value encountered in subtract\n",
      "  np.max(np.abs(fsim[0] - fsim[1:])) <= fatol):\n",
      "/home/smish/miniconda/envs/orion-tuning/lib/python3.7/site-packages/scipy/optimize/optimize.py:761: RuntimeWarning: invalid value encountered in subtract\n",
      "  np.max(np.abs(fsim[0] - fsim[1:])) <= fatol):\n",
      "/home/smish/miniconda/envs/orion-tuning/lib/python3.7/site-packages/scipy/optimize/optimize.py:761: RuntimeWarning: invalid value encountered in subtract\n",
      "  np.max(np.abs(fsim[0] - fsim[1:])) <= fatol):\n",
      "/home/smish/miniconda/envs/orion-tuning/lib/python3.7/site-packages/scipy/optimize/optimize.py:761: RuntimeWarning: invalid value encountered in subtract\n",
      "  np.max(np.abs(fsim[0] - fsim[1:])) <= fatol):\n",
      "DEBUG:orion.tune:Actual {'start': {}, 'end': {}} - Found []\n",
      "/home/smish/miniconda/envs/orion-tuning/lib/python3.7/site-packages/orion/evaluation/common.py:43: RuntimeWarning: invalid value encountered in long_scalars\n",
      "  return tp / (tp + fp)\n",
      "/home/smish/miniconda/envs/orion-tuning/lib/python3.7/site-packages/orion/evaluation/common.py:56: RuntimeWarning: invalid value encountered in long_scalars\n",
      "  return tp / (tp + fn)\n",
      "DEBUG:mlblocks.mlpipeline:Producing block mlprimitives.custom.timeseries_preprocessing.time_segments_aggregate#1\n",
      "DEBUG:mlblocks.mlpipeline:Producing block sklearn.impute.SimpleImputer#1\n",
      "DEBUG:mlblocks.mlpipeline:Producing block sklearn.preprocessing.MinMaxScaler#1\n",
      "DEBUG:mlblocks.mlpipeline:Producing block mlprimitives.custom.timeseries_preprocessing.rolling_window_sequences#1\n",
      "DEBUG:mlblocks.mlpipeline:Producing block keras.Sequential.LSTMTimeSeriesRegressor#1\n"
     ]
    },
    {
     "name": "stdout",
     "output_type": "stream",
     "text": [
      "7348/7348 [==============================] - 10s 1ms/step\n"
     ]
    },
    {
     "name": "stderr",
     "output_type": "stream",
     "text": [
      "DEBUG:mlblocks.mlpipeline:Producing block mlprimitives.custom.timeseries_preprocessing.time_segments_aggregate#1\n",
      "DEBUG:mlblocks.mlpipeline:Producing block sklearn.impute.SimpleImputer#1\n",
      "DEBUG:mlblocks.mlpipeline:Producing block sklearn.preprocessing.MinMaxScaler#1\n",
      "DEBUG:mlblocks.mlpipeline:Producing block mlprimitives.custom.timeseries_preprocessing.rolling_window_sequences#1\n",
      "DEBUG:mlblocks.mlpipeline:Producing block keras.Sequential.LSTMTimeSeriesRegressor#1\n"
     ]
    },
    {
     "name": "stdout",
     "output_type": "stream",
     "text": [
      "3548/3548 [==============================] - 4s 1ms/step\n"
     ]
    },
    {
     "name": "stderr",
     "output_type": "stream",
     "text": [
      "DEBUG:mlblocks.mlpipeline:Fitting block orion.primitives.timeseries_errors.regression_errors#1\n",
      "DEBUG:mlblocks.mlpipeline:Producing block orion.primitives.timeseries_errors.regression_errors#1\n",
      "DEBUG:mlblocks.mlpipeline:Fitting block orion.primitives.timeseries_anomalies.find_anomalies#1\n",
      "DEBUG:mlblocks.mlpipeline:Producing block orion.primitives.timeseries_errors.regression_errors#1\n",
      "DEBUG:mlblocks.mlpipeline:Producing block orion.primitives.timeseries_anomalies.find_anomalies#1\n",
      "/home/smish/miniconda/envs/orion-tuning/lib/python3.7/site-packages/scipy/optimize/optimize.py:761: RuntimeWarning: invalid value encountered in subtract\n",
      "  np.max(np.abs(fsim[0] - fsim[1:])) <= fatol):\n",
      "/home/smish/miniconda/envs/orion-tuning/lib/python3.7/site-packages/scipy/optimize/optimize.py:761: RuntimeWarning: invalid value encountered in subtract\n",
      "  np.max(np.abs(fsim[0] - fsim[1:])) <= fatol):\n",
      "/home/smish/miniconda/envs/orion-tuning/lib/python3.7/site-packages/scipy/optimize/optimize.py:761: RuntimeWarning: invalid value encountered in subtract\n",
      "  np.max(np.abs(fsim[0] - fsim[1:])) <= fatol):\n",
      "/home/smish/miniconda/envs/orion-tuning/lib/python3.7/site-packages/scipy/optimize/optimize.py:761: RuntimeWarning: invalid value encountered in subtract\n",
      "  np.max(np.abs(fsim[0] - fsim[1:])) <= fatol):\n",
      "/home/smish/miniconda/envs/orion-tuning/lib/python3.7/site-packages/scipy/optimize/optimize.py:761: RuntimeWarning: invalid value encountered in subtract\n",
      "  np.max(np.abs(fsim[0] - fsim[1:])) <= fatol):\n",
      "DEBUG:orion.tune:Actual {'start': {0: 1393027200.0, 1: 1406203200.0}, 'end': {0: 1393675200.0, 1: 1416484800.0}} - Found []\n",
      "/home/smish/miniconda/envs/orion-tuning/lib/python3.7/site-packages/orion/evaluation/common.py:43: RuntimeWarning: invalid value encountered in double_scalars\n",
      "  return tp / (tp + fp)\n",
      "/home/smish/miniconda/envs/orion-tuning/lib/python3.7/site-packages/orion/tune.py:125: RuntimeWarning: Mean of empty slice\n",
      "  return np.nanmean(scores)\n",
      "DEBUG:orion.tune:Proposal {('orion.primitives.timeseries_errors.regression_errors#1', 'smooth'): True, ('orion.primitives.timeseries_errors.regression_errors#1', 'smoothing_window'): 0.00828115794029764, ('orion.primitives.timeseries_anomalies.find_anomalies#1', 'window_size_portion'): 0.8186321084397667, ('orion.primitives.timeseries_anomalies.find_anomalies#1', 'window_step_size_portion'): 0.06408558062193692, ('orion.primitives.timeseries_anomalies.find_anomalies#1', 'min_percent'): 0.8444662053607661, ('orion.primitives.timeseries_anomalies.find_anomalies#1', 'anomaly_padding'): 49} scored nan\n",
      "DEBUG:orion.tune:Recorded score 0.008878\n",
      "DEBUG:btb.tuning.tuners.base:Fitting the model with 7 samples.\n",
      "DEBUG:orion.tune:Scoring proposal 6: {('orion.primitives.timeseries_errors.regression_errors#1', 'smooth'): True, ('orion.primitives.timeseries_errors.regression_errors#1', 'smoothing_window'): 0.0732796131797437, ('orion.primitives.timeseries_anomalies.find_anomalies#1', 'window_size_portion'): 0.6967570659453685, ('orion.primitives.timeseries_anomalies.find_anomalies#1', 'window_step_size_portion'): 0.35238731168736115, ('orion.primitives.timeseries_anomalies.find_anomalies#1', 'min_percent'): 0.6042759936671096, ('orion.primitives.timeseries_anomalies.find_anomalies#1', 'anomaly_padding'): 233}\n",
      "DEBUG:mlblocks.mlpipeline:Producing block mlprimitives.custom.timeseries_preprocessing.time_segments_aggregate#1\n",
      "DEBUG:mlblocks.mlpipeline:Producing block sklearn.impute.SimpleImputer#1\n",
      "DEBUG:mlblocks.mlpipeline:Producing block sklearn.preprocessing.MinMaxScaler#1\n",
      "DEBUG:mlblocks.mlpipeline:Producing block mlprimitives.custom.timeseries_preprocessing.rolling_window_sequences#1\n",
      "DEBUG:mlblocks.mlpipeline:Producing block keras.Sequential.LSTMTimeSeriesRegressor#1\n"
     ]
    },
    {
     "name": "stdout",
     "output_type": "stream",
     "text": [
      "7347/7347 [==============================] - 9s 1ms/step\n"
     ]
    },
    {
     "name": "stderr",
     "output_type": "stream",
     "text": [
      "DEBUG:mlblocks.mlpipeline:Producing block mlprimitives.custom.timeseries_preprocessing.time_segments_aggregate#1\n",
      "DEBUG:mlblocks.mlpipeline:Producing block sklearn.impute.SimpleImputer#1\n",
      "DEBUG:mlblocks.mlpipeline:Producing block sklearn.preprocessing.MinMaxScaler#1\n",
      "DEBUG:mlblocks.mlpipeline:Producing block mlprimitives.custom.timeseries_preprocessing.rolling_window_sequences#1\n",
      "DEBUG:mlblocks.mlpipeline:Producing block keras.Sequential.LSTMTimeSeriesRegressor#1\n"
     ]
    },
    {
     "name": "stdout",
     "output_type": "stream",
     "text": [
      "3549/3549 [==============================] - 4s 1ms/step\n"
     ]
    },
    {
     "name": "stderr",
     "output_type": "stream",
     "text": [
      "DEBUG:mlblocks.mlpipeline:Fitting block orion.primitives.timeseries_errors.regression_errors#1\n",
      "DEBUG:mlblocks.mlpipeline:Producing block orion.primitives.timeseries_errors.regression_errors#1\n",
      "DEBUG:mlblocks.mlpipeline:Fitting block orion.primitives.timeseries_anomalies.find_anomalies#1\n",
      "DEBUG:mlblocks.mlpipeline:Producing block orion.primitives.timeseries_errors.regression_errors#1\n",
      "DEBUG:mlblocks.mlpipeline:Producing block orion.primitives.timeseries_anomalies.find_anomalies#1\n",
      "/home/smish/miniconda/envs/orion-tuning/lib/python3.7/site-packages/scipy/optimize/optimize.py:761: RuntimeWarning: invalid value encountered in subtract\n",
      "  np.max(np.abs(fsim[0] - fsim[1:])) <= fatol):\n",
      "/home/smish/miniconda/envs/orion-tuning/lib/python3.7/site-packages/scipy/optimize/optimize.py:761: RuntimeWarning: invalid value encountered in subtract\n",
      "  np.max(np.abs(fsim[0] - fsim[1:])) <= fatol):\n",
      "/home/smish/miniconda/envs/orion-tuning/lib/python3.7/site-packages/scipy/optimize/optimize.py:761: RuntimeWarning: invalid value encountered in subtract\n",
      "  np.max(np.abs(fsim[0] - fsim[1:])) <= fatol):\n",
      "DEBUG:orion.tune:Actual {'start': {}, 'end': {}} - Found []\n",
      "/home/smish/miniconda/envs/orion-tuning/lib/python3.7/site-packages/orion/evaluation/common.py:43: RuntimeWarning: invalid value encountered in long_scalars\n",
      "  return tp / (tp + fp)\n",
      "/home/smish/miniconda/envs/orion-tuning/lib/python3.7/site-packages/orion/evaluation/common.py:56: RuntimeWarning: invalid value encountered in long_scalars\n",
      "  return tp / (tp + fn)\n",
      "DEBUG:mlblocks.mlpipeline:Producing block mlprimitives.custom.timeseries_preprocessing.time_segments_aggregate#1\n",
      "DEBUG:mlblocks.mlpipeline:Producing block sklearn.impute.SimpleImputer#1\n",
      "DEBUG:mlblocks.mlpipeline:Producing block sklearn.preprocessing.MinMaxScaler#1\n",
      "DEBUG:mlblocks.mlpipeline:Producing block mlprimitives.custom.timeseries_preprocessing.rolling_window_sequences#1\n",
      "DEBUG:mlblocks.mlpipeline:Producing block keras.Sequential.LSTMTimeSeriesRegressor#1\n"
     ]
    },
    {
     "name": "stdout",
     "output_type": "stream",
     "text": [
      "11146/11146 [==============================] - 15s 1ms/step\n"
     ]
    },
    {
     "name": "stderr",
     "output_type": "stream",
     "text": [
      "DEBUG:mlblocks.mlpipeline:Producing block mlprimitives.custom.timeseries_preprocessing.time_segments_aggregate#1\n",
      "DEBUG:mlblocks.mlpipeline:Producing block sklearn.impute.SimpleImputer#1\n",
      "DEBUG:mlblocks.mlpipeline:Producing block sklearn.preprocessing.MinMaxScaler#1\n",
      "DEBUG:mlblocks.mlpipeline:Producing block mlprimitives.custom.timeseries_preprocessing.rolling_window_sequences#1\n",
      "DEBUG:mlblocks.mlpipeline:Producing block keras.Sequential.LSTMTimeSeriesRegressor#1\n"
     ]
    },
    {
     "name": "stdout",
     "output_type": "stream",
     "text": [
      "3549/3549 [==============================] - 5s 1ms/step\n"
     ]
    },
    {
     "name": "stderr",
     "output_type": "stream",
     "text": [
      "DEBUG:mlblocks.mlpipeline:Fitting block orion.primitives.timeseries_errors.regression_errors#1\n",
      "DEBUG:mlblocks.mlpipeline:Producing block orion.primitives.timeseries_errors.regression_errors#1\n",
      "DEBUG:mlblocks.mlpipeline:Fitting block orion.primitives.timeseries_anomalies.find_anomalies#1\n",
      "DEBUG:mlblocks.mlpipeline:Producing block orion.primitives.timeseries_errors.regression_errors#1\n",
      "DEBUG:mlblocks.mlpipeline:Producing block orion.primitives.timeseries_anomalies.find_anomalies#1\n",
      "/home/smish/miniconda/envs/orion-tuning/lib/python3.7/site-packages/scipy/optimize/optimize.py:761: RuntimeWarning: invalid value encountered in subtract\n",
      "  np.max(np.abs(fsim[0] - fsim[1:])) <= fatol):\n",
      "/home/smish/miniconda/envs/orion-tuning/lib/python3.7/site-packages/scipy/optimize/optimize.py:761: RuntimeWarning: invalid value encountered in subtract\n",
      "  np.max(np.abs(fsim[0] - fsim[1:])) <= fatol):\n",
      "DEBUG:orion.tune:Actual {'start': {}, 'end': {}} - Found [[1.31027760e+09 1.31546160e+09 8.57558412e-01]]\n",
      "/home/smish/miniconda/envs/orion-tuning/lib/python3.7/site-packages/orion/evaluation/common.py:56: RuntimeWarning: invalid value encountered in long_scalars\n",
      "  return tp / (tp + fn)\n",
      "DEBUG:mlblocks.mlpipeline:Producing block mlprimitives.custom.timeseries_preprocessing.time_segments_aggregate#1\n",
      "DEBUG:mlblocks.mlpipeline:Producing block sklearn.impute.SimpleImputer#1\n",
      "DEBUG:mlblocks.mlpipeline:Producing block sklearn.preprocessing.MinMaxScaler#1\n",
      "DEBUG:mlblocks.mlpipeline:Producing block mlprimitives.custom.timeseries_preprocessing.rolling_window_sequences#1\n",
      "DEBUG:mlblocks.mlpipeline:Producing block keras.Sequential.LSTMTimeSeriesRegressor#1\n"
     ]
    },
    {
     "name": "stdout",
     "output_type": "stream",
     "text": [
      "7348/7348 [==============================] - 10s 1ms/step\n"
     ]
    },
    {
     "name": "stderr",
     "output_type": "stream",
     "text": [
      "DEBUG:mlblocks.mlpipeline:Producing block mlprimitives.custom.timeseries_preprocessing.time_segments_aggregate#1\n",
      "DEBUG:mlblocks.mlpipeline:Producing block sklearn.impute.SimpleImputer#1\n",
      "DEBUG:mlblocks.mlpipeline:Producing block sklearn.preprocessing.MinMaxScaler#1\n",
      "DEBUG:mlblocks.mlpipeline:Producing block mlprimitives.custom.timeseries_preprocessing.rolling_window_sequences#1\n",
      "DEBUG:mlblocks.mlpipeline:Producing block keras.Sequential.LSTMTimeSeriesRegressor#1\n"
     ]
    },
    {
     "name": "stdout",
     "output_type": "stream",
     "text": [
      "3548/3548 [==============================] - 4s 1ms/step\n"
     ]
    },
    {
     "name": "stderr",
     "output_type": "stream",
     "text": [
      "DEBUG:mlblocks.mlpipeline:Fitting block orion.primitives.timeseries_errors.regression_errors#1\n",
      "DEBUG:mlblocks.mlpipeline:Producing block orion.primitives.timeseries_errors.regression_errors#1\n",
      "DEBUG:mlblocks.mlpipeline:Fitting block orion.primitives.timeseries_anomalies.find_anomalies#1\n",
      "DEBUG:mlblocks.mlpipeline:Producing block orion.primitives.timeseries_errors.regression_errors#1\n",
      "DEBUG:mlblocks.mlpipeline:Producing block orion.primitives.timeseries_anomalies.find_anomalies#1\n",
      "/home/smish/miniconda/envs/orion-tuning/lib/python3.7/site-packages/scipy/optimize/optimize.py:761: RuntimeWarning: invalid value encountered in subtract\n",
      "  np.max(np.abs(fsim[0] - fsim[1:])) <= fatol):\n",
      "/home/smish/miniconda/envs/orion-tuning/lib/python3.7/site-packages/scipy/optimize/optimize.py:761: RuntimeWarning: invalid value encountered in subtract\n",
      "  np.max(np.abs(fsim[0] - fsim[1:])) <= fatol):\n",
      "/home/smish/miniconda/envs/orion-tuning/lib/python3.7/site-packages/scipy/optimize/optimize.py:761: RuntimeWarning: invalid value encountered in subtract\n",
      "  np.max(np.abs(fsim[0] - fsim[1:])) <= fatol):\n",
      "DEBUG:orion.tune:Actual {'start': {0: 1393027200.0, 1: 1406203200.0}, 'end': {0: 1393675200.0, 1: 1416484800.0}} - Found [[1.41117120e+09 1.41674400e+09 2.08929708e-01]]\n",
      "DEBUG:orion.tune:Proposal {('orion.primitives.timeseries_errors.regression_errors#1', 'smooth'): True, ('orion.primitives.timeseries_errors.regression_errors#1', 'smoothing_window'): 0.0732796131797437, ('orion.primitives.timeseries_anomalies.find_anomalies#1', 'window_size_portion'): 0.6967570659453685, ('orion.primitives.timeseries_anomalies.find_anomalies#1', 'window_step_size_portion'): 0.35238731168736115, ('orion.primitives.timeseries_anomalies.find_anomalies#1', 'min_percent'): 0.6042759936671096, ('orion.primitives.timeseries_anomalies.find_anomalies#1', 'anomaly_padding'): 233} scored 0.643979\n",
      "DEBUG:orion.tune:Recorded score 0.643979\n",
      "DEBUG:btb.tuning.tuners.base:Fitting the model with 8 samples.\n",
      "DEBUG:orion.tune:Scoring proposal 7: {('orion.primitives.timeseries_errors.regression_errors#1', 'smooth'): True, ('orion.primitives.timeseries_errors.regression_errors#1', 'smoothing_window'): 0.04876479033182113, ('orion.primitives.timeseries_anomalies.find_anomalies#1', 'window_size_portion'): 0.52935457850331, ('orion.primitives.timeseries_anomalies.find_anomalies#1', 'window_step_size_portion'): 0.23458026678565821, ('orion.primitives.timeseries_anomalies.find_anomalies#1', 'min_percent'): 0.7973321980975436, ('orion.primitives.timeseries_anomalies.find_anomalies#1', 'anomaly_padding'): 249}\n",
      "DEBUG:mlblocks.mlpipeline:Producing block mlprimitives.custom.timeseries_preprocessing.time_segments_aggregate#1\n",
      "DEBUG:mlblocks.mlpipeline:Producing block sklearn.impute.SimpleImputer#1\n",
      "DEBUG:mlblocks.mlpipeline:Producing block sklearn.preprocessing.MinMaxScaler#1\n",
      "DEBUG:mlblocks.mlpipeline:Producing block mlprimitives.custom.timeseries_preprocessing.rolling_window_sequences#1\n",
      "DEBUG:mlblocks.mlpipeline:Producing block keras.Sequential.LSTMTimeSeriesRegressor#1\n"
     ]
    },
    {
     "name": "stdout",
     "output_type": "stream",
     "text": [
      "7347/7347 [==============================] - 9s 1ms/step\n"
     ]
    },
    {
     "name": "stderr",
     "output_type": "stream",
     "text": [
      "DEBUG:mlblocks.mlpipeline:Producing block mlprimitives.custom.timeseries_preprocessing.time_segments_aggregate#1\n",
      "DEBUG:mlblocks.mlpipeline:Producing block sklearn.impute.SimpleImputer#1\n",
      "DEBUG:mlblocks.mlpipeline:Producing block sklearn.preprocessing.MinMaxScaler#1\n",
      "DEBUG:mlblocks.mlpipeline:Producing block mlprimitives.custom.timeseries_preprocessing.rolling_window_sequences#1\n",
      "DEBUG:mlblocks.mlpipeline:Producing block keras.Sequential.LSTMTimeSeriesRegressor#1\n"
     ]
    },
    {
     "name": "stdout",
     "output_type": "stream",
     "text": [
      "3549/3549 [==============================] - 5s 1ms/step\n"
     ]
    },
    {
     "name": "stderr",
     "output_type": "stream",
     "text": [
      "DEBUG:mlblocks.mlpipeline:Fitting block orion.primitives.timeseries_errors.regression_errors#1\n",
      "DEBUG:mlblocks.mlpipeline:Producing block orion.primitives.timeseries_errors.regression_errors#1\n",
      "DEBUG:mlblocks.mlpipeline:Fitting block orion.primitives.timeseries_anomalies.find_anomalies#1\n",
      "DEBUG:mlblocks.mlpipeline:Producing block orion.primitives.timeseries_errors.regression_errors#1\n",
      "DEBUG:mlblocks.mlpipeline:Producing block orion.primitives.timeseries_anomalies.find_anomalies#1\n",
      "/home/smish/miniconda/envs/orion-tuning/lib/python3.7/site-packages/scipy/optimize/optimize.py:761: RuntimeWarning: invalid value encountered in subtract\n",
      "  np.max(np.abs(fsim[0] - fsim[1:])) <= fatol):\n",
      "/home/smish/miniconda/envs/orion-tuning/lib/python3.7/site-packages/scipy/optimize/optimize.py:761: RuntimeWarning: invalid value encountered in subtract\n",
      "  np.max(np.abs(fsim[0] - fsim[1:])) <= fatol):\n",
      "/home/smish/miniconda/envs/orion-tuning/lib/python3.7/site-packages/scipy/optimize/optimize.py:761: RuntimeWarning: invalid value encountered in subtract\n",
      "  np.max(np.abs(fsim[0] - fsim[1:])) <= fatol):\n",
      "/home/smish/miniconda/envs/orion-tuning/lib/python3.7/site-packages/scipy/optimize/optimize.py:761: RuntimeWarning: invalid value encountered in subtract\n",
      "  np.max(np.abs(fsim[0] - fsim[1:])) <= fatol):\n",
      "/home/smish/miniconda/envs/orion-tuning/lib/python3.7/site-packages/scipy/optimize/optimize.py:761: RuntimeWarning: invalid value encountered in subtract\n",
      "  np.max(np.abs(fsim[0] - fsim[1:])) <= fatol):\n",
      "DEBUG:orion.tune:Actual {'start': {}, 'end': {}} - Found []\n",
      "/home/smish/miniconda/envs/orion-tuning/lib/python3.7/site-packages/orion/evaluation/common.py:43: RuntimeWarning: invalid value encountered in long_scalars\n",
      "  return tp / (tp + fp)\n",
      "/home/smish/miniconda/envs/orion-tuning/lib/python3.7/site-packages/orion/evaluation/common.py:56: RuntimeWarning: invalid value encountered in long_scalars\n",
      "  return tp / (tp + fn)\n",
      "DEBUG:mlblocks.mlpipeline:Producing block mlprimitives.custom.timeseries_preprocessing.time_segments_aggregate#1\n",
      "DEBUG:mlblocks.mlpipeline:Producing block sklearn.impute.SimpleImputer#1\n",
      "DEBUG:mlblocks.mlpipeline:Producing block sklearn.preprocessing.MinMaxScaler#1\n",
      "DEBUG:mlblocks.mlpipeline:Producing block mlprimitives.custom.timeseries_preprocessing.rolling_window_sequences#1\n",
      "DEBUG:mlblocks.mlpipeline:Producing block keras.Sequential.LSTMTimeSeriesRegressor#1\n"
     ]
    },
    {
     "name": "stdout",
     "output_type": "stream",
     "text": [
      "11146/11146 [==============================] - 14s 1ms/step\n"
     ]
    },
    {
     "name": "stderr",
     "output_type": "stream",
     "text": [
      "DEBUG:mlblocks.mlpipeline:Producing block mlprimitives.custom.timeseries_preprocessing.time_segments_aggregate#1\n",
      "DEBUG:mlblocks.mlpipeline:Producing block sklearn.impute.SimpleImputer#1\n",
      "DEBUG:mlblocks.mlpipeline:Producing block sklearn.preprocessing.MinMaxScaler#1\n",
      "DEBUG:mlblocks.mlpipeline:Producing block mlprimitives.custom.timeseries_preprocessing.rolling_window_sequences#1\n",
      "DEBUG:mlblocks.mlpipeline:Producing block keras.Sequential.LSTMTimeSeriesRegressor#1\n"
     ]
    },
    {
     "name": "stdout",
     "output_type": "stream",
     "text": [
      "3549/3549 [==============================] - 5s 1ms/step\n"
     ]
    },
    {
     "name": "stderr",
     "output_type": "stream",
     "text": [
      "DEBUG:mlblocks.mlpipeline:Fitting block orion.primitives.timeseries_errors.regression_errors#1\n",
      "DEBUG:mlblocks.mlpipeline:Producing block orion.primitives.timeseries_errors.regression_errors#1\n",
      "DEBUG:mlblocks.mlpipeline:Fitting block orion.primitives.timeseries_anomalies.find_anomalies#1\n",
      "DEBUG:mlblocks.mlpipeline:Producing block orion.primitives.timeseries_errors.regression_errors#1\n",
      "DEBUG:mlblocks.mlpipeline:Producing block orion.primitives.timeseries_anomalies.find_anomalies#1\n",
      "/home/smish/miniconda/envs/orion-tuning/lib/python3.7/site-packages/scipy/optimize/optimize.py:761: RuntimeWarning: invalid value encountered in subtract\n",
      "  np.max(np.abs(fsim[0] - fsim[1:])) <= fatol):\n",
      "/home/smish/miniconda/envs/orion-tuning/lib/python3.7/site-packages/scipy/optimize/optimize.py:761: RuntimeWarning: invalid value encountered in subtract\n",
      "  np.max(np.abs(fsim[0] - fsim[1:])) <= fatol):\n",
      "/home/smish/miniconda/envs/orion-tuning/lib/python3.7/site-packages/scipy/optimize/optimize.py:761: RuntimeWarning: invalid value encountered in subtract\n",
      "  np.max(np.abs(fsim[0] - fsim[1:])) <= fatol):\n",
      "/home/smish/miniconda/envs/orion-tuning/lib/python3.7/site-packages/scipy/optimize/optimize.py:761: RuntimeWarning: invalid value encountered in subtract\n",
      "  np.max(np.abs(fsim[0] - fsim[1:])) <= fatol):\n",
      "DEBUG:orion.tune:Actual {'start': {}, 'end': {}} - Found []\n",
      "/home/smish/miniconda/envs/orion-tuning/lib/python3.7/site-packages/orion/evaluation/common.py:43: RuntimeWarning: invalid value encountered in long_scalars\n",
      "  return tp / (tp + fp)\n",
      "/home/smish/miniconda/envs/orion-tuning/lib/python3.7/site-packages/orion/evaluation/common.py:56: RuntimeWarning: invalid value encountered in long_scalars\n",
      "  return tp / (tp + fn)\n",
      "DEBUG:mlblocks.mlpipeline:Producing block mlprimitives.custom.timeseries_preprocessing.time_segments_aggregate#1\n",
      "DEBUG:mlblocks.mlpipeline:Producing block sklearn.impute.SimpleImputer#1\n",
      "DEBUG:mlblocks.mlpipeline:Producing block sklearn.preprocessing.MinMaxScaler#1\n",
      "DEBUG:mlblocks.mlpipeline:Producing block mlprimitives.custom.timeseries_preprocessing.rolling_window_sequences#1\n",
      "DEBUG:mlblocks.mlpipeline:Producing block keras.Sequential.LSTMTimeSeriesRegressor#1\n"
     ]
    },
    {
     "name": "stdout",
     "output_type": "stream",
     "text": [
      "7348/7348 [==============================] - 9s 1ms/step\n"
     ]
    },
    {
     "name": "stderr",
     "output_type": "stream",
     "text": [
      "DEBUG:mlblocks.mlpipeline:Producing block mlprimitives.custom.timeseries_preprocessing.time_segments_aggregate#1\n",
      "DEBUG:mlblocks.mlpipeline:Producing block sklearn.impute.SimpleImputer#1\n",
      "DEBUG:mlblocks.mlpipeline:Producing block sklearn.preprocessing.MinMaxScaler#1\n",
      "DEBUG:mlblocks.mlpipeline:Producing block mlprimitives.custom.timeseries_preprocessing.rolling_window_sequences#1\n",
      "DEBUG:mlblocks.mlpipeline:Producing block keras.Sequential.LSTMTimeSeriesRegressor#1\n"
     ]
    },
    {
     "name": "stdout",
     "output_type": "stream",
     "text": [
      "3548/3548 [==============================] - 4s 1ms/step\n"
     ]
    },
    {
     "name": "stderr",
     "output_type": "stream",
     "text": [
      "DEBUG:mlblocks.mlpipeline:Fitting block orion.primitives.timeseries_errors.regression_errors#1\n",
      "DEBUG:mlblocks.mlpipeline:Producing block orion.primitives.timeseries_errors.regression_errors#1\n",
      "DEBUG:mlblocks.mlpipeline:Fitting block orion.primitives.timeseries_anomalies.find_anomalies#1\n",
      "DEBUG:mlblocks.mlpipeline:Producing block orion.primitives.timeseries_errors.regression_errors#1\n",
      "DEBUG:mlblocks.mlpipeline:Producing block orion.primitives.timeseries_anomalies.find_anomalies#1\n",
      "/home/smish/miniconda/envs/orion-tuning/lib/python3.7/site-packages/scipy/optimize/optimize.py:761: RuntimeWarning: invalid value encountered in subtract\n",
      "  np.max(np.abs(fsim[0] - fsim[1:])) <= fatol):\n",
      "/home/smish/miniconda/envs/orion-tuning/lib/python3.7/site-packages/scipy/optimize/optimize.py:761: RuntimeWarning: invalid value encountered in subtract\n",
      "  np.max(np.abs(fsim[0] - fsim[1:])) <= fatol):\n",
      "/home/smish/miniconda/envs/orion-tuning/lib/python3.7/site-packages/scipy/optimize/optimize.py:761: RuntimeWarning: invalid value encountered in subtract\n",
      "  np.max(np.abs(fsim[0] - fsim[1:])) <= fatol):\n",
      "/home/smish/miniconda/envs/orion-tuning/lib/python3.7/site-packages/scipy/optimize/optimize.py:761: RuntimeWarning: invalid value encountered in subtract\n",
      "  np.max(np.abs(fsim[0] - fsim[1:])) <= fatol):\n",
      "/home/smish/miniconda/envs/orion-tuning/lib/python3.7/site-packages/scipy/optimize/optimize.py:761: RuntimeWarning: invalid value encountered in subtract\n",
      "  np.max(np.abs(fsim[0] - fsim[1:])) <= fatol):\n",
      "DEBUG:orion.tune:Actual {'start': {0: 1393027200.0, 1: 1406203200.0}, 'end': {0: 1393675200.0, 1: 1416484800.0}} - Found []\n",
      "/home/smish/miniconda/envs/orion-tuning/lib/python3.7/site-packages/orion/evaluation/common.py:43: RuntimeWarning: invalid value encountered in double_scalars\n",
      "  return tp / (tp + fp)\n",
      "/home/smish/miniconda/envs/orion-tuning/lib/python3.7/site-packages/orion/tune.py:125: RuntimeWarning: Mean of empty slice\n",
      "  return np.nanmean(scores)\n",
      "DEBUG:orion.tune:Proposal {('orion.primitives.timeseries_errors.regression_errors#1', 'smooth'): True, ('orion.primitives.timeseries_errors.regression_errors#1', 'smoothing_window'): 0.04876479033182113, ('orion.primitives.timeseries_anomalies.find_anomalies#1', 'window_size_portion'): 0.52935457850331, ('orion.primitives.timeseries_anomalies.find_anomalies#1', 'window_step_size_portion'): 0.23458026678565821, ('orion.primitives.timeseries_anomalies.find_anomalies#1', 'min_percent'): 0.7973321980975436, ('orion.primitives.timeseries_anomalies.find_anomalies#1', 'anomaly_padding'): 249} scored nan\n",
      "DEBUG:orion.tune:Recorded score 0.004996\n",
      "DEBUG:btb.tuning.tuners.base:Fitting the model with 9 samples.\n",
      "DEBUG:orion.tune:Scoring proposal 8: {('orion.primitives.timeseries_errors.regression_errors#1', 'smooth'): True, ('orion.primitives.timeseries_errors.regression_errors#1', 'smoothing_window'): 0.07443177332110225, ('orion.primitives.timeseries_anomalies.find_anomalies#1', 'window_size_portion'): 0.6683151865529801, ('orion.primitives.timeseries_anomalies.find_anomalies#1', 'window_step_size_portion'): 0.35651420229162223, ('orion.primitives.timeseries_anomalies.find_anomalies#1', 'min_percent'): 0.5194787169865284, ('orion.primitives.timeseries_anomalies.find_anomalies#1', 'anomaly_padding'): 237}\n",
      "DEBUG:mlblocks.mlpipeline:Producing block mlprimitives.custom.timeseries_preprocessing.time_segments_aggregate#1\n",
      "DEBUG:mlblocks.mlpipeline:Producing block sklearn.impute.SimpleImputer#1\n",
      "DEBUG:mlblocks.mlpipeline:Producing block sklearn.preprocessing.MinMaxScaler#1\n",
      "DEBUG:mlblocks.mlpipeline:Producing block mlprimitives.custom.timeseries_preprocessing.rolling_window_sequences#1\n",
      "DEBUG:mlblocks.mlpipeline:Producing block keras.Sequential.LSTMTimeSeriesRegressor#1\n"
     ]
    },
    {
     "name": "stdout",
     "output_type": "stream",
     "text": [
      "7347/7347 [==============================] - 9s 1ms/step\n"
     ]
    },
    {
     "name": "stderr",
     "output_type": "stream",
     "text": [
      "DEBUG:mlblocks.mlpipeline:Producing block mlprimitives.custom.timeseries_preprocessing.time_segments_aggregate#1\n",
      "DEBUG:mlblocks.mlpipeline:Producing block sklearn.impute.SimpleImputer#1\n",
      "DEBUG:mlblocks.mlpipeline:Producing block sklearn.preprocessing.MinMaxScaler#1\n",
      "DEBUG:mlblocks.mlpipeline:Producing block mlprimitives.custom.timeseries_preprocessing.rolling_window_sequences#1\n",
      "DEBUG:mlblocks.mlpipeline:Producing block keras.Sequential.LSTMTimeSeriesRegressor#1\n"
     ]
    },
    {
     "name": "stdout",
     "output_type": "stream",
     "text": [
      "3549/3549 [==============================] - 4s 1ms/step\n"
     ]
    },
    {
     "name": "stderr",
     "output_type": "stream",
     "text": [
      "DEBUG:mlblocks.mlpipeline:Fitting block orion.primitives.timeseries_errors.regression_errors#1\n",
      "DEBUG:mlblocks.mlpipeline:Producing block orion.primitives.timeseries_errors.regression_errors#1\n",
      "DEBUG:mlblocks.mlpipeline:Fitting block orion.primitives.timeseries_anomalies.find_anomalies#1\n",
      "DEBUG:mlblocks.mlpipeline:Producing block orion.primitives.timeseries_errors.regression_errors#1\n",
      "DEBUG:mlblocks.mlpipeline:Producing block orion.primitives.timeseries_anomalies.find_anomalies#1\n",
      "/home/smish/miniconda/envs/orion-tuning/lib/python3.7/site-packages/scipy/optimize/optimize.py:761: RuntimeWarning: invalid value encountered in subtract\n",
      "  np.max(np.abs(fsim[0] - fsim[1:])) <= fatol):\n",
      "/home/smish/miniconda/envs/orion-tuning/lib/python3.7/site-packages/scipy/optimize/optimize.py:761: RuntimeWarning: invalid value encountered in subtract\n",
      "  np.max(np.abs(fsim[0] - fsim[1:])) <= fatol):\n",
      "/home/smish/miniconda/envs/orion-tuning/lib/python3.7/site-packages/scipy/optimize/optimize.py:761: RuntimeWarning: invalid value encountered in subtract\n",
      "  np.max(np.abs(fsim[0] - fsim[1:])) <= fatol):\n",
      "DEBUG:orion.tune:Actual {'start': {}, 'end': {}} - Found []\n",
      "/home/smish/miniconda/envs/orion-tuning/lib/python3.7/site-packages/orion/evaluation/common.py:43: RuntimeWarning: invalid value encountered in long_scalars\n",
      "  return tp / (tp + fp)\n",
      "/home/smish/miniconda/envs/orion-tuning/lib/python3.7/site-packages/orion/evaluation/common.py:56: RuntimeWarning: invalid value encountered in long_scalars\n",
      "  return tp / (tp + fn)\n",
      "DEBUG:mlblocks.mlpipeline:Producing block mlprimitives.custom.timeseries_preprocessing.time_segments_aggregate#1\n",
      "DEBUG:mlblocks.mlpipeline:Producing block sklearn.impute.SimpleImputer#1\n",
      "DEBUG:mlblocks.mlpipeline:Producing block sklearn.preprocessing.MinMaxScaler#1\n",
      "DEBUG:mlblocks.mlpipeline:Producing block mlprimitives.custom.timeseries_preprocessing.rolling_window_sequences#1\n",
      "DEBUG:mlblocks.mlpipeline:Producing block keras.Sequential.LSTMTimeSeriesRegressor#1\n"
     ]
    },
    {
     "name": "stdout",
     "output_type": "stream",
     "text": [
      "11146/11146 [==============================] - 14s 1ms/step\n"
     ]
    },
    {
     "name": "stderr",
     "output_type": "stream",
     "text": [
      "DEBUG:mlblocks.mlpipeline:Producing block mlprimitives.custom.timeseries_preprocessing.time_segments_aggregate#1\n",
      "DEBUG:mlblocks.mlpipeline:Producing block sklearn.impute.SimpleImputer#1\n",
      "DEBUG:mlblocks.mlpipeline:Producing block sklearn.preprocessing.MinMaxScaler#1\n",
      "DEBUG:mlblocks.mlpipeline:Producing block mlprimitives.custom.timeseries_preprocessing.rolling_window_sequences#1\n",
      "DEBUG:mlblocks.mlpipeline:Producing block keras.Sequential.LSTMTimeSeriesRegressor#1\n"
     ]
    },
    {
     "name": "stdout",
     "output_type": "stream",
     "text": [
      "3549/3549 [==============================] - 5s 1ms/step\n"
     ]
    },
    {
     "name": "stderr",
     "output_type": "stream",
     "text": [
      "DEBUG:mlblocks.mlpipeline:Fitting block orion.primitives.timeseries_errors.regression_errors#1\n",
      "DEBUG:mlblocks.mlpipeline:Producing block orion.primitives.timeseries_errors.regression_errors#1\n",
      "DEBUG:mlblocks.mlpipeline:Fitting block orion.primitives.timeseries_anomalies.find_anomalies#1\n",
      "DEBUG:mlblocks.mlpipeline:Producing block orion.primitives.timeseries_errors.regression_errors#1\n",
      "DEBUG:mlblocks.mlpipeline:Producing block orion.primitives.timeseries_anomalies.find_anomalies#1\n",
      "/home/smish/miniconda/envs/orion-tuning/lib/python3.7/site-packages/scipy/optimize/optimize.py:761: RuntimeWarning: invalid value encountered in subtract\n",
      "  np.max(np.abs(fsim[0] - fsim[1:])) <= fatol):\n",
      "/home/smish/miniconda/envs/orion-tuning/lib/python3.7/site-packages/scipy/optimize/optimize.py:761: RuntimeWarning: invalid value encountered in subtract\n",
      "  np.max(np.abs(fsim[0] - fsim[1:])) <= fatol):\n",
      "DEBUG:orion.tune:Actual {'start': {}, 'end': {}} - Found [[1.31027760e+09 1.31554800e+09 8.35974404e-01]]\n",
      "/home/smish/miniconda/envs/orion-tuning/lib/python3.7/site-packages/orion/evaluation/common.py:56: RuntimeWarning: invalid value encountered in long_scalars\n",
      "  return tp / (tp + fn)\n",
      "DEBUG:mlblocks.mlpipeline:Producing block mlprimitives.custom.timeseries_preprocessing.time_segments_aggregate#1\n",
      "DEBUG:mlblocks.mlpipeline:Producing block sklearn.impute.SimpleImputer#1\n",
      "DEBUG:mlblocks.mlpipeline:Producing block sklearn.preprocessing.MinMaxScaler#1\n",
      "DEBUG:mlblocks.mlpipeline:Producing block mlprimitives.custom.timeseries_preprocessing.rolling_window_sequences#1\n",
      "DEBUG:mlblocks.mlpipeline:Producing block keras.Sequential.LSTMTimeSeriesRegressor#1\n"
     ]
    },
    {
     "name": "stdout",
     "output_type": "stream",
     "text": [
      "7348/7348 [==============================] - 9s 1ms/step\n"
     ]
    },
    {
     "name": "stderr",
     "output_type": "stream",
     "text": [
      "DEBUG:mlblocks.mlpipeline:Producing block mlprimitives.custom.timeseries_preprocessing.time_segments_aggregate#1\n",
      "DEBUG:mlblocks.mlpipeline:Producing block sklearn.impute.SimpleImputer#1\n",
      "DEBUG:mlblocks.mlpipeline:Producing block sklearn.preprocessing.MinMaxScaler#1\n",
      "DEBUG:mlblocks.mlpipeline:Producing block mlprimitives.custom.timeseries_preprocessing.rolling_window_sequences#1\n",
      "DEBUG:mlblocks.mlpipeline:Producing block keras.Sequential.LSTMTimeSeriesRegressor#1\n"
     ]
    },
    {
     "name": "stdout",
     "output_type": "stream",
     "text": [
      "3548/3548 [==============================] - 5s 1ms/step\n"
     ]
    },
    {
     "name": "stderr",
     "output_type": "stream",
     "text": [
      "DEBUG:mlblocks.mlpipeline:Fitting block orion.primitives.timeseries_errors.regression_errors#1\n",
      "DEBUG:mlblocks.mlpipeline:Producing block orion.primitives.timeseries_errors.regression_errors#1\n",
      "DEBUG:mlblocks.mlpipeline:Fitting block orion.primitives.timeseries_anomalies.find_anomalies#1\n",
      "DEBUG:mlblocks.mlpipeline:Producing block orion.primitives.timeseries_errors.regression_errors#1\n",
      "DEBUG:mlblocks.mlpipeline:Producing block orion.primitives.timeseries_anomalies.find_anomalies#1\n",
      "/home/smish/miniconda/envs/orion-tuning/lib/python3.7/site-packages/scipy/optimize/optimize.py:761: RuntimeWarning: invalid value encountered in subtract\n",
      "  np.max(np.abs(fsim[0] - fsim[1:])) <= fatol):\n",
      "/home/smish/miniconda/envs/orion-tuning/lib/python3.7/site-packages/scipy/optimize/optimize.py:761: RuntimeWarning: invalid value encountered in subtract\n",
      "  np.max(np.abs(fsim[0] - fsim[1:])) <= fatol):\n",
      "/home/smish/miniconda/envs/orion-tuning/lib/python3.7/site-packages/scipy/optimize/optimize.py:761: RuntimeWarning: invalid value encountered in subtract\n",
      "  np.max(np.abs(fsim[0] - fsim[1:])) <= fatol):\n",
      "DEBUG:orion.tune:Actual {'start': {0: 1393027200.0, 1: 1406203200.0}, 'end': {0: 1393675200.0, 1: 1416484800.0}} - Found [[1.41060960e+09 1.41689520e+09 3.08418365e-01]]\n",
      "DEBUG:orion.tune:Proposal {('orion.primitives.timeseries_errors.regression_errors#1', 'smooth'): True, ('orion.primitives.timeseries_errors.regression_errors#1', 'smoothing_window'): 0.07443177332110225, ('orion.primitives.timeseries_anomalies.find_anomalies#1', 'window_size_portion'): 0.6683151865529801, ('orion.primitives.timeseries_anomalies.find_anomalies#1', 'window_step_size_portion'): 0.35651420229162223, ('orion.primitives.timeseries_anomalies.find_anomalies#1', 'min_percent'): 0.5194787169865284, ('orion.primitives.timeseries_anomalies.find_anomalies#1', 'anomaly_padding'): 237} scored 0.682560\n",
      "DEBUG:orion.tune:Recorded score 0.682560\n",
      "DEBUG:btb.tuning.tuners.base:Fitting the model with 10 samples.\n",
      "DEBUG:orion.tune:Scoring proposal 9: {('orion.primitives.timeseries_errors.regression_errors#1', 'smooth'): True, ('orion.primitives.timeseries_errors.regression_errors#1', 'smoothing_window'): 0.06343112350846256, ('orion.primitives.timeseries_anomalies.find_anomalies#1', 'window_size_portion'): 0.7248963127406265, ('orion.primitives.timeseries_anomalies.find_anomalies#1', 'window_step_size_portion'): 0.16178634312423915, ('orion.primitives.timeseries_anomalies.find_anomalies#1', 'min_percent'): 0.5330553361803967, ('orion.primitives.timeseries_anomalies.find_anomalies#1', 'anomaly_padding'): 118}\n",
      "DEBUG:mlblocks.mlpipeline:Producing block mlprimitives.custom.timeseries_preprocessing.time_segments_aggregate#1\n",
      "DEBUG:mlblocks.mlpipeline:Producing block sklearn.impute.SimpleImputer#1\n",
      "DEBUG:mlblocks.mlpipeline:Producing block sklearn.preprocessing.MinMaxScaler#1\n",
      "DEBUG:mlblocks.mlpipeline:Producing block mlprimitives.custom.timeseries_preprocessing.rolling_window_sequences#1\n",
      "DEBUG:mlblocks.mlpipeline:Producing block keras.Sequential.LSTMTimeSeriesRegressor#1\n"
     ]
    },
    {
     "name": "stdout",
     "output_type": "stream",
     "text": [
      "7347/7347 [==============================] - 9s 1ms/step\n"
     ]
    },
    {
     "name": "stderr",
     "output_type": "stream",
     "text": [
      "DEBUG:mlblocks.mlpipeline:Producing block mlprimitives.custom.timeseries_preprocessing.time_segments_aggregate#1\n",
      "DEBUG:mlblocks.mlpipeline:Producing block sklearn.impute.SimpleImputer#1\n",
      "DEBUG:mlblocks.mlpipeline:Producing block sklearn.preprocessing.MinMaxScaler#1\n",
      "DEBUG:mlblocks.mlpipeline:Producing block mlprimitives.custom.timeseries_preprocessing.rolling_window_sequences#1\n",
      "DEBUG:mlblocks.mlpipeline:Producing block keras.Sequential.LSTMTimeSeriesRegressor#1\n"
     ]
    },
    {
     "name": "stdout",
     "output_type": "stream",
     "text": [
      "3549/3549 [==============================] - 4s 1ms/step\n"
     ]
    },
    {
     "name": "stderr",
     "output_type": "stream",
     "text": [
      "DEBUG:mlblocks.mlpipeline:Fitting block orion.primitives.timeseries_errors.regression_errors#1\n",
      "DEBUG:mlblocks.mlpipeline:Producing block orion.primitives.timeseries_errors.regression_errors#1\n",
      "DEBUG:mlblocks.mlpipeline:Fitting block orion.primitives.timeseries_anomalies.find_anomalies#1\n",
      "DEBUG:mlblocks.mlpipeline:Producing block orion.primitives.timeseries_errors.regression_errors#1\n",
      "DEBUG:mlblocks.mlpipeline:Producing block orion.primitives.timeseries_anomalies.find_anomalies#1\n",
      "/home/smish/miniconda/envs/orion-tuning/lib/python3.7/site-packages/scipy/optimize/optimize.py:761: RuntimeWarning: invalid value encountered in subtract\n",
      "  np.max(np.abs(fsim[0] - fsim[1:])) <= fatol):\n",
      "/home/smish/miniconda/envs/orion-tuning/lib/python3.7/site-packages/scipy/optimize/optimize.py:761: RuntimeWarning: invalid value encountered in subtract\n",
      "  np.max(np.abs(fsim[0] - fsim[1:])) <= fatol):\n",
      "/home/smish/miniconda/envs/orion-tuning/lib/python3.7/site-packages/scipy/optimize/optimize.py:761: RuntimeWarning: invalid value encountered in subtract\n",
      "  np.max(np.abs(fsim[0] - fsim[1:])) <= fatol):\n",
      "/home/smish/miniconda/envs/orion-tuning/lib/python3.7/site-packages/scipy/optimize/optimize.py:761: RuntimeWarning: invalid value encountered in subtract\n",
      "  np.max(np.abs(fsim[0] - fsim[1:])) <= fatol):\n",
      "DEBUG:orion.tune:Actual {'start': {}, 'end': {}} - Found []\n",
      "/home/smish/miniconda/envs/orion-tuning/lib/python3.7/site-packages/orion/evaluation/common.py:43: RuntimeWarning: invalid value encountered in long_scalars\n",
      "  return tp / (tp + fp)\n",
      "/home/smish/miniconda/envs/orion-tuning/lib/python3.7/site-packages/orion/evaluation/common.py:56: RuntimeWarning: invalid value encountered in long_scalars\n",
      "  return tp / (tp + fn)\n",
      "DEBUG:mlblocks.mlpipeline:Producing block mlprimitives.custom.timeseries_preprocessing.time_segments_aggregate#1\n",
      "DEBUG:mlblocks.mlpipeline:Producing block sklearn.impute.SimpleImputer#1\n",
      "DEBUG:mlblocks.mlpipeline:Producing block sklearn.preprocessing.MinMaxScaler#1\n",
      "DEBUG:mlblocks.mlpipeline:Producing block mlprimitives.custom.timeseries_preprocessing.rolling_window_sequences#1\n",
      "DEBUG:mlblocks.mlpipeline:Producing block keras.Sequential.LSTMTimeSeriesRegressor#1\n"
     ]
    },
    {
     "name": "stdout",
     "output_type": "stream",
     "text": [
      "11146/11146 [==============================] - 14s 1ms/step\n"
     ]
    },
    {
     "name": "stderr",
     "output_type": "stream",
     "text": [
      "DEBUG:mlblocks.mlpipeline:Producing block mlprimitives.custom.timeseries_preprocessing.time_segments_aggregate#1\n",
      "DEBUG:mlblocks.mlpipeline:Producing block sklearn.impute.SimpleImputer#1\n",
      "DEBUG:mlblocks.mlpipeline:Producing block sklearn.preprocessing.MinMaxScaler#1\n",
      "DEBUG:mlblocks.mlpipeline:Producing block mlprimitives.custom.timeseries_preprocessing.rolling_window_sequences#1\n",
      "DEBUG:mlblocks.mlpipeline:Producing block keras.Sequential.LSTMTimeSeriesRegressor#1\n"
     ]
    },
    {
     "name": "stdout",
     "output_type": "stream",
     "text": [
      "3549/3549 [==============================] - 5s 1ms/step\n"
     ]
    },
    {
     "name": "stderr",
     "output_type": "stream",
     "text": [
      "DEBUG:mlblocks.mlpipeline:Fitting block orion.primitives.timeseries_errors.regression_errors#1\n",
      "DEBUG:mlblocks.mlpipeline:Producing block orion.primitives.timeseries_errors.regression_errors#1\n",
      "DEBUG:mlblocks.mlpipeline:Fitting block orion.primitives.timeseries_anomalies.find_anomalies#1\n",
      "DEBUG:mlblocks.mlpipeline:Producing block orion.primitives.timeseries_errors.regression_errors#1\n",
      "DEBUG:mlblocks.mlpipeline:Producing block orion.primitives.timeseries_anomalies.find_anomalies#1\n",
      "/home/smish/miniconda/envs/orion-tuning/lib/python3.7/site-packages/scipy/optimize/optimize.py:761: RuntimeWarning: invalid value encountered in subtract\n",
      "  np.max(np.abs(fsim[0] - fsim[1:])) <= fatol):\n",
      "/home/smish/miniconda/envs/orion-tuning/lib/python3.7/site-packages/scipy/optimize/optimize.py:761: RuntimeWarning: invalid value encountered in subtract\n",
      "  np.max(np.abs(fsim[0] - fsim[1:])) <= fatol):\n",
      "/home/smish/miniconda/envs/orion-tuning/lib/python3.7/site-packages/scipy/optimize/optimize.py:761: RuntimeWarning: invalid value encountered in subtract\n",
      "  np.max(np.abs(fsim[0] - fsim[1:])) <= fatol):\n",
      "DEBUG:orion.tune:Actual {'start': {}, 'end': {}} - Found [[1.31027760e+09 1.31297760e+09 8.56805751e-01]]\n",
      "/home/smish/miniconda/envs/orion-tuning/lib/python3.7/site-packages/orion/evaluation/common.py:56: RuntimeWarning: invalid value encountered in long_scalars\n",
      "  return tp / (tp + fn)\n",
      "DEBUG:mlblocks.mlpipeline:Producing block mlprimitives.custom.timeseries_preprocessing.time_segments_aggregate#1\n",
      "DEBUG:mlblocks.mlpipeline:Producing block sklearn.impute.SimpleImputer#1\n",
      "DEBUG:mlblocks.mlpipeline:Producing block sklearn.preprocessing.MinMaxScaler#1\n",
      "DEBUG:mlblocks.mlpipeline:Producing block mlprimitives.custom.timeseries_preprocessing.rolling_window_sequences#1\n",
      "DEBUG:mlblocks.mlpipeline:Producing block keras.Sequential.LSTMTimeSeriesRegressor#1\n"
     ]
    },
    {
     "name": "stdout",
     "output_type": "stream",
     "text": [
      "7348/7348 [==============================] - 9s 1ms/step\n"
     ]
    },
    {
     "name": "stderr",
     "output_type": "stream",
     "text": [
      "DEBUG:mlblocks.mlpipeline:Producing block mlprimitives.custom.timeseries_preprocessing.time_segments_aggregate#1\n",
      "DEBUG:mlblocks.mlpipeline:Producing block sklearn.impute.SimpleImputer#1\n",
      "DEBUG:mlblocks.mlpipeline:Producing block sklearn.preprocessing.MinMaxScaler#1\n",
      "DEBUG:mlblocks.mlpipeline:Producing block mlprimitives.custom.timeseries_preprocessing.rolling_window_sequences#1\n",
      "DEBUG:mlblocks.mlpipeline:Producing block keras.Sequential.LSTMTimeSeriesRegressor#1\n"
     ]
    },
    {
     "name": "stdout",
     "output_type": "stream",
     "text": [
      "3548/3548 [==============================] - 5s 1ms/step\n"
     ]
    },
    {
     "name": "stderr",
     "output_type": "stream",
     "text": [
      "DEBUG:mlblocks.mlpipeline:Fitting block orion.primitives.timeseries_errors.regression_errors#1\n",
      "DEBUG:mlblocks.mlpipeline:Producing block orion.primitives.timeseries_errors.regression_errors#1\n",
      "DEBUG:mlblocks.mlpipeline:Fitting block orion.primitives.timeseries_anomalies.find_anomalies#1\n",
      "DEBUG:mlblocks.mlpipeline:Producing block orion.primitives.timeseries_errors.regression_errors#1\n",
      "DEBUG:mlblocks.mlpipeline:Producing block orion.primitives.timeseries_anomalies.find_anomalies#1\n",
      "/home/smish/miniconda/envs/orion-tuning/lib/python3.7/site-packages/scipy/optimize/optimize.py:761: RuntimeWarning: invalid value encountered in subtract\n",
      "  np.max(np.abs(fsim[0] - fsim[1:])) <= fatol):\n",
      "/home/smish/miniconda/envs/orion-tuning/lib/python3.7/site-packages/scipy/optimize/optimize.py:761: RuntimeWarning: invalid value encountered in subtract\n",
      "  np.max(np.abs(fsim[0] - fsim[1:])) <= fatol):\n",
      "/home/smish/miniconda/envs/orion-tuning/lib/python3.7/site-packages/scipy/optimize/optimize.py:761: RuntimeWarning: invalid value encountered in subtract\n",
      "  np.max(np.abs(fsim[0] - fsim[1:])) <= fatol):\n",
      "/home/smish/miniconda/envs/orion-tuning/lib/python3.7/site-packages/scipy/optimize/optimize.py:761: RuntimeWarning: invalid value encountered in subtract\n",
      "  np.max(np.abs(fsim[0] - fsim[1:])) <= fatol):\n",
      "DEBUG:orion.tune:Actual {'start': {0: 1393027200.0, 1: 1406203200.0}, 'end': {0: 1393675200.0, 1: 1416484800.0}} - Found [[1.40680800e+09 1.41436800e+09 3.76879486e-01]]\n",
      "DEBUG:orion.tune:Proposal {('orion.primitives.timeseries_errors.regression_errors#1', 'smooth'): True, ('orion.primitives.timeseries_errors.regression_errors#1', 'smoothing_window'): 0.06343112350846256, ('orion.primitives.timeseries_anomalies.find_anomalies#1', 'window_size_portion'): 0.7248963127406265, ('orion.primitives.timeseries_anomalies.find_anomalies#1', 'window_step_size_portion'): 0.16178634312423915, ('orion.primitives.timeseries_anomalies.find_anomalies#1', 'min_percent'): 0.5330553361803967, ('orion.primitives.timeseries_anomalies.find_anomalies#1', 'anomaly_padding'): 118} scored 0.817757\n",
      "DEBUG:orion.tune:Recorded score 0.817757\n",
      "DEBUG:btb.tuning.tuners.base:Fitting the model with 11 samples.\n"
     ]
    }
   ],
   "source": [
    "ort.tune(data=data, anomalies=anomalies, train=train, scorer='f1', post=True)"
   ]
  },
  {
   "cell_type": "code",
   "execution_count": 7,
   "id": "a4b93037",
   "metadata": {},
   "outputs": [
    {
     "data": {
      "text/plain": [
       "{('orion.primitives.timeseries_errors.regression_errors#1', 'smooth'): True,\n",
       " ('orion.primitives.timeseries_errors.regression_errors#1',\n",
       "  'smoothing_window'): 0.04592411972747784,\n",
       " ('orion.primitives.timeseries_anomalies.find_anomalies#1',\n",
       "  'window_size_portion'): 0.6124106334714711,\n",
       " ('orion.primitives.timeseries_anomalies.find_anomalies#1',\n",
       "  'window_step_size_portion'): 0.19514290286887823,\n",
       " ('orion.primitives.timeseries_anomalies.find_anomalies#1',\n",
       "  'min_percent'): 0.7342218569612162,\n",
       " ('orion.primitives.timeseries_anomalies.find_anomalies#1',\n",
       "  'anomaly_padding'): 183}"
      ]
     },
     "execution_count": 7,
     "metadata": {},
     "output_type": "execute_result"
    }
   ],
   "source": [
    "ort.tuned"
   ]
  }
 ],
 "metadata": {
  "kernelspec": {
   "display_name": "Python 3 (ipykernel)",
   "language": "python",
   "name": "python3"
  },
  "language_info": {
   "codemirror_mode": {
    "name": "ipython",
    "version": 3
   },
   "file_extension": ".py",
   "mimetype": "text/x-python",
   "name": "python",
   "nbconvert_exporter": "python",
   "pygments_lexer": "ipython3",
   "version": "3.7.11"
  }
 },
 "nbformat": 4,
 "nbformat_minor": 5
}
